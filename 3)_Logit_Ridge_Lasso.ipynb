{
 "cells": [
  {
   "cell_type": "code",
   "execution_count": null,
   "metadata": {
    "colab": {
     "base_uri": "https://localhost:8080/"
    },
    "id": "9a76fX6My7iM",
    "outputId": "bb489fe5-0ee1-42e9-8dda-4a52f1190d14"
   },
   "outputs": [
    {
     "name": "stdout",
     "output_type": "stream",
     "text": [
      "Requirement already satisfied: DMBA in /usr/local/lib/python3.10/dist-packages (0.2.4)\n",
      "Requirement already satisfied: mord in /usr/local/lib/python3.10/dist-packages (0.7)\n",
      "Requirement already satisfied: graphviz in /usr/local/lib/python3.10/dist-packages (from DMBA) (0.20.3)\n",
      "Requirement already satisfied: matplotlib in /usr/local/lib/python3.10/dist-packages (from DMBA) (3.8.0)\n",
      "Requirement already satisfied: numpy in /usr/local/lib/python3.10/dist-packages (from DMBA) (1.26.4)\n",
      "Requirement already satisfied: pandas in /usr/local/lib/python3.10/dist-packages (from DMBA) (2.2.2)\n",
      "Requirement already satisfied: scikit-learn in /usr/local/lib/python3.10/dist-packages (from DMBA) (1.5.2)\n",
      "Requirement already satisfied: scipy in /usr/local/lib/python3.10/dist-packages (from DMBA) (1.13.1)\n",
      "Requirement already satisfied: contourpy>=1.0.1 in /usr/local/lib/python3.10/dist-packages (from matplotlib->DMBA) (1.3.1)\n",
      "Requirement already satisfied: cycler>=0.10 in /usr/local/lib/python3.10/dist-packages (from matplotlib->DMBA) (0.12.1)\n",
      "Requirement already satisfied: fonttools>=4.22.0 in /usr/local/lib/python3.10/dist-packages (from matplotlib->DMBA) (4.55.0)\n",
      "Requirement already satisfied: kiwisolver>=1.0.1 in /usr/local/lib/python3.10/dist-packages (from matplotlib->DMBA) (1.4.7)\n",
      "Requirement already satisfied: packaging>=20.0 in /usr/local/lib/python3.10/dist-packages (from matplotlib->DMBA) (24.2)\n",
      "Requirement already satisfied: pillow>=6.2.0 in /usr/local/lib/python3.10/dist-packages (from matplotlib->DMBA) (11.0.0)\n",
      "Requirement already satisfied: pyparsing>=2.3.1 in /usr/local/lib/python3.10/dist-packages (from matplotlib->DMBA) (3.2.0)\n",
      "Requirement already satisfied: python-dateutil>=2.7 in /usr/local/lib/python3.10/dist-packages (from matplotlib->DMBA) (2.8.2)\n",
      "Requirement already satisfied: pytz>=2020.1 in /usr/local/lib/python3.10/dist-packages (from pandas->DMBA) (2024.2)\n",
      "Requirement already satisfied: tzdata>=2022.7 in /usr/local/lib/python3.10/dist-packages (from pandas->DMBA) (2024.2)\n",
      "Requirement already satisfied: joblib>=1.2.0 in /usr/local/lib/python3.10/dist-packages (from scikit-learn->DMBA) (1.4.2)\n",
      "Requirement already satisfied: threadpoolctl>=3.1.0 in /usr/local/lib/python3.10/dist-packages (from scikit-learn->DMBA) (3.5.0)\n",
      "Requirement already satisfied: six>=1.5 in /usr/local/lib/python3.10/dist-packages (from python-dateutil>=2.7->matplotlib->DMBA) (1.16.0)\n"
     ]
    }
   ],
   "source": [
    "!pip install DMBA mord"
   ]
  },
  {
   "cell_type": "code",
   "execution_count": null,
   "metadata": {
    "colab": {
     "base_uri": "https://localhost:8080/"
    },
    "id": "y8XbCM8Cy75j",
    "outputId": "2e0d6f48-1022-4353-89c1-e04695e2b97b"
   },
   "outputs": [
    {
     "name": "stdout",
     "output_type": "stream",
     "text": [
      "3.10.12 (main, Nov  6 2024, 20:22:13) [GCC 11.4.0]\n",
      "The scikit-learn version is 1.5.2.\n"
     ]
    }
   ],
   "source": [
    "%matplotlib inline\n",
    "from pathlib import Path\n",
    "import numpy as np\n",
    "import pandas as pd\n",
    "from sklearn.impute import KNNImputer\n",
    "from sklearn.linear_model import LogisticRegression, LogisticRegressionCV\n",
    "from sklearn.model_selection import train_test_split\n",
    "import statsmodels.api as sm\n",
    "import statsmodels.formula.api as smf\n",
    "from mord import LogisticIT\n",
    "import matplotlib.pylab as plt\n",
    "import seaborn as sns\n",
    "from dmba import classificationSummary, gainsChart, liftChart\n",
    "from dmba.metric import AIC_score\n",
    "import math\n",
    "import numpy as np\n",
    "import statsmodels.api as sm\n",
    "import statsmodels.formula.api as smf\n",
    "import sys\n",
    "import sklearn\n",
    "from sklearn.metrics import confusion_matrix\n",
    "from sklearn.preprocessing import StandardScaler\n",
    "from sklearn.metrics import recall_score\n",
    "print(sys.version)\n",
    "print('The scikit-learn version is {}.'.format(sklearn.__version__))"
   ]
  },
  {
   "cell_type": "code",
   "execution_count": null,
   "metadata": {
    "colab": {
     "base_uri": "https://localhost:8080/"
    },
    "id": "saolhyGDuvrx",
    "outputId": "c8460b1f-8f06-4359-91af-37d3d29bf3bd"
   },
   "outputs": [
    {
     "name": "stdout",
     "output_type": "stream",
     "text": [
      "Drive already mounted at /content/drive; to attempt to forcibly remount, call drive.mount(\"/content/drive\", force_remount=True).\n"
     ]
    }
   ],
   "source": [
    "from google.colab import drive\n",
    "drive.mount('/content/drive')"
   ]
  },
  {
   "cell_type": "code",
   "execution_count": null,
   "metadata": {
    "id": "B4s4-kS-yuhE"
   },
   "outputs": [],
   "source": [
    "DATA = Path('/content/drive/My Drive/Colab Notebooks/Analytics Competition/')"
   ]
  },
  {
   "cell_type": "code",
   "execution_count": null,
   "metadata": {
    "colab": {
     "base_uri": "https://localhost:8080/",
     "height": 255
    },
    "id": "koZPS0W6y3ts",
    "outputId": "bc3fe468-5333-4ca6-ee1d-9eeeee5f0c5a"
   },
   "outputs": [
    {
     "data": {
      "application/vnd.google.colaboratory.intrinsic+json": {
       "type": "dataframe",
       "variable_name": "train_X"
      },
      "text/html": [
       "\n",
       "  <div id=\"df-675d489f-0c95-4fe9-9fae-686a02e2c08f\" class=\"colab-df-container\">\n",
       "    <div>\n",
       "<style scoped>\n",
       "    .dataframe tbody tr th:only-of-type {\n",
       "        vertical-align: middle;\n",
       "    }\n",
       "\n",
       "    .dataframe tbody tr th {\n",
       "        vertical-align: top;\n",
       "    }\n",
       "\n",
       "    .dataframe thead th {\n",
       "        text-align: right;\n",
       "    }\n",
       "</style>\n",
       "<table border=\"1\" class=\"dataframe\">\n",
       "  <thead>\n",
       "    <tr style=\"text-align: right;\">\n",
       "      <th></th>\n",
       "      <th>ApprovalFY</th>\n",
       "      <th>Term</th>\n",
       "      <th>NoEmp</th>\n",
       "      <th>CreateJob</th>\n",
       "      <th>RetainedJob</th>\n",
       "      <th>DisbursementGross</th>\n",
       "      <th>BalanceGross</th>\n",
       "      <th>GrAppv</th>\n",
       "      <th>Franchise_Dummy</th>\n",
       "      <th>RevLineCr_N</th>\n",
       "      <th>...</th>\n",
       "      <th>State_TN</th>\n",
       "      <th>State_VT</th>\n",
       "      <th>State_WA</th>\n",
       "      <th>State_WI</th>\n",
       "      <th>State_WV</th>\n",
       "      <th>IndustryCode_Other</th>\n",
       "      <th>IndustryCode_Real_Estate</th>\n",
       "      <th>UrbanRural_0</th>\n",
       "      <th>UrbanRural_1</th>\n",
       "      <th>UrbanRural_2</th>\n",
       "    </tr>\n",
       "  </thead>\n",
       "  <tbody>\n",
       "    <tr>\n",
       "      <th>0</th>\n",
       "      <td>1996</td>\n",
       "      <td>84</td>\n",
       "      <td>8</td>\n",
       "      <td>0</td>\n",
       "      <td>0</td>\n",
       "      <td>85000.0</td>\n",
       "      <td>0.0</td>\n",
       "      <td>85000.0</td>\n",
       "      <td>0</td>\n",
       "      <td>1</td>\n",
       "      <td>...</td>\n",
       "      <td>0</td>\n",
       "      <td>0</td>\n",
       "      <td>0</td>\n",
       "      <td>0</td>\n",
       "      <td>0</td>\n",
       "      <td>1</td>\n",
       "      <td>0</td>\n",
       "      <td>1</td>\n",
       "      <td>0</td>\n",
       "      <td>0</td>\n",
       "    </tr>\n",
       "    <tr>\n",
       "      <th>1</th>\n",
       "      <td>2002</td>\n",
       "      <td>84</td>\n",
       "      <td>7</td>\n",
       "      <td>1</td>\n",
       "      <td>7</td>\n",
       "      <td>50000.0</td>\n",
       "      <td>0.0</td>\n",
       "      <td>50000.0</td>\n",
       "      <td>0</td>\n",
       "      <td>0</td>\n",
       "      <td>...</td>\n",
       "      <td>0</td>\n",
       "      <td>0</td>\n",
       "      <td>0</td>\n",
       "      <td>0</td>\n",
       "      <td>0</td>\n",
       "      <td>0</td>\n",
       "      <td>0</td>\n",
       "      <td>0</td>\n",
       "      <td>1</td>\n",
       "      <td>0</td>\n",
       "    </tr>\n",
       "    <tr>\n",
       "      <th>2</th>\n",
       "      <td>2005</td>\n",
       "      <td>68</td>\n",
       "      <td>11</td>\n",
       "      <td>0</td>\n",
       "      <td>0</td>\n",
       "      <td>150000.0</td>\n",
       "      <td>0.0</td>\n",
       "      <td>150000.0</td>\n",
       "      <td>0</td>\n",
       "      <td>0</td>\n",
       "      <td>...</td>\n",
       "      <td>0</td>\n",
       "      <td>0</td>\n",
       "      <td>0</td>\n",
       "      <td>0</td>\n",
       "      <td>0</td>\n",
       "      <td>0</td>\n",
       "      <td>0</td>\n",
       "      <td>0</td>\n",
       "      <td>1</td>\n",
       "      <td>0</td>\n",
       "    </tr>\n",
       "    <tr>\n",
       "      <th>3</th>\n",
       "      <td>2005</td>\n",
       "      <td>69</td>\n",
       "      <td>15</td>\n",
       "      <td>0</td>\n",
       "      <td>15</td>\n",
       "      <td>11600.0</td>\n",
       "      <td>0.0</td>\n",
       "      <td>11600.0</td>\n",
       "      <td>0</td>\n",
       "      <td>0</td>\n",
       "      <td>...</td>\n",
       "      <td>0</td>\n",
       "      <td>0</td>\n",
       "      <td>0</td>\n",
       "      <td>1</td>\n",
       "      <td>0</td>\n",
       "      <td>0</td>\n",
       "      <td>0</td>\n",
       "      <td>0</td>\n",
       "      <td>1</td>\n",
       "      <td>0</td>\n",
       "    </tr>\n",
       "    <tr>\n",
       "      <th>4</th>\n",
       "      <td>1999</td>\n",
       "      <td>240</td>\n",
       "      <td>14</td>\n",
       "      <td>7</td>\n",
       "      <td>7</td>\n",
       "      <td>221000.0</td>\n",
       "      <td>0.0</td>\n",
       "      <td>221000.0</td>\n",
       "      <td>0</td>\n",
       "      <td>1</td>\n",
       "      <td>...</td>\n",
       "      <td>0</td>\n",
       "      <td>0</td>\n",
       "      <td>0</td>\n",
       "      <td>0</td>\n",
       "      <td>0</td>\n",
       "      <td>0</td>\n",
       "      <td>0</td>\n",
       "      <td>1</td>\n",
       "      <td>0</td>\n",
       "      <td>0</td>\n",
       "    </tr>\n",
       "  </tbody>\n",
       "</table>\n",
       "<p>5 rows × 67 columns</p>\n",
       "</div>\n",
       "    <div class=\"colab-df-buttons\">\n",
       "\n",
       "  <div class=\"colab-df-container\">\n",
       "    <button class=\"colab-df-convert\" onclick=\"convertToInteractive('df-675d489f-0c95-4fe9-9fae-686a02e2c08f')\"\n",
       "            title=\"Convert this dataframe to an interactive table.\"\n",
       "            style=\"display:none;\">\n",
       "\n",
       "  <svg xmlns=\"http://www.w3.org/2000/svg\" height=\"24px\" viewBox=\"0 -960 960 960\">\n",
       "    <path d=\"M120-120v-720h720v720H120Zm60-500h600v-160H180v160Zm220 220h160v-160H400v160Zm0 220h160v-160H400v160ZM180-400h160v-160H180v160Zm440 0h160v-160H620v160ZM180-180h160v-160H180v160Zm440 0h160v-160H620v160Z\"/>\n",
       "  </svg>\n",
       "    </button>\n",
       "\n",
       "  <style>\n",
       "    .colab-df-container {\n",
       "      display:flex;\n",
       "      gap: 12px;\n",
       "    }\n",
       "\n",
       "    .colab-df-convert {\n",
       "      background-color: #E8F0FE;\n",
       "      border: none;\n",
       "      border-radius: 50%;\n",
       "      cursor: pointer;\n",
       "      display: none;\n",
       "      fill: #1967D2;\n",
       "      height: 32px;\n",
       "      padding: 0 0 0 0;\n",
       "      width: 32px;\n",
       "    }\n",
       "\n",
       "    .colab-df-convert:hover {\n",
       "      background-color: #E2EBFA;\n",
       "      box-shadow: 0px 1px 2px rgba(60, 64, 67, 0.3), 0px 1px 3px 1px rgba(60, 64, 67, 0.15);\n",
       "      fill: #174EA6;\n",
       "    }\n",
       "\n",
       "    .colab-df-buttons div {\n",
       "      margin-bottom: 4px;\n",
       "    }\n",
       "\n",
       "    [theme=dark] .colab-df-convert {\n",
       "      background-color: #3B4455;\n",
       "      fill: #D2E3FC;\n",
       "    }\n",
       "\n",
       "    [theme=dark] .colab-df-convert:hover {\n",
       "      background-color: #434B5C;\n",
       "      box-shadow: 0px 1px 3px 1px rgba(0, 0, 0, 0.15);\n",
       "      filter: drop-shadow(0px 1px 2px rgba(0, 0, 0, 0.3));\n",
       "      fill: #FFFFFF;\n",
       "    }\n",
       "  </style>\n",
       "\n",
       "    <script>\n",
       "      const buttonEl =\n",
       "        document.querySelector('#df-675d489f-0c95-4fe9-9fae-686a02e2c08f button.colab-df-convert');\n",
       "      buttonEl.style.display =\n",
       "        google.colab.kernel.accessAllowed ? 'block' : 'none';\n",
       "\n",
       "      async function convertToInteractive(key) {\n",
       "        const element = document.querySelector('#df-675d489f-0c95-4fe9-9fae-686a02e2c08f');\n",
       "        const dataTable =\n",
       "          await google.colab.kernel.invokeFunction('convertToInteractive',\n",
       "                                                    [key], {});\n",
       "        if (!dataTable) return;\n",
       "\n",
       "        const docLinkHtml = 'Like what you see? Visit the ' +\n",
       "          '<a target=\"_blank\" href=https://colab.research.google.com/notebooks/data_table.ipynb>data table notebook</a>'\n",
       "          + ' to learn more about interactive tables.';\n",
       "        element.innerHTML = '';\n",
       "        dataTable['output_type'] = 'display_data';\n",
       "        await google.colab.output.renderOutput(dataTable, element);\n",
       "        const docLink = document.createElement('div');\n",
       "        docLink.innerHTML = docLinkHtml;\n",
       "        element.appendChild(docLink);\n",
       "      }\n",
       "    </script>\n",
       "  </div>\n",
       "\n",
       "\n",
       "<div id=\"df-6a5e0101-ff1c-4662-af6f-3a15dd820a75\">\n",
       "  <button class=\"colab-df-quickchart\" onclick=\"quickchart('df-6a5e0101-ff1c-4662-af6f-3a15dd820a75')\"\n",
       "            title=\"Suggest charts\"\n",
       "            style=\"display:none;\">\n",
       "\n",
       "<svg xmlns=\"http://www.w3.org/2000/svg\" height=\"24px\"viewBox=\"0 0 24 24\"\n",
       "     width=\"24px\">\n",
       "    <g>\n",
       "        <path d=\"M19 3H5c-1.1 0-2 .9-2 2v14c0 1.1.9 2 2 2h14c1.1 0 2-.9 2-2V5c0-1.1-.9-2-2-2zM9 17H7v-7h2v7zm4 0h-2V7h2v10zm4 0h-2v-4h2v4z\"/>\n",
       "    </g>\n",
       "</svg>\n",
       "  </button>\n",
       "\n",
       "<style>\n",
       "  .colab-df-quickchart {\n",
       "      --bg-color: #E8F0FE;\n",
       "      --fill-color: #1967D2;\n",
       "      --hover-bg-color: #E2EBFA;\n",
       "      --hover-fill-color: #174EA6;\n",
       "      --disabled-fill-color: #AAA;\n",
       "      --disabled-bg-color: #DDD;\n",
       "  }\n",
       "\n",
       "  [theme=dark] .colab-df-quickchart {\n",
       "      --bg-color: #3B4455;\n",
       "      --fill-color: #D2E3FC;\n",
       "      --hover-bg-color: #434B5C;\n",
       "      --hover-fill-color: #FFFFFF;\n",
       "      --disabled-bg-color: #3B4455;\n",
       "      --disabled-fill-color: #666;\n",
       "  }\n",
       "\n",
       "  .colab-df-quickchart {\n",
       "    background-color: var(--bg-color);\n",
       "    border: none;\n",
       "    border-radius: 50%;\n",
       "    cursor: pointer;\n",
       "    display: none;\n",
       "    fill: var(--fill-color);\n",
       "    height: 32px;\n",
       "    padding: 0;\n",
       "    width: 32px;\n",
       "  }\n",
       "\n",
       "  .colab-df-quickchart:hover {\n",
       "    background-color: var(--hover-bg-color);\n",
       "    box-shadow: 0 1px 2px rgba(60, 64, 67, 0.3), 0 1px 3px 1px rgba(60, 64, 67, 0.15);\n",
       "    fill: var(--button-hover-fill-color);\n",
       "  }\n",
       "\n",
       "  .colab-df-quickchart-complete:disabled,\n",
       "  .colab-df-quickchart-complete:disabled:hover {\n",
       "    background-color: var(--disabled-bg-color);\n",
       "    fill: var(--disabled-fill-color);\n",
       "    box-shadow: none;\n",
       "  }\n",
       "\n",
       "  .colab-df-spinner {\n",
       "    border: 2px solid var(--fill-color);\n",
       "    border-color: transparent;\n",
       "    border-bottom-color: var(--fill-color);\n",
       "    animation:\n",
       "      spin 1s steps(1) infinite;\n",
       "  }\n",
       "\n",
       "  @keyframes spin {\n",
       "    0% {\n",
       "      border-color: transparent;\n",
       "      border-bottom-color: var(--fill-color);\n",
       "      border-left-color: var(--fill-color);\n",
       "    }\n",
       "    20% {\n",
       "      border-color: transparent;\n",
       "      border-left-color: var(--fill-color);\n",
       "      border-top-color: var(--fill-color);\n",
       "    }\n",
       "    30% {\n",
       "      border-color: transparent;\n",
       "      border-left-color: var(--fill-color);\n",
       "      border-top-color: var(--fill-color);\n",
       "      border-right-color: var(--fill-color);\n",
       "    }\n",
       "    40% {\n",
       "      border-color: transparent;\n",
       "      border-right-color: var(--fill-color);\n",
       "      border-top-color: var(--fill-color);\n",
       "    }\n",
       "    60% {\n",
       "      border-color: transparent;\n",
       "      border-right-color: var(--fill-color);\n",
       "    }\n",
       "    80% {\n",
       "      border-color: transparent;\n",
       "      border-right-color: var(--fill-color);\n",
       "      border-bottom-color: var(--fill-color);\n",
       "    }\n",
       "    90% {\n",
       "      border-color: transparent;\n",
       "      border-bottom-color: var(--fill-color);\n",
       "    }\n",
       "  }\n",
       "</style>\n",
       "\n",
       "  <script>\n",
       "    async function quickchart(key) {\n",
       "      const quickchartButtonEl =\n",
       "        document.querySelector('#' + key + ' button');\n",
       "      quickchartButtonEl.disabled = true;  // To prevent multiple clicks.\n",
       "      quickchartButtonEl.classList.add('colab-df-spinner');\n",
       "      try {\n",
       "        const charts = await google.colab.kernel.invokeFunction(\n",
       "            'suggestCharts', [key], {});\n",
       "      } catch (error) {\n",
       "        console.error('Error during call to suggestCharts:', error);\n",
       "      }\n",
       "      quickchartButtonEl.classList.remove('colab-df-spinner');\n",
       "      quickchartButtonEl.classList.add('colab-df-quickchart-complete');\n",
       "    }\n",
       "    (() => {\n",
       "      let quickchartButtonEl =\n",
       "        document.querySelector('#df-6a5e0101-ff1c-4662-af6f-3a15dd820a75 button');\n",
       "      quickchartButtonEl.style.display =\n",
       "        google.colab.kernel.accessAllowed ? 'block' : 'none';\n",
       "    })();\n",
       "  </script>\n",
       "</div>\n",
       "\n",
       "    </div>\n",
       "  </div>\n"
      ],
      "text/plain": [
       "   ApprovalFY  Term  NoEmp  CreateJob  RetainedJob  DisbursementGross  \\\n",
       "0        1996    84      8          0            0            85000.0   \n",
       "1        2002    84      7          1            7            50000.0   \n",
       "2        2005    68     11          0            0           150000.0   \n",
       "3        2005    69     15          0           15            11600.0   \n",
       "4        1999   240     14          7            7           221000.0   \n",
       "\n",
       "   BalanceGross    GrAppv  Franchise_Dummy  RevLineCr_N  ...  State_TN  \\\n",
       "0           0.0   85000.0                0            1  ...         0   \n",
       "1           0.0   50000.0                0            0  ...         0   \n",
       "2           0.0  150000.0                0            0  ...         0   \n",
       "3           0.0   11600.0                0            0  ...         0   \n",
       "4           0.0  221000.0                0            1  ...         0   \n",
       "\n",
       "   State_VT  State_WA  State_WI  State_WV  IndustryCode_Other  \\\n",
       "0         0         0         0         0                   1   \n",
       "1         0         0         0         0                   0   \n",
       "2         0         0         0         0                   0   \n",
       "3         0         0         1         0                   0   \n",
       "4         0         0         0         0                   0   \n",
       "\n",
       "   IndustryCode_Real_Estate  UrbanRural_0  UrbanRural_1  UrbanRural_2  \n",
       "0                         0             1             0             0  \n",
       "1                         0             0             1             0  \n",
       "2                         0             0             1             0  \n",
       "3                         0             0             1             0  \n",
       "4                         0             1             0             0  \n",
       "\n",
       "[5 rows x 67 columns]"
      ]
     },
     "execution_count": 24,
     "metadata": {},
     "output_type": "execute_result"
    }
   ],
   "source": [
    "train_X = pd.read_csv(DATA / 'train_X.csv')\n",
    "valid_X = pd.read_csv(DATA / 'valid_X.csv')\n",
    "train_y = pd.read_csv(DATA / 'train_y.csv')\n",
    "valid_y = pd.read_csv(DATA / 'valid_y.csv')\n",
    "\n",
    "train_X.head()"
   ]
  },
  {
   "cell_type": "markdown",
   "metadata": {
    "id": "mvcIaILCkSf9"
   },
   "source": [
    "Pre-Processing"
   ]
  },
  {
   "cell_type": "code",
   "execution_count": null,
   "metadata": {
    "id": "2-1ZI1RbkR_4"
   },
   "outputs": [],
   "source": [
    "scaler = StandardScaler()\n",
    "train_X_scaled = scaler.fit_transform(train_X)\n",
    "valid_X_scaled = scaler.transform(valid_X)\n",
    "train_X = pd.DataFrame(train_X_scaled, columns=train_X.columns, index=train_X.index)\n",
    "valid_X = pd.DataFrame(valid_X_scaled, columns=valid_X.columns, index=valid_X.index)"
   ]
  },
  {
   "cell_type": "markdown",
   "metadata": {
    "id": "axA1VxN-6UiA"
   },
   "source": [
    "# Logistic Regression"
   ]
  },
  {
   "cell_type": "markdown",
   "metadata": {
    "id": "kJ6J-Jdo6ZRI"
   },
   "source": [
    "Logistic Regression is used to predict the probablity of a binary outcome. Linear Regression predicts continous values and for this reason, it does not apply to any classification models. We will run two models to compare their preformance metrics with our desired high f1 score. When running a logistic regression, you must choose a penalty and solver. We will review what this means below."
   ]
  },
  {
   "cell_type": "markdown",
   "metadata": {
    "id": "itgUP8okBFpI"
   },
   "source": [
    "**Penalty**"
   ]
  },
  {
   "cell_type": "markdown",
   "metadata": {
    "id": "2JDNlVnw_gHB"
   },
   "source": [
    "A penalty is a constraint or rule that prevents a model from being too complex. These penalties are added to the loss function.\n",
    "\n",
    "Ridge Regression adds a penalty equal to the square of the magnitude of the coefficients and is called the L2 penalty. This penalty will shrink the coefficients towards 0, but not exactly to 0. This helps prevent overfitting. This L2 penalty aids in reducing multicollinearity and handles high dimensional data aswell.\n",
    "\n",
    "Lasso Regression adds a penatly equal to the absolute value of the magnitude of the coeffcients. It is called the L1 penalty. Lasso regression can shrink some coeffcients exactly to 0. This is in a sence, selecting relvanet features to the model which are most important. It is usefull when you want to reduce the number of features in your dataset."
   ]
  },
  {
   "cell_type": "markdown",
   "metadata": {
    "id": "u4XtIgRBBHay"
   },
   "source": [
    "**Solver**"
   ]
  },
  {
   "cell_type": "markdown",
   "metadata": {
    "id": "AYSwA1nj8ntn"
   },
   "source": [
    "A solver is an algorithm that will find the optimal values for the coefficients in a Logistic Regression Model. Different solvers will have different strategies and benefits. There can be many pros/cons to any solver you may use. Saga is efficent with larger data sets however may not produce desired results.. Liblinear may struggle with a data set this large but prduce better models. Liblinear also alligns well with L1 and L2 regularization and alligns with the Ridge/Lasso Regression Approaches. For these reasons, we will use Liblinear."
   ]
  },
  {
   "cell_type": "code",
   "execution_count": null,
   "metadata": {
    "colab": {
     "base_uri": "https://localhost:8080/"
    },
    "id": "tZ7-9N8IzftM",
    "outputId": "e9f877b4-0497-4e09-9306-673aed8e5a31"
   },
   "outputs": [
    {
     "name": "stdout",
     "output_type": "stream",
     "text": [
      "intercept  -2.4906444921490367\n",
      "       ApprovalFY      Term    NoEmp  CreateJob  RetainedJob  \\\n",
      "coeff    0.015502 -2.026606 -0.61971   0.339876    -0.241687   \n",
      "\n",
      "       DisbursementGross  BalanceGross    GrAppv  Franchise_Dummy  \\\n",
      "coeff          -0.079273     -0.194561  0.261181         0.011865   \n",
      "\n",
      "       RevLineCr_N  ...  State_TN  State_VT  State_WA  State_WI  State_WV  \\\n",
      "coeff     0.098926  ...  0.032457 -0.087142  -0.04494 -0.065023   0.00109   \n",
      "\n",
      "       IndustryCode_Other  IndustryCode_Real_Estate  UrbanRural_0  \\\n",
      "coeff            0.040127                  0.055204     -0.297894   \n",
      "\n",
      "       UrbanRural_1  UrbanRural_2  \n",
      "coeff      0.234853      0.079511  \n",
      "\n",
      "[1 rows x 67 columns]\n",
      "\n",
      "AIC 344624.4980950133\n"
     ]
    }
   ],
   "source": [
    "logit_reg_ridge = LogisticRegression(penalty=\"l2\", C=1e42, solver='liblinear', random_state=1)\n",
    "logit_reg_ridge.fit(train_X, train_y.values.ravel())\n",
    "\n",
    "print('intercept ', logit_reg_ridge.intercept_[0])\n",
    "print(pd.DataFrame({'coeff': logit_reg_ridge.coef_[0]}, index=train_X.columns).transpose())\n",
    "print()\n",
    "print('AIC', AIC_score(valid_y.values.ravel(), logit_reg_ridge.predict(valid_X), df = len(train_X.columns) + 1))"
   ]
  },
  {
   "cell_type": "code",
   "execution_count": null,
   "metadata": {
    "colab": {
     "base_uri": "https://localhost:8080/"
    },
    "id": "gZsJhXGom8Kv",
    "outputId": "505aae22-e6bb-4055-bb16-d336fe9691dc"
   },
   "outputs": [
    {
     "name": "stdout",
     "output_type": "stream",
     "text": [
      "Confusion Matrix (Accuracy 0.8468)\n",
      "\n",
      "       Prediction\n",
      "Actual      0      1\n",
      "     0 433905  10999\n",
      "     1  71639  22955\n",
      "F1 Score: 0.35714285714285715\n"
     ]
    }
   ],
   "source": [
    "predictions = logit_reg_ridge.predict(train_X)\n",
    "f1 = f1_score(train_y, predictions)\n",
    "classificationSummary(train_y, predictions)\n",
    "\n",
    "print(f\"F1 Score: {f1}\")"
   ]
  },
  {
   "cell_type": "code",
   "execution_count": null,
   "metadata": {
    "colab": {
     "base_uri": "https://localhost:8080/"
    },
    "id": "PV0k4KYhnCiR",
    "outputId": "e9eda318-ca26-443f-9ca8-e5d01464ee56"
   },
   "outputs": [
    {
     "name": "stdout",
     "output_type": "stream",
     "text": [
      "Confusion Matrix (Accuracy 0.8474)\n",
      "\n",
      "       Prediction\n",
      "Actual      0      1\n",
      "     0 289384   7318\n",
      "     1  47559  15405\n",
      "F1 Score: 0.3595644613535309\n"
     ]
    }
   ],
   "source": [
    "predictions = logit_reg_ridge.predict(valid_X)\n",
    "f1 = f1_score(valid_y, predictions)\n",
    "classificationSummary(valid_y, predictions)\n",
    "\n",
    "print(f\"F1 Score: {f1}\")"
   ]
  },
  {
   "cell_type": "code",
   "execution_count": null,
   "metadata": {
    "colab": {
     "base_uri": "https://localhost:8080/",
     "height": 407
    },
    "id": "kz_pEqDVpRX9",
    "outputId": "bf44fc91-4dfa-42ff-fcc9-7a06e1a6c058"
   },
   "outputs": [
    {
     "data": {
      "image/png": "[encoded data removed]",
      "text/plain": [
       "<Figure size 1000x400 with 2 Axes>"
      ]
     },
     "metadata": {},
     "output_type": "display_data"
    }
   ],
   "source": [
    "logit_reg_ridge_proba = logit_reg_ridge.predict_proba(valid_X)\n",
    "logit_result_ridge = pd.DataFrame({'actual': valid_y.values.ravel(), 'p(0)': [p[0] for p in logit_reg_ridge_proba], 'p(1)': [p[1] for p in logit_reg_ridge_proba]})\n",
    "logit_result_ridge = logit_result_ridge.sort_values(by=['p(1)'], ascending=False)\n",
    "\n",
    "fig, axes = plt.subplots(nrows=1, ncols=2, figsize=(10, 4))\n",
    "\n",
    "gainsChart(logit_result_ridge.actual, ax=axes[0])\n",
    "axes[0].set_title(\"Ridge Regression Gains Chart\")\n",
    "\n",
    "liftChart(logit_result_ridge.actual, title=\"Ridge Regression Lift Chart\", ax=axes[1])\n",
    "\n",
    "plt.tight_layout()\n",
    "plt.show()"
   ]
  },
  {
   "cell_type": "markdown",
   "metadata": {
    "id": "RHRKiMHyf7Dx"
   },
   "source": [
    "In the gains and lifts chart, we see an initial steep boost of interpretive power but as the amount of records grows a strong plateu. This indicates this model is strong at idneifying smaller data sets but loses its predictive power as the number of records is bigger than around 15,000 records."
   ]
  },
  {
   "cell_type": "code",
   "execution_count": null,
   "metadata": {
    "colab": {
     "base_uri": "https://localhost:8080/"
    },
    "id": "-UPu5T-HlrjS",
    "outputId": "061be619-f7cf-4575-8997-a33460f922fb"
   },
   "outputs": [
    {
     "name": "stdout",
     "output_type": "stream",
     "text": [
      "Best cutoff for Ridge Regression (F1-score): 0.29000000000000004\n"
     ]
    }
   ],
   "source": [
    "best_cutoff_ridge = 0\n",
    "best_f1_score = 0\n",
    "\n",
    "for cutoff in np.arange(0.01, 1, 0.01):\n",
    "    predicted_probs = logit_reg_ridge.predict_proba(valid_X)[:, 1]\n",
    "    predictions = (predicted_probs >= cutoff).astype(int)\n",
    "\n",
    "    f1 = f1_score(valid_y['Default_CHGOFF'], predictions)\n",
    "\n",
    "    if f1 > best_f1_score:\n",
    "        best_f1_score = f1\n",
    "        best_cutoff_ridge = cutoff\n",
    "\n",
    "print(f\"Best cutoff for Ridge Regression (F1-score): {best_cutoff_ridge}\")"
   ]
  },
  {
   "cell_type": "code",
   "execution_count": null,
   "metadata": {
    "colab": {
     "base_uri": "https://localhost:8080/"
    },
    "id": "9ubK0pa9i9Pj",
    "outputId": "b52b8e41-e211-4832-9d32-2cf05f97e424"
   },
   "outputs": [
    {
     "name": "stdout",
     "output_type": "stream",
     "text": [
      "intercept  -2.490591649344317\n",
      "       ApprovalFY      Term     NoEmp  CreateJob  RetainedJob  \\\n",
      "coeff     0.01546 -2.026337 -0.620095   0.331007    -0.232769   \n",
      "\n",
      "       DisbursementGross  BalanceGross    GrAppv  Franchise_Dummy  \\\n",
      "coeff          -0.078745     -0.248997  0.260574         0.011851   \n",
      "\n",
      "       RevLineCr_N  ...  State_TN  State_VT  State_WA  State_WI  State_WV  \\\n",
      "coeff     0.046579  ...  0.032449 -0.087103 -0.044913 -0.064996  0.001078   \n",
      "\n",
      "       IndustryCode_Other  IndustryCode_Real_Estate  UrbanRural_0  \\\n",
      "coeff            0.043229                  0.056119     -0.345931   \n",
      "\n",
      "       UrbanRural_1  UrbanRural_2  \n",
      "coeff       0.18471      0.047195  \n",
      "\n",
      "[1 rows x 67 columns]\n",
      "\n",
      "AIC 344624.4980950133\n"
     ]
    }
   ],
   "source": [
    "# Lasso Regression\n",
    "logit_reg_lasso = LogisticRegression(penalty=\"l1\", C=1, solver='liblinear', random_state=1)\n",
    "logit_reg_lasso.fit(train_X, train_y.values.ravel())\n",
    "\n",
    "print('intercept ', logit_reg_lasso.intercept_[0])\n",
    "print(pd.DataFrame({'coeff': logit_reg_lasso.coef_[0]}, index=train_X.columns).transpose())\n",
    "print()\n",
    "print('AIC', AIC_score(valid_y.values.ravel(), logit_reg_lasso.predict(valid_X), df = len(train_X.columns) + 1))"
   ]
  },
  {
   "cell_type": "code",
   "execution_count": null,
   "metadata": {
    "colab": {
     "base_uri": "https://localhost:8080/"
    },
    "id": "vqihQg-SoOc-",
    "outputId": "e81ffca6-7485-4cbe-8d28-4385c5ef1a8d"
   },
   "outputs": [
    {
     "name": "stdout",
     "output_type": "stream",
     "text": [
      "Confusion Matrix (Accuracy 0.8468)\n",
      "\n",
      "       Prediction\n",
      "Actual      0      1\n",
      "     0 433909  10995\n",
      "     1  71645  22949\n",
      "F1 Score: 0.3570772845384244\n"
     ]
    }
   ],
   "source": [
    "predictions = logit_reg_lasso.predict(train_X)\n",
    "f1 = f1_score(train_y, predictions)\n",
    "classificationSummary(train_y, predictions)\n",
    "\n",
    "print(f\"F1 Score: {f1}\")"
   ]
  },
  {
   "cell_type": "code",
   "execution_count": null,
   "metadata": {
    "colab": {
     "base_uri": "https://localhost:8080/"
    },
    "id": "xowx6eghoV6C",
    "outputId": "9c839178-6ccc-42f4-ae87-aa37173bf2cf"
   },
   "outputs": [
    {
     "name": "stdout",
     "output_type": "stream",
     "text": [
      "Confusion Matrix (Accuracy 0.8474)\n",
      "\n",
      "       Prediction\n",
      "Actual      0      1\n",
      "     0 289387   7315\n",
      "     1  47562  15402\n",
      "F1 Score: 0.3595196134498897\n"
     ]
    }
   ],
   "source": [
    "predictions = logit_reg_lasso.predict(valid_X)\n",
    "f1 = f1_score(valid_y, predictions)\n",
    "classificationSummary(valid_y, predictions)\n",
    "\n",
    "print(f\"F1 Score: {f1}\")"
   ]
  },
  {
   "cell_type": "code",
   "execution_count": null,
   "metadata": {
    "colab": {
     "base_uri": "https://localhost:8080/",
     "height": 407
    },
    "id": "T9wOZPJXobNc",
    "outputId": "2c775136-e1ba-4139-888e-d3cf53473c91"
   },
   "outputs": [
    {
     "data": {
      "image/png": "[encoded data removed]",
      "text/plain": [
       "<Figure size 1000x400 with 2 Axes>"
      ]
     },
     "metadata": {},
     "output_type": "display_data"
    }
   ],
   "source": [
    "logit_reg_lasso_proba = logit_reg_lasso.predict_proba(valid_X)\n",
    "logit_result_lasso = pd.DataFrame({'actual': valid_y.values.ravel(), 'p(0)': [p[0] for p in logit_reg_lasso_proba], 'p(1)': [p[1] for p in logit_reg_lasso_proba]})\n",
    "logit_result_lasso = logit_result_lasso.sort_values(by=['p(1)'], ascending=False)\n",
    "\n",
    "fig, axes = plt.subplots(nrows=1, ncols=2, figsize=(10, 4))\n",
    "\n",
    "gainsChart(logit_result_lasso.actual, ax=axes[0])\n",
    "axes[0].set_title(\"Lasso Regression Gains Chart\")  # Set title using axes object\n",
    "\n",
    "liftChart(logit_result_lasso.actual, title=\"Lasso Regression Lift Chart\", ax=axes[1])\n",
    "\n",
    "plt.tight_layout()\n",
    "plt.show()"
   ]
  },
  {
   "cell_type": "markdown",
   "metadata": {
    "id": "U3_f6qRlgijE"
   },
   "source": [
    "These charts show stronger intial predictive power which falls off as the number of samples grows.The model is effective at prioritizing defaults in the top-ranked records (high predicted probabilities), but its ability to distinguish between defaults and non-defaults diminishes as more records are considered."
   ]
  },
  {
   "cell_type": "code",
   "execution_count": null,
   "metadata": {
    "colab": {
     "base_uri": "https://localhost:8080/"
    },
    "id": "ZnZyFyO7wvTD",
    "outputId": "0baa7ec8-6a75-47c5-8a4e-1c98d118d778"
   },
   "outputs": [
    {
     "name": "stdout",
     "output_type": "stream",
     "text": [
      "Best cutoff for Lasso Regression (F1-score): 0.29000000000000004\n"
     ]
    }
   ],
   "source": [
    "from sklearn.metrics import f1_score\n",
    "\n",
    "best_cutoff_lasso = 0\n",
    "best_f1_score = 0\n",
    "\n",
    "for cutoff in np.arange(0.01, 1, 0.01):\n",
    "    predicted_probs = logit_reg_lasso.predict_proba(valid_X)[:, 1]\n",
    "    predictions = (predicted_probs >= cutoff).astype(int)\n",
    "\n",
    "    f1 = f1_score(valid_y['Default_CHGOFF'], predictions)\n",
    "\n",
    "    if f1 > best_f1_score:\n",
    "        best_f1_score = f1\n",
    "        best_cutoff_lasso = cutoff\n",
    "\n",
    "print(f\"Best cutoff for Lasso Regression (F1-score): {best_cutoff_lasso}\")"
   ]
  },
  {
   "cell_type": "markdown",
   "metadata": {
    "id": "rNYc2dqPhKcu"
   },
   "source": [
    "**Conclusions**"
   ]
  },
  {
   "cell_type": "markdown",
   "metadata": {
    "id": "Zaj9hjQMiz8I"
   },
   "source": [
    "The best cutoff for both the Ridge and Lasso Regressions would be 0.29000 on the basis of balance between Recall and Precision. This F1 score will balance the potential defaults with the chance of lost profit. However, neither of these models seem great for our future predictions. With such low F1 scores, these models would struggle with balancing the consequnces and maxmiszing profit. We have already seen better results from Decision Trees and will continute to compare the preformance of other modeling techniques."
   ]
  },
  {
   "cell_type": "markdown",
   "metadata": {
    "id": "79E3SeqBjUX9"
   },
   "source": [
    "Outside of the context, for sheer predictive power we can compare the models."
   ]
  },
  {
   "cell_type": "markdown",
   "metadata": {
    "id": "nfz82O14iLfm"
   },
   "source": [
    "If you prioritize focusing on the riskiest (top 10%-20%) records, where early gains and high lift are most critical, Lasso Regression is better. It has a sharper initial rise in the Gains Chart and a higher lift in the top deciles. However,\n",
    "if you aim for a more balanced model that performs well across a larger portion of the dataset (top 30%-40%), with broader application, Ridge Regression is better. This is because its gains chart flattens less quickly, and its lift remains stable over a wider range."
   ]
  },
  {
   "cell_type": "code",
   "execution_count": null,
   "metadata": {
    "id": "czWvB1h5pgLs"
   },
   "outputs": [],
   "source": []
  }
 ],
 "metadata": {
  "colab": {
   "provenance": []
  },
  "kernelspec": {
   "display_name": "Python 3 (ipykernel)",
   "language": "python",
   "name": "python3"
  },
  "language_info": {
   "codemirror_mode": {
    "name": "ipython",
    "version": 3
   },
   "file_extension": ".py",
   "mimetype": "text/x-python",
   "name": "python",
   "nbconvert_exporter": "python",
   "pygments_lexer": "ipython3",
   "version": "3.11.5"
  }
 },
 "nbformat": 4,
 "nbformat_minor": 4
}

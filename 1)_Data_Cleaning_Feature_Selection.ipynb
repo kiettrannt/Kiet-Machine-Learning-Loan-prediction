{
 "cells": [
  {
   "cell_type": "markdown",
   "metadata": {
    "id": "Or9YpBOgqA9z"
   },
   "source": [
    "# <b>2024 CSU Systemwide Business Analytics Competition\n",
    "CSUS Center for Business Analytics\n",
    "“Should This Loan be Approved or Denied?”\n",
    "Predictive Modeling Using the SBA National Data"
   ]
  },
  {
   "cell_type": "markdown",
   "metadata": {
    "id": "e9DmIbDjr2_F"
   },
   "source": [
    "<b> Submission by: Joshua Battise, Celine Nguyen, Kiet Tran"
   ]
  },
  {
   "cell_type": "markdown",
   "metadata": {
    "id": "O74MifABqpqg"
   },
   "source": []
  },
  {
   "cell_type": "code",
   "execution_count": null,
   "metadata": {
    "colab": {
     "base_uri": "https://localhost:8080/"
    },
    "id": "7i3KQcyulOf2",
    "outputId": "efe6582a-8c52-4dc5-c979-278254d21ed7"
   },
   "outputs": [
    {
     "name": "stdout",
     "output_type": "stream",
     "text": [
      "Drive already mounted at /content/drive; to attempt to forcibly remount, call drive.mount(\"/content/drive\", force_remount=True).\n"
     ]
    }
   ],
   "source": [
    "from google.colab import drive\n",
    "drive.mount('/content/drive')"
   ]
  },
  {
   "cell_type": "code",
   "execution_count": null,
   "metadata": {
    "colab": {
     "base_uri": "https://localhost:8080/"
    },
    "id": "cc7egzfHqg19",
    "outputId": "1c70bb64-3926-40d1-8bfa-4f1bb86fff95"
   },
   "outputs": [
    {
     "name": "stdout",
     "output_type": "stream",
     "text": [
      "Requirement already satisfied: DMBA in /usr/local/lib/python3.10/dist-packages (0.2.4)\n",
      "Requirement already satisfied: mord in /usr/local/lib/python3.10/dist-packages (0.7)\n",
      "Requirement already satisfied: graphviz in /usr/local/lib/python3.10/dist-packages (from DMBA) (0.20.3)\n",
      "Requirement already satisfied: matplotlib in /usr/local/lib/python3.10/dist-packages (from DMBA) (3.8.0)\n",
      "Requirement already satisfied: numpy in /usr/local/lib/python3.10/dist-packages (from DMBA) (1.26.4)\n",
      "Requirement already satisfied: pandas in /usr/local/lib/python3.10/dist-packages (from DMBA) (2.2.2)\n",
      "Requirement already satisfied: scikit-learn in /usr/local/lib/python3.10/dist-packages (from DMBA) (1.5.2)\n",
      "Requirement already satisfied: scipy in /usr/local/lib/python3.10/dist-packages (from DMBA) (1.13.1)\n",
      "Requirement already satisfied: contourpy>=1.0.1 in /usr/local/lib/python3.10/dist-packages (from matplotlib->DMBA) (1.3.1)\n",
      "Requirement already satisfied: cycler>=0.10 in /usr/local/lib/python3.10/dist-packages (from matplotlib->DMBA) (0.12.1)\n",
      "Requirement already satisfied: fonttools>=4.22.0 in /usr/local/lib/python3.10/dist-packages (from matplotlib->DMBA) (4.55.0)\n",
      "Requirement already satisfied: kiwisolver>=1.0.1 in /usr/local/lib/python3.10/dist-packages (from matplotlib->DMBA) (1.4.7)\n",
      "Requirement already satisfied: packaging>=20.0 in /usr/local/lib/python3.10/dist-packages (from matplotlib->DMBA) (24.2)\n",
      "Requirement already satisfied: pillow>=6.2.0 in /usr/local/lib/python3.10/dist-packages (from matplotlib->DMBA) (11.0.0)\n",
      "Requirement already satisfied: pyparsing>=2.3.1 in /usr/local/lib/python3.10/dist-packages (from matplotlib->DMBA) (3.2.0)\n",
      "Requirement already satisfied: python-dateutil>=2.7 in /usr/local/lib/python3.10/dist-packages (from matplotlib->DMBA) (2.8.2)\n",
      "Requirement already satisfied: pytz>=2020.1 in /usr/local/lib/python3.10/dist-packages (from pandas->DMBA) (2024.2)\n",
      "Requirement already satisfied: tzdata>=2022.7 in /usr/local/lib/python3.10/dist-packages (from pandas->DMBA) (2024.2)\n",
      "Requirement already satisfied: joblib>=1.2.0 in /usr/local/lib/python3.10/dist-packages (from scikit-learn->DMBA) (1.4.2)\n",
      "Requirement already satisfied: threadpoolctl>=3.1.0 in /usr/local/lib/python3.10/dist-packages (from scikit-learn->DMBA) (3.5.0)\n",
      "Requirement already satisfied: six>=1.5 in /usr/local/lib/python3.10/dist-packages (from python-dateutil>=2.7->matplotlib->DMBA) (1.16.0)\n"
     ]
    }
   ],
   "source": [
    "!pip install DMBA mord"
   ]
  },
  {
   "cell_type": "code",
   "execution_count": null,
   "metadata": {
    "colab": {
     "base_uri": "https://localhost:8080/"
    },
    "id": "u5EQaHfHkmlp",
    "outputId": "ffea2c6b-171d-48b4-e9f3-b2eeb770505f"
   },
   "outputs": [
    {
     "name": "stdout",
     "output_type": "stream",
     "text": [
      "3.10.12 (main, Nov  6 2024, 20:22:13) [GCC 11.4.0]\n",
      "The scikit-learn version is 1.5.2.\n"
     ]
    }
   ],
   "source": [
    "%matplotlib inline\n",
    "from pathlib import Path\n",
    "import numpy as np\n",
    "import pandas as pd\n",
    "from sklearn.impute import KNNImputer\n",
    "from sklearn.linear_model import LogisticRegression, LogisticRegressionCV\n",
    "from sklearn.model_selection import train_test_split\n",
    "import statsmodels.api as sm\n",
    "import statsmodels.formula.api as smf\n",
    "from mord import LogisticIT\n",
    "import matplotlib.pylab as plt\n",
    "import seaborn as sns\n",
    "from dmba import classificationSummary, gainsChart, liftChart\n",
    "from dmba.metric import AIC_score\n",
    "import math\n",
    "import numpy as np\n",
    "import statsmodels.api as sm\n",
    "import statsmodels.formula.api as smf\n",
    "import sys\n",
    "import sklearn\n",
    "from sklearn.metrics import confusion_matrix\n",
    "from sklearn.preprocessing import StandardScaler\n",
    "print(sys.version)\n",
    "print('The scikit-learn version is {}.'.format(sklearn.__version__))"
   ]
  },
  {
   "cell_type": "markdown",
   "metadata": {
    "id": "sAvwwpuQq3VP"
   },
   "source": [
    "STORY BEHIND THE DATA: \" This data set is from the U.S. Small Business Administration\n",
    "(SBA) and provides historical data from 1987 through 2014, containing 27 variables and\n",
    "899,164 observations.  Each observation represents a loan that was guaranteed to some degree\n",
    "by the SBA. Included is a variable [MIS_Status] which indicates if the loan was paid in full or\n",
    "defaulted/charged off\"(Li, Mickel, Taylor (2018))"
   ]
  },
  {
   "cell_type": "markdown",
   "metadata": {
    "id": "hUgat0kkrx2B"
   },
   "source": [
    "This project asks us to analyze the provided SBA loan data. Based on the data, we must analyze on what basis a loan may be Paid in Full (PIF) or Charged off (CHGOFF). Both of these options are categories under the column MIS_Status. This will be accomplished using numerous machine learning models. By doing this, we asses the Probability of Default (PD) for each loan application."
   ]
  },
  {
   "cell_type": "markdown",
   "metadata": {
    "id": "MrUXPAuAtOiJ"
   },
   "source": [
    "We must consider the balance between potential profit and the potenial loss of potential lending. This is why predicting loan outcomes is so important. Through this analysis, we may aid banks in avoiding granting loans likely to default and approving loans likely to be PIF."
   ]
  },
  {
   "cell_type": "markdown",
   "metadata": {
    "id": "ZU35XPXBpCdD"
   },
   "source": [
    "1. Data Exploration and Preprocessing\n",
    "How is the outcome variable MIS_Status distributed? Identify predictors that may help predict\n",
    "MIS_Status using descriptive statistics and visualization.\n"
   ]
  },
  {
   "cell_type": "markdown",
   "metadata": {
    "id": "VbN_te8-mWM0"
   },
   "source": [
    "<b>Column Descriptions as Provided:"
   ]
  },
  {
   "cell_type": "markdown",
   "metadata": {
    "id": "BUXQ9dDUlsDp"
   },
   "source": [
    "Predictor           | Data Type    | Description\n",
    "--------------------|-------------|----------------------------------------------------------\n",
    "LoanNr_ChkDgt       | Text         | Identifier – Primary Key\n",
    "Name                | Text         | Borrower Name\n",
    "City                | Text         | Borrower City\n",
    "State               | Text         | Borrower State\n",
    "Zip                 | Text         | Borrower Zip Code\n",
    "Bank                | Text         | Bank Name\n",
    "BankState           | Text         | Bank State\n",
    "NAICS               | Text         | North American Industry Classification System code\n",
    "ApprovalDate        | Date/Time    | Date SBA Commitment Issued\n",
    "ApprovalFY          | Text         | Fiscal Year of Commitment\n",
    "Term                | Number       | Loan term in months\n",
    "NoEmp               | Number       | Number of Business Employees\n",
    "NewExist            | Text         | 1 = Existing Business, 2 = New Business\n",
    "CreateJob           | Number       | Number of jobs created\n",
    "RetainedJob         | Number       | Number of jobs retained\n",
    "FranchiseCode       | Text         | Franchise Code 00000 or 00001 = No Franchise\n",
    "UrbanRural          | Text         | 1 = Urban, 2 = Rural, 0 = Undefined\n",
    "RevLineCr           | Text         | Revolving Line of Credit: Y = Yes\n",
    "LowDoc              | Text         | LowDoc Loan Program: Y = Yes, N = No\n",
    "ChgOffDate          | Date/Time    | The date when a loan is declared to be in default\n",
    "DisbursementDate    | Date/Time    | Disbursement Date\n",
    "DisbursementGross   | Currency     | Amount Disbursed\n",
    "BalanceGross        | Currency     | Gross amount outstanding\n",
    "MIS_Status          | Text         | Loan Status, “CHGOFF” (defaulted) or “P I F” (paid in full)\n",
    "ChgOffPrinGr        | Currency     | Charged-off Amount\n",
    "GrAppv              | Currency     | Gross Amount of Loan Approved by Bank\n",
    "SBA_Appv            | Currency     | SBA’s Guaranteed Amount of Approved Loan\n"
   ]
  },
  {
   "cell_type": "code",
   "execution_count": null,
   "metadata": {
    "id": "iYfiLrf2rQEx"
   },
   "outputs": [],
   "source": [
    "DATA = Path('/content/drive/My Drive/dmba-datasets/dmba/')"
   ]
  },
  {
   "cell_type": "code",
   "execution_count": null,
   "metadata": {
    "colab": {
     "base_uri": "https://localhost:8080/",
     "height": 533
    },
    "id": "GMNFyYU6rVd3",
    "outputId": "3a87ae78-3a7e-4605-a656-7f74f92d009a"
   },
   "outputs": [
    {
     "name": "stderr",
     "output_type": "stream",
     "text": [
      "<ipython-input-140-03e29df5a5ac>:1: DtypeWarning: Columns (9) have mixed types. Specify dtype option on import or set low_memory=False.\n",
      "  SBA_df = pd.read_csv(DATA / 'SBAnationalCompetition.csv')\n"
     ]
    },
    {
     "data": {
      "application/vnd.google.colaboratory.intrinsic+json": {
       "type": "dataframe",
       "variable_name": "SBA_df"
      },
      "text/html": [
       "\n",
       "  <div id=\"df-0a0a1f95-bd5d-4cc0-8ed2-070be2c97773\" class=\"colab-df-container\">\n",
       "    <div>\n",
       "<style scoped>\n",
       "    .dataframe tbody tr th:only-of-type {\n",
       "        vertical-align: middle;\n",
       "    }\n",
       "\n",
       "    .dataframe tbody tr th {\n",
       "        vertical-align: top;\n",
       "    }\n",
       "\n",
       "    .dataframe thead th {\n",
       "        text-align: right;\n",
       "    }\n",
       "</style>\n",
       "<table border=\"1\" class=\"dataframe\">\n",
       "  <thead>\n",
       "    <tr style=\"text-align: right;\">\n",
       "      <th></th>\n",
       "      <th>LoanNr_ChkDgt</th>\n",
       "      <th>Name</th>\n",
       "      <th>City</th>\n",
       "      <th>State</th>\n",
       "      <th>Zip</th>\n",
       "      <th>Bank</th>\n",
       "      <th>BankState</th>\n",
       "      <th>NAICS</th>\n",
       "      <th>ApprovalDate</th>\n",
       "      <th>ApprovalFY</th>\n",
       "      <th>...</th>\n",
       "      <th>RevLineCr</th>\n",
       "      <th>LowDoc</th>\n",
       "      <th>ChgOffDate</th>\n",
       "      <th>DisbursementDate</th>\n",
       "      <th>DisbursementGross</th>\n",
       "      <th>BalanceGross</th>\n",
       "      <th>MIS_Status</th>\n",
       "      <th>ChgOffPrinGr</th>\n",
       "      <th>GrAppv</th>\n",
       "      <th>SBA_Appv</th>\n",
       "    </tr>\n",
       "  </thead>\n",
       "  <tbody>\n",
       "    <tr>\n",
       "      <th>0</th>\n",
       "      <td>1000014003</td>\n",
       "      <td>ABC HOBBYCRAFT</td>\n",
       "      <td>EVANSVILLE</td>\n",
       "      <td>IN</td>\n",
       "      <td>47711</td>\n",
       "      <td>FIFTH THIRD BANK</td>\n",
       "      <td>OH</td>\n",
       "      <td>451120</td>\n",
       "      <td>28-Feb-97</td>\n",
       "      <td>1997</td>\n",
       "      <td>...</td>\n",
       "      <td>N</td>\n",
       "      <td>Y</td>\n",
       "      <td>NaN</td>\n",
       "      <td>28-Feb-99</td>\n",
       "      <td>$60,000.00</td>\n",
       "      <td>$0.00</td>\n",
       "      <td>P I F</td>\n",
       "      <td>$0.00</td>\n",
       "      <td>$60,000.00</td>\n",
       "      <td>$48,000.00</td>\n",
       "    </tr>\n",
       "    <tr>\n",
       "      <th>1</th>\n",
       "      <td>1000024006</td>\n",
       "      <td>LANDMARK BAR &amp; GRILLE (THE)</td>\n",
       "      <td>NEW PARIS</td>\n",
       "      <td>IN</td>\n",
       "      <td>46526</td>\n",
       "      <td>1ST SOURCE BANK</td>\n",
       "      <td>IN</td>\n",
       "      <td>722410</td>\n",
       "      <td>28-Feb-97</td>\n",
       "      <td>1997</td>\n",
       "      <td>...</td>\n",
       "      <td>N</td>\n",
       "      <td>Y</td>\n",
       "      <td>NaN</td>\n",
       "      <td>31-May-97</td>\n",
       "      <td>$40,000.00</td>\n",
       "      <td>$0.00</td>\n",
       "      <td>P I F</td>\n",
       "      <td>$0.00</td>\n",
       "      <td>$40,000.00</td>\n",
       "      <td>$32,000.00</td>\n",
       "    </tr>\n",
       "    <tr>\n",
       "      <th>2</th>\n",
       "      <td>1000034009</td>\n",
       "      <td>WHITLOCK DDS, TODD M.</td>\n",
       "      <td>BLOOMINGTON</td>\n",
       "      <td>IN</td>\n",
       "      <td>47401</td>\n",
       "      <td>GRANT COUNTY STATE BANK</td>\n",
       "      <td>IN</td>\n",
       "      <td>621210</td>\n",
       "      <td>28-Feb-97</td>\n",
       "      <td>1997</td>\n",
       "      <td>...</td>\n",
       "      <td>N</td>\n",
       "      <td>N</td>\n",
       "      <td>NaN</td>\n",
       "      <td>31-Dec-97</td>\n",
       "      <td>$287,000.00</td>\n",
       "      <td>$0.00</td>\n",
       "      <td>P I F</td>\n",
       "      <td>$0.00</td>\n",
       "      <td>$287,000.00</td>\n",
       "      <td>$215,250.00</td>\n",
       "    </tr>\n",
       "    <tr>\n",
       "      <th>3</th>\n",
       "      <td>1000044001</td>\n",
       "      <td>BIG BUCKS PAWN &amp; JEWELRY, LLC</td>\n",
       "      <td>BROKEN ARROW</td>\n",
       "      <td>OK</td>\n",
       "      <td>74012</td>\n",
       "      <td>1ST NATL BK &amp; TR CO OF BROKEN</td>\n",
       "      <td>OK</td>\n",
       "      <td>0</td>\n",
       "      <td>28-Feb-97</td>\n",
       "      <td>1997</td>\n",
       "      <td>...</td>\n",
       "      <td>N</td>\n",
       "      <td>Y</td>\n",
       "      <td>NaN</td>\n",
       "      <td>30-Jun-97</td>\n",
       "      <td>$35,000.00</td>\n",
       "      <td>$0.00</td>\n",
       "      <td>P I F</td>\n",
       "      <td>$0.00</td>\n",
       "      <td>$35,000.00</td>\n",
       "      <td>$28,000.00</td>\n",
       "    </tr>\n",
       "    <tr>\n",
       "      <th>4</th>\n",
       "      <td>1000054004</td>\n",
       "      <td>ANASTASIA CONFECTIONS, INC.</td>\n",
       "      <td>ORLANDO</td>\n",
       "      <td>FL</td>\n",
       "      <td>32801</td>\n",
       "      <td>FLORIDA BUS. DEVEL CORP</td>\n",
       "      <td>FL</td>\n",
       "      <td>0</td>\n",
       "      <td>28-Feb-97</td>\n",
       "      <td>1997</td>\n",
       "      <td>...</td>\n",
       "      <td>N</td>\n",
       "      <td>N</td>\n",
       "      <td>NaN</td>\n",
       "      <td>14-May-97</td>\n",
       "      <td>$229,000.00</td>\n",
       "      <td>$0.00</td>\n",
       "      <td>P I F</td>\n",
       "      <td>$0.00</td>\n",
       "      <td>$229,000.00</td>\n",
       "      <td>$229,000.00</td>\n",
       "    </tr>\n",
       "  </tbody>\n",
       "</table>\n",
       "<p>5 rows × 27 columns</p>\n",
       "</div>\n",
       "    <div class=\"colab-df-buttons\">\n",
       "\n",
       "  <div class=\"colab-df-container\">\n",
       "    <button class=\"colab-df-convert\" onclick=\"convertToInteractive('df-0a0a1f95-bd5d-4cc0-8ed2-070be2c97773')\"\n",
       "            title=\"Convert this dataframe to an interactive table.\"\n",
       "            style=\"display:none;\">\n",
       "\n",
       "  <svg xmlns=\"http://www.w3.org/2000/svg\" height=\"24px\" viewBox=\"0 -960 960 960\">\n",
       "    <path d=\"M120-120v-720h720v720H120Zm60-500h600v-160H180v160Zm220 220h160v-160H400v160Zm0 220h160v-160H400v160ZM180-400h160v-160H180v160Zm440 0h160v-160H620v160ZM180-180h160v-160H180v160Zm440 0h160v-160H620v160Z\"/>\n",
       "  </svg>\n",
       "    </button>\n",
       "\n",
       "  <style>\n",
       "    .colab-df-container {\n",
       "      display:flex;\n",
       "      gap: 12px;\n",
       "    }\n",
       "\n",
       "    .colab-df-convert {\n",
       "      background-color: #E8F0FE;\n",
       "      border: none;\n",
       "      border-radius: 50%;\n",
       "      cursor: pointer;\n",
       "      display: none;\n",
       "      fill: #1967D2;\n",
       "      height: 32px;\n",
       "      padding: 0 0 0 0;\n",
       "      width: 32px;\n",
       "    }\n",
       "\n",
       "    .colab-df-convert:hover {\n",
       "      background-color: #E2EBFA;\n",
       "      box-shadow: 0px 1px 2px rgba(60, 64, 67, 0.3), 0px 1px 3px 1px rgba(60, 64, 67, 0.15);\n",
       "      fill: #174EA6;\n",
       "    }\n",
       "\n",
       "    .colab-df-buttons div {\n",
       "      margin-bottom: 4px;\n",
       "    }\n",
       "\n",
       "    [theme=dark] .colab-df-convert {\n",
       "      background-color: #3B4455;\n",
       "      fill: #D2E3FC;\n",
       "    }\n",
       "\n",
       "    [theme=dark] .colab-df-convert:hover {\n",
       "      background-color: #434B5C;\n",
       "      box-shadow: 0px 1px 3px 1px rgba(0, 0, 0, 0.15);\n",
       "      filter: drop-shadow(0px 1px 2px rgba(0, 0, 0, 0.3));\n",
       "      fill: #FFFFFF;\n",
       "    }\n",
       "  </style>\n",
       "\n",
       "    <script>\n",
       "      const buttonEl =\n",
       "        document.querySelector('#df-0a0a1f95-bd5d-4cc0-8ed2-070be2c97773 button.colab-df-convert');\n",
       "      buttonEl.style.display =\n",
       "        google.colab.kernel.accessAllowed ? 'block' : 'none';\n",
       "\n",
       "      async function convertToInteractive(key) {\n",
       "        const element = document.querySelector('#df-0a0a1f95-bd5d-4cc0-8ed2-070be2c97773');\n",
       "        const dataTable =\n",
       "          await google.colab.kernel.invokeFunction('convertToInteractive',\n",
       "                                                    [key], {});\n",
       "        if (!dataTable) return;\n",
       "\n",
       "        const docLinkHtml = 'Like what you see? Visit the ' +\n",
       "          '<a target=\"_blank\" href=https://colab.research.google.com/notebooks/data_table.ipynb>data table notebook</a>'\n",
       "          + ' to learn more about interactive tables.';\n",
       "        element.innerHTML = '';\n",
       "        dataTable['output_type'] = 'display_data';\n",
       "        await google.colab.output.renderOutput(dataTable, element);\n",
       "        const docLink = document.createElement('div');\n",
       "        docLink.innerHTML = docLinkHtml;\n",
       "        element.appendChild(docLink);\n",
       "      }\n",
       "    </script>\n",
       "  </div>\n",
       "\n",
       "\n",
       "<div id=\"df-0c8e529b-87ec-4e7a-8f31-658c1be8acf1\">\n",
       "  <button class=\"colab-df-quickchart\" onclick=\"quickchart('df-0c8e529b-87ec-4e7a-8f31-658c1be8acf1')\"\n",
       "            title=\"Suggest charts\"\n",
       "            style=\"display:none;\">\n",
       "\n",
       "<svg xmlns=\"http://www.w3.org/2000/svg\" height=\"24px\"viewBox=\"0 0 24 24\"\n",
       "     width=\"24px\">\n",
       "    <g>\n",
       "        <path d=\"M19 3H5c-1.1 0-2 .9-2 2v14c0 1.1.9 2 2 2h14c1.1 0 2-.9 2-2V5c0-1.1-.9-2-2-2zM9 17H7v-7h2v7zm4 0h-2V7h2v10zm4 0h-2v-4h2v4z\"/>\n",
       "    </g>\n",
       "</svg>\n",
       "  </button>\n",
       "\n",
       "<style>\n",
       "  .colab-df-quickchart {\n",
       "      --bg-color: #E8F0FE;\n",
       "      --fill-color: #1967D2;\n",
       "      --hover-bg-color: #E2EBFA;\n",
       "      --hover-fill-color: #174EA6;\n",
       "      --disabled-fill-color: #AAA;\n",
       "      --disabled-bg-color: #DDD;\n",
       "  }\n",
       "\n",
       "  [theme=dark] .colab-df-quickchart {\n",
       "      --bg-color: #3B4455;\n",
       "      --fill-color: #D2E3FC;\n",
       "      --hover-bg-color: #434B5C;\n",
       "      --hover-fill-color: #FFFFFF;\n",
       "      --disabled-bg-color: #3B4455;\n",
       "      --disabled-fill-color: #666;\n",
       "  }\n",
       "\n",
       "  .colab-df-quickchart {\n",
       "    background-color: var(--bg-color);\n",
       "    border: none;\n",
       "    border-radius: 50%;\n",
       "    cursor: pointer;\n",
       "    display: none;\n",
       "    fill: var(--fill-color);\n",
       "    height: 32px;\n",
       "    padding: 0;\n",
       "    width: 32px;\n",
       "  }\n",
       "\n",
       "  .colab-df-quickchart:hover {\n",
       "    background-color: var(--hover-bg-color);\n",
       "    box-shadow: 0 1px 2px rgba(60, 64, 67, 0.3), 0 1px 3px 1px rgba(60, 64, 67, 0.15);\n",
       "    fill: var(--button-hover-fill-color);\n",
       "  }\n",
       "\n",
       "  .colab-df-quickchart-complete:disabled,\n",
       "  .colab-df-quickchart-complete:disabled:hover {\n",
       "    background-color: var(--disabled-bg-color);\n",
       "    fill: var(--disabled-fill-color);\n",
       "    box-shadow: none;\n",
       "  }\n",
       "\n",
       "  .colab-df-spinner {\n",
       "    border: 2px solid var(--fill-color);\n",
       "    border-color: transparent;\n",
       "    border-bottom-color: var(--fill-color);\n",
       "    animation:\n",
       "      spin 1s steps(1) infinite;\n",
       "  }\n",
       "\n",
       "  @keyframes spin {\n",
       "    0% {\n",
       "      border-color: transparent;\n",
       "      border-bottom-color: var(--fill-color);\n",
       "      border-left-color: var(--fill-color);\n",
       "    }\n",
       "    20% {\n",
       "      border-color: transparent;\n",
       "      border-left-color: var(--fill-color);\n",
       "      border-top-color: var(--fill-color);\n",
       "    }\n",
       "    30% {\n",
       "      border-color: transparent;\n",
       "      border-left-color: var(--fill-color);\n",
       "      border-top-color: var(--fill-color);\n",
       "      border-right-color: var(--fill-color);\n",
       "    }\n",
       "    40% {\n",
       "      border-color: transparent;\n",
       "      border-right-color: var(--fill-color);\n",
       "      border-top-color: var(--fill-color);\n",
       "    }\n",
       "    60% {\n",
       "      border-color: transparent;\n",
       "      border-right-color: var(--fill-color);\n",
       "    }\n",
       "    80% {\n",
       "      border-color: transparent;\n",
       "      border-right-color: var(--fill-color);\n",
       "      border-bottom-color: var(--fill-color);\n",
       "    }\n",
       "    90% {\n",
       "      border-color: transparent;\n",
       "      border-bottom-color: var(--fill-color);\n",
       "    }\n",
       "  }\n",
       "</style>\n",
       "\n",
       "  <script>\n",
       "    async function quickchart(key) {\n",
       "      const quickchartButtonEl =\n",
       "        document.querySelector('#' + key + ' button');\n",
       "      quickchartButtonEl.disabled = true;  // To prevent multiple clicks.\n",
       "      quickchartButtonEl.classList.add('colab-df-spinner');\n",
       "      try {\n",
       "        const charts = await google.colab.kernel.invokeFunction(\n",
       "            'suggestCharts', [key], {});\n",
       "      } catch (error) {\n",
       "        console.error('Error during call to suggestCharts:', error);\n",
       "      }\n",
       "      quickchartButtonEl.classList.remove('colab-df-spinner');\n",
       "      quickchartButtonEl.classList.add('colab-df-quickchart-complete');\n",
       "    }\n",
       "    (() => {\n",
       "      let quickchartButtonEl =\n",
       "        document.querySelector('#df-0c8e529b-87ec-4e7a-8f31-658c1be8acf1 button');\n",
       "      quickchartButtonEl.style.display =\n",
       "        google.colab.kernel.accessAllowed ? 'block' : 'none';\n",
       "    })();\n",
       "  </script>\n",
       "</div>\n",
       "\n",
       "    </div>\n",
       "  </div>\n"
      ],
      "text/plain": [
       "   LoanNr_ChkDgt                           Name          City State    Zip  \\\n",
       "0     1000014003                 ABC HOBBYCRAFT    EVANSVILLE    IN  47711   \n",
       "1     1000024006    LANDMARK BAR & GRILLE (THE)     NEW PARIS    IN  46526   \n",
       "2     1000034009          WHITLOCK DDS, TODD M.   BLOOMINGTON    IN  47401   \n",
       "3     1000044001  BIG BUCKS PAWN & JEWELRY, LLC  BROKEN ARROW    OK  74012   \n",
       "4     1000054004    ANASTASIA CONFECTIONS, INC.       ORLANDO    FL  32801   \n",
       "\n",
       "                            Bank BankState   NAICS ApprovalDate ApprovalFY  \\\n",
       "0               FIFTH THIRD BANK        OH  451120    28-Feb-97       1997   \n",
       "1                1ST SOURCE BANK        IN  722410    28-Feb-97       1997   \n",
       "2        GRANT COUNTY STATE BANK        IN  621210    28-Feb-97       1997   \n",
       "3  1ST NATL BK & TR CO OF BROKEN        OK       0    28-Feb-97       1997   \n",
       "4        FLORIDA BUS. DEVEL CORP        FL       0    28-Feb-97       1997   \n",
       "\n",
       "   ...  RevLineCr  LowDoc  ChgOffDate  DisbursementDate  DisbursementGross  \\\n",
       "0  ...          N       Y         NaN         28-Feb-99        $60,000.00    \n",
       "1  ...          N       Y         NaN         31-May-97        $40,000.00    \n",
       "2  ...          N       N         NaN         31-Dec-97       $287,000.00    \n",
       "3  ...          N       Y         NaN         30-Jun-97        $35,000.00    \n",
       "4  ...          N       N         NaN         14-May-97       $229,000.00    \n",
       "\n",
       "   BalanceGross  MIS_Status ChgOffPrinGr        GrAppv      SBA_Appv  \n",
       "0        $0.00        P I F       $0.00    $60,000.00    $48,000.00   \n",
       "1        $0.00        P I F       $0.00    $40,000.00    $32,000.00   \n",
       "2        $0.00        P I F       $0.00   $287,000.00   $215,250.00   \n",
       "3        $0.00        P I F       $0.00    $35,000.00    $28,000.00   \n",
       "4        $0.00        P I F       $0.00   $229,000.00   $229,000.00   \n",
       "\n",
       "[5 rows x 27 columns]"
      ]
     },
     "execution_count": 140,
     "metadata": {},
     "output_type": "execute_result"
    }
   ],
   "source": [
    "SBA_df = pd.read_csv(DATA / 'SBAnationalCompetition.csv')\n",
    "SBA_df.head()"
   ]
  },
  {
   "cell_type": "markdown",
   "metadata": {
    "id": "Q9JYHilI4v4o"
   },
   "source": [
    "Shape of the dataframe:"
   ]
  },
  {
   "cell_type": "code",
   "execution_count": null,
   "metadata": {
    "colab": {
     "base_uri": "https://localhost:8080/"
    },
    "id": "YwpDiTzzjh4X",
    "outputId": "efe0d475-8aed-4ea5-e762-7ba682b40147"
   },
   "outputs": [
    {
     "data": {
      "text/plain": [
       "(899164, 27)"
      ]
     },
     "execution_count": 141,
     "metadata": {},
     "output_type": "execute_result"
    }
   ],
   "source": [
    "SBA_df.shape"
   ]
  },
  {
   "cell_type": "markdown",
   "metadata": {
    "id": "qw4zsLpsFiEP"
   },
   "source": [
    "# <B> Y Feature: MIS_Status"
   ]
  },
  {
   "cell_type": "markdown",
   "metadata": {
    "id": "o4VUtxBmzT2d"
   },
   "source": [
    "Determining our Y Feature before any data cleaning and selection is necessary as it establishes the objective and context of our analysis. This first step allows us to prioritize certain aspects of our data within the logical context of real-world applications. With this understanding, we can assume that a categorical input will be necessary for representing outcomes."
   ]
  },
  {
   "cell_type": "markdown",
   "metadata": {
    "id": "Oqjon7um-uBB"
   },
   "source": [
    "From the table above we see that MIS status has two options that must be converted into dummies. This is also necessary as we must create a 1/0 binary outcome for the PIF and CHGOFF. This binary representation of the \"success class\" is crucial for machine learning and modeling. With this code, 1 will represent loans that are CHGOFF and 0 represents the loans that were PIF."
   ]
  },
  {
   "cell_type": "code",
   "execution_count": null,
   "metadata": {
    "id": "Kizc7x0DCOOd"
   },
   "outputs": [],
   "source": [
    "MIS_dummies = pd.get_dummies(SBA_df['MIS_Status'], prefix='Default', dtype=int)\n",
    "SBA_df = pd.concat([SBA_df, MIS_dummies], axis=1)\n",
    "SBA_df.drop('Default_P I F', axis=1, inplace=True)\n",
    "SBA_df.drop('MIS_Status', axis=1, inplace=True)"
   ]
  },
  {
   "cell_type": "code",
   "execution_count": null,
   "metadata": {
    "colab": {
     "base_uri": "https://localhost:8080/"
    },
    "id": "PEsoPVV8CoRe",
    "outputId": "f1a89b7c-e965-4fc4-a847-d60dfc4f4593"
   },
   "outputs": [
    {
     "data": {
      "text/plain": [
       "['LoanNr_ChkDgt',\n",
       " 'Name',\n",
       " 'City',\n",
       " 'State',\n",
       " 'Zip',\n",
       " 'Bank',\n",
       " 'BankState',\n",
       " 'NAICS',\n",
       " 'ApprovalDate',\n",
       " 'ApprovalFY',\n",
       " 'Term',\n",
       " 'NoEmp',\n",
       " 'NewExist',\n",
       " 'CreateJob',\n",
       " 'RetainedJob',\n",
       " 'FranchiseCode',\n",
       " 'UrbanRural',\n",
       " 'RevLineCr',\n",
       " 'LowDoc',\n",
       " 'ChgOffDate',\n",
       " 'DisbursementDate',\n",
       " 'DisbursementGross',\n",
       " 'BalanceGross',\n",
       " 'ChgOffPrinGr',\n",
       " 'GrAppv',\n",
       " 'SBA_Appv',\n",
       " 'Default_CHGOFF']"
      ]
     },
     "execution_count": 143,
     "metadata": {},
     "output_type": "execute_result"
    }
   ],
   "source": [
    "list(SBA_df.columns)"
   ]
  },
  {
   "cell_type": "markdown",
   "metadata": {
    "id": "KDN3S9Q5HIza"
   },
   "source": [
    "# Data Types and Data Cleaning"
   ]
  },
  {
   "cell_type": "markdown",
   "metadata": {
    "id": "kdPTNvt64zbh"
   },
   "source": [
    "Identifying the data type of each column as well as the number of unique samples per column is important. This provides preliminary analysis which helps guide the selection of important vs. non-important features."
   ]
  },
  {
   "cell_type": "code",
   "execution_count": null,
   "metadata": {
    "colab": {
     "base_uri": "https://localhost:8080/",
     "height": 896
    },
    "id": "2mvgLzozjZvJ",
    "outputId": "a8401c36-b506-498d-bc2a-8d91f42062c5"
   },
   "outputs": [
    {
     "data": {
      "application/vnd.google.colaboratory.intrinsic+json": {
       "summary": "{\n  \"name\": \"dfDesc\",\n  \"rows\": 27,\n  \"fields\": [\n    {\n      \"column\": \"feature\",\n      \"properties\": {\n        \"dtype\": \"string\",\n        \"num_unique_values\": 27,\n        \"samples\": [\n          \"ApprovalDate\",\n          \"CreateJob\",\n          \"ApprovalFY\"\n        ],\n        \"semantic_type\": \"\",\n        \"description\": \"\"\n      }\n    },\n    {\n      \"column\": \"data_type\",\n      \"properties\": {\n        \"dtype\": \"category\",\n        \"num_unique_values\": 3,\n        \"samples\": [\n          \"int64\",\n          \"object\",\n          \"float64\"\n        ],\n        \"semantic_type\": \"\",\n        \"description\": \"\"\n      }\n    },\n    {\n      \"column\": \"# of Unique Samples\",\n      \"properties\": {\n        \"dtype\": \"number\",\n        \"std\": 222483,\n        \"min\": 2,\n        \"max\": 899164,\n        \"num_unique_values\": 26,\n        \"samples\": [\n          9859,\n          18,\n          899164\n        ],\n        \"semantic_type\": \"\",\n        \"description\": \"\"\n      }\n    }\n  ]\n}",
       "type": "dataframe",
       "variable_name": "dfDesc"
      },
      "text/html": [
       "\n",
       "  <div id=\"df-5f1564e9-ad75-4665-b23e-9e41b65fac07\" class=\"colab-df-container\">\n",
       "    <div>\n",
       "<style scoped>\n",
       "    .dataframe tbody tr th:only-of-type {\n",
       "        vertical-align: middle;\n",
       "    }\n",
       "\n",
       "    .dataframe tbody tr th {\n",
       "        vertical-align: top;\n",
       "    }\n",
       "\n",
       "    .dataframe thead th {\n",
       "        text-align: right;\n",
       "    }\n",
       "</style>\n",
       "<table border=\"1\" class=\"dataframe\">\n",
       "  <thead>\n",
       "    <tr style=\"text-align: right;\">\n",
       "      <th></th>\n",
       "      <th>feature</th>\n",
       "      <th>data_type</th>\n",
       "      <th># of Unique Samples</th>\n",
       "    </tr>\n",
       "  </thead>\n",
       "  <tbody>\n",
       "    <tr>\n",
       "      <th>0</th>\n",
       "      <td>LoanNr_ChkDgt</td>\n",
       "      <td>int64</td>\n",
       "      <td>899164</td>\n",
       "    </tr>\n",
       "    <tr>\n",
       "      <th>1</th>\n",
       "      <td>Name</td>\n",
       "      <td>object</td>\n",
       "      <td>779583</td>\n",
       "    </tr>\n",
       "    <tr>\n",
       "      <th>2</th>\n",
       "      <td>City</td>\n",
       "      <td>object</td>\n",
       "      <td>32581</td>\n",
       "    </tr>\n",
       "    <tr>\n",
       "      <th>3</th>\n",
       "      <td>State</td>\n",
       "      <td>object</td>\n",
       "      <td>51</td>\n",
       "    </tr>\n",
       "    <tr>\n",
       "      <th>4</th>\n",
       "      <td>Zip</td>\n",
       "      <td>int64</td>\n",
       "      <td>33611</td>\n",
       "    </tr>\n",
       "    <tr>\n",
       "      <th>5</th>\n",
       "      <td>Bank</td>\n",
       "      <td>object</td>\n",
       "      <td>5802</td>\n",
       "    </tr>\n",
       "    <tr>\n",
       "      <th>6</th>\n",
       "      <td>BankState</td>\n",
       "      <td>object</td>\n",
       "      <td>56</td>\n",
       "    </tr>\n",
       "    <tr>\n",
       "      <th>7</th>\n",
       "      <td>NAICS</td>\n",
       "      <td>int64</td>\n",
       "      <td>1312</td>\n",
       "    </tr>\n",
       "    <tr>\n",
       "      <th>8</th>\n",
       "      <td>ApprovalDate</td>\n",
       "      <td>object</td>\n",
       "      <td>9859</td>\n",
       "    </tr>\n",
       "    <tr>\n",
       "      <th>9</th>\n",
       "      <td>ApprovalFY</td>\n",
       "      <td>object</td>\n",
       "      <td>70</td>\n",
       "    </tr>\n",
       "    <tr>\n",
       "      <th>10</th>\n",
       "      <td>Term</td>\n",
       "      <td>int64</td>\n",
       "      <td>412</td>\n",
       "    </tr>\n",
       "    <tr>\n",
       "      <th>11</th>\n",
       "      <td>NoEmp</td>\n",
       "      <td>int64</td>\n",
       "      <td>599</td>\n",
       "    </tr>\n",
       "    <tr>\n",
       "      <th>12</th>\n",
       "      <td>NewExist</td>\n",
       "      <td>float64</td>\n",
       "      <td>3</td>\n",
       "    </tr>\n",
       "    <tr>\n",
       "      <th>13</th>\n",
       "      <td>CreateJob</td>\n",
       "      <td>int64</td>\n",
       "      <td>246</td>\n",
       "    </tr>\n",
       "    <tr>\n",
       "      <th>14</th>\n",
       "      <td>RetainedJob</td>\n",
       "      <td>int64</td>\n",
       "      <td>358</td>\n",
       "    </tr>\n",
       "    <tr>\n",
       "      <th>15</th>\n",
       "      <td>FranchiseCode</td>\n",
       "      <td>int64</td>\n",
       "      <td>2768</td>\n",
       "    </tr>\n",
       "    <tr>\n",
       "      <th>16</th>\n",
       "      <td>UrbanRural</td>\n",
       "      <td>int64</td>\n",
       "      <td>3</td>\n",
       "    </tr>\n",
       "    <tr>\n",
       "      <th>17</th>\n",
       "      <td>RevLineCr</td>\n",
       "      <td>object</td>\n",
       "      <td>18</td>\n",
       "    </tr>\n",
       "    <tr>\n",
       "      <th>18</th>\n",
       "      <td>LowDoc</td>\n",
       "      <td>object</td>\n",
       "      <td>8</td>\n",
       "    </tr>\n",
       "    <tr>\n",
       "      <th>19</th>\n",
       "      <td>ChgOffDate</td>\n",
       "      <td>object</td>\n",
       "      <td>6448</td>\n",
       "    </tr>\n",
       "    <tr>\n",
       "      <th>20</th>\n",
       "      <td>DisbursementDate</td>\n",
       "      <td>object</td>\n",
       "      <td>8472</td>\n",
       "    </tr>\n",
       "    <tr>\n",
       "      <th>21</th>\n",
       "      <td>DisbursementGross</td>\n",
       "      <td>object</td>\n",
       "      <td>118859</td>\n",
       "    </tr>\n",
       "    <tr>\n",
       "      <th>22</th>\n",
       "      <td>BalanceGross</td>\n",
       "      <td>object</td>\n",
       "      <td>15</td>\n",
       "    </tr>\n",
       "    <tr>\n",
       "      <th>23</th>\n",
       "      <td>ChgOffPrinGr</td>\n",
       "      <td>object</td>\n",
       "      <td>83165</td>\n",
       "    </tr>\n",
       "    <tr>\n",
       "      <th>24</th>\n",
       "      <td>GrAppv</td>\n",
       "      <td>object</td>\n",
       "      <td>22128</td>\n",
       "    </tr>\n",
       "    <tr>\n",
       "      <th>25</th>\n",
       "      <td>SBA_Appv</td>\n",
       "      <td>object</td>\n",
       "      <td>38326</td>\n",
       "    </tr>\n",
       "    <tr>\n",
       "      <th>26</th>\n",
       "      <td>Default_CHGOFF</td>\n",
       "      <td>int64</td>\n",
       "      <td>2</td>\n",
       "    </tr>\n",
       "  </tbody>\n",
       "</table>\n",
       "</div>\n",
       "    <div class=\"colab-df-buttons\">\n",
       "\n",
       "  <div class=\"colab-df-container\">\n",
       "    <button class=\"colab-df-convert\" onclick=\"convertToInteractive('df-5f1564e9-ad75-4665-b23e-9e41b65fac07')\"\n",
       "            title=\"Convert this dataframe to an interactive table.\"\n",
       "            style=\"display:none;\">\n",
       "\n",
       "  <svg xmlns=\"http://www.w3.org/2000/svg\" height=\"24px\" viewBox=\"0 -960 960 960\">\n",
       "    <path d=\"M120-120v-720h720v720H120Zm60-500h600v-160H180v160Zm220 220h160v-160H400v160Zm0 220h160v-160H400v160ZM180-400h160v-160H180v160Zm440 0h160v-160H620v160ZM180-180h160v-160H180v160Zm440 0h160v-160H620v160Z\"/>\n",
       "  </svg>\n",
       "    </button>\n",
       "\n",
       "  <style>\n",
       "    .colab-df-container {\n",
       "      display:flex;\n",
       "      gap: 12px;\n",
       "    }\n",
       "\n",
       "    .colab-df-convert {\n",
       "      background-color: #E8F0FE;\n",
       "      border: none;\n",
       "      border-radius: 50%;\n",
       "      cursor: pointer;\n",
       "      display: none;\n",
       "      fill: #1967D2;\n",
       "      height: 32px;\n",
       "      padding: 0 0 0 0;\n",
       "      width: 32px;\n",
       "    }\n",
       "\n",
       "    .colab-df-convert:hover {\n",
       "      background-color: #E2EBFA;\n",
       "      box-shadow: 0px 1px 2px rgba(60, 64, 67, 0.3), 0px 1px 3px 1px rgba(60, 64, 67, 0.15);\n",
       "      fill: #174EA6;\n",
       "    }\n",
       "\n",
       "    .colab-df-buttons div {\n",
       "      margin-bottom: 4px;\n",
       "    }\n",
       "\n",
       "    [theme=dark] .colab-df-convert {\n",
       "      background-color: #3B4455;\n",
       "      fill: #D2E3FC;\n",
       "    }\n",
       "\n",
       "    [theme=dark] .colab-df-convert:hover {\n",
       "      background-color: #434B5C;\n",
       "      box-shadow: 0px 1px 3px 1px rgba(0, 0, 0, 0.15);\n",
       "      filter: drop-shadow(0px 1px 2px rgba(0, 0, 0, 0.3));\n",
       "      fill: #FFFFFF;\n",
       "    }\n",
       "  </style>\n",
       "\n",
       "    <script>\n",
       "      const buttonEl =\n",
       "        document.querySelector('#df-5f1564e9-ad75-4665-b23e-9e41b65fac07 button.colab-df-convert');\n",
       "      buttonEl.style.display =\n",
       "        google.colab.kernel.accessAllowed ? 'block' : 'none';\n",
       "\n",
       "      async function convertToInteractive(key) {\n",
       "        const element = document.querySelector('#df-5f1564e9-ad75-4665-b23e-9e41b65fac07');\n",
       "        const dataTable =\n",
       "          await google.colab.kernel.invokeFunction('convertToInteractive',\n",
       "                                                    [key], {});\n",
       "        if (!dataTable) return;\n",
       "\n",
       "        const docLinkHtml = 'Like what you see? Visit the ' +\n",
       "          '<a target=\"_blank\" href=https://colab.research.google.com/notebooks/data_table.ipynb>data table notebook</a>'\n",
       "          + ' to learn more about interactive tables.';\n",
       "        element.innerHTML = '';\n",
       "        dataTable['output_type'] = 'display_data';\n",
       "        await google.colab.output.renderOutput(dataTable, element);\n",
       "        const docLink = document.createElement('div');\n",
       "        docLink.innerHTML = docLinkHtml;\n",
       "        element.appendChild(docLink);\n",
       "      }\n",
       "    </script>\n",
       "  </div>\n",
       "\n",
       "\n",
       "<div id=\"df-284b527a-1e0b-4abd-a774-1eda3242fb27\">\n",
       "  <button class=\"colab-df-quickchart\" onclick=\"quickchart('df-284b527a-1e0b-4abd-a774-1eda3242fb27')\"\n",
       "            title=\"Suggest charts\"\n",
       "            style=\"display:none;\">\n",
       "\n",
       "<svg xmlns=\"http://www.w3.org/2000/svg\" height=\"24px\"viewBox=\"0 0 24 24\"\n",
       "     width=\"24px\">\n",
       "    <g>\n",
       "        <path d=\"M19 3H5c-1.1 0-2 .9-2 2v14c0 1.1.9 2 2 2h14c1.1 0 2-.9 2-2V5c0-1.1-.9-2-2-2zM9 17H7v-7h2v7zm4 0h-2V7h2v10zm4 0h-2v-4h2v4z\"/>\n",
       "    </g>\n",
       "</svg>\n",
       "  </button>\n",
       "\n",
       "<style>\n",
       "  .colab-df-quickchart {\n",
       "      --bg-color: #E8F0FE;\n",
       "      --fill-color: #1967D2;\n",
       "      --hover-bg-color: #E2EBFA;\n",
       "      --hover-fill-color: #174EA6;\n",
       "      --disabled-fill-color: #AAA;\n",
       "      --disabled-bg-color: #DDD;\n",
       "  }\n",
       "\n",
       "  [theme=dark] .colab-df-quickchart {\n",
       "      --bg-color: #3B4455;\n",
       "      --fill-color: #D2E3FC;\n",
       "      --hover-bg-color: #434B5C;\n",
       "      --hover-fill-color: #FFFFFF;\n",
       "      --disabled-bg-color: #3B4455;\n",
       "      --disabled-fill-color: #666;\n",
       "  }\n",
       "\n",
       "  .colab-df-quickchart {\n",
       "    background-color: var(--bg-color);\n",
       "    border: none;\n",
       "    border-radius: 50%;\n",
       "    cursor: pointer;\n",
       "    display: none;\n",
       "    fill: var(--fill-color);\n",
       "    height: 32px;\n",
       "    padding: 0;\n",
       "    width: 32px;\n",
       "  }\n",
       "\n",
       "  .colab-df-quickchart:hover {\n",
       "    background-color: var(--hover-bg-color);\n",
       "    box-shadow: 0 1px 2px rgba(60, 64, 67, 0.3), 0 1px 3px 1px rgba(60, 64, 67, 0.15);\n",
       "    fill: var(--button-hover-fill-color);\n",
       "  }\n",
       "\n",
       "  .colab-df-quickchart-complete:disabled,\n",
       "  .colab-df-quickchart-complete:disabled:hover {\n",
       "    background-color: var(--disabled-bg-color);\n",
       "    fill: var(--disabled-fill-color);\n",
       "    box-shadow: none;\n",
       "  }\n",
       "\n",
       "  .colab-df-spinner {\n",
       "    border: 2px solid var(--fill-color);\n",
       "    border-color: transparent;\n",
       "    border-bottom-color: var(--fill-color);\n",
       "    animation:\n",
       "      spin 1s steps(1) infinite;\n",
       "  }\n",
       "\n",
       "  @keyframes spin {\n",
       "    0% {\n",
       "      border-color: transparent;\n",
       "      border-bottom-color: var(--fill-color);\n",
       "      border-left-color: var(--fill-color);\n",
       "    }\n",
       "    20% {\n",
       "      border-color: transparent;\n",
       "      border-left-color: var(--fill-color);\n",
       "      border-top-color: var(--fill-color);\n",
       "    }\n",
       "    30% {\n",
       "      border-color: transparent;\n",
       "      border-left-color: var(--fill-color);\n",
       "      border-top-color: var(--fill-color);\n",
       "      border-right-color: var(--fill-color);\n",
       "    }\n",
       "    40% {\n",
       "      border-color: transparent;\n",
       "      border-right-color: var(--fill-color);\n",
       "      border-top-color: var(--fill-color);\n",
       "    }\n",
       "    60% {\n",
       "      border-color: transparent;\n",
       "      border-right-color: var(--fill-color);\n",
       "    }\n",
       "    80% {\n",
       "      border-color: transparent;\n",
       "      border-right-color: var(--fill-color);\n",
       "      border-bottom-color: var(--fill-color);\n",
       "    }\n",
       "    90% {\n",
       "      border-color: transparent;\n",
       "      border-bottom-color: var(--fill-color);\n",
       "    }\n",
       "  }\n",
       "</style>\n",
       "\n",
       "  <script>\n",
       "    async function quickchart(key) {\n",
       "      const quickchartButtonEl =\n",
       "        document.querySelector('#' + key + ' button');\n",
       "      quickchartButtonEl.disabled = true;  // To prevent multiple clicks.\n",
       "      quickchartButtonEl.classList.add('colab-df-spinner');\n",
       "      try {\n",
       "        const charts = await google.colab.kernel.invokeFunction(\n",
       "            'suggestCharts', [key], {});\n",
       "      } catch (error) {\n",
       "        console.error('Error during call to suggestCharts:', error);\n",
       "      }\n",
       "      quickchartButtonEl.classList.remove('colab-df-spinner');\n",
       "      quickchartButtonEl.classList.add('colab-df-quickchart-complete');\n",
       "    }\n",
       "    (() => {\n",
       "      let quickchartButtonEl =\n",
       "        document.querySelector('#df-284b527a-1e0b-4abd-a774-1eda3242fb27 button');\n",
       "      quickchartButtonEl.style.display =\n",
       "        google.colab.kernel.accessAllowed ? 'block' : 'none';\n",
       "    })();\n",
       "  </script>\n",
       "</div>\n",
       "\n",
       "  <div id=\"id_73d27736-3482-43bc-af71-c83110573985\">\n",
       "    <style>\n",
       "      .colab-df-generate {\n",
       "        background-color: #E8F0FE;\n",
       "        border: none;\n",
       "        border-radius: 50%;\n",
       "        cursor: pointer;\n",
       "        display: none;\n",
       "        fill: #1967D2;\n",
       "        height: 32px;\n",
       "        padding: 0 0 0 0;\n",
       "        width: 32px;\n",
       "      }\n",
       "\n",
       "      .colab-df-generate:hover {\n",
       "        background-color: #E2EBFA;\n",
       "        box-shadow: 0px 1px 2px rgba(60, 64, 67, 0.3), 0px 1px 3px 1px rgba(60, 64, 67, 0.15);\n",
       "        fill: #174EA6;\n",
       "      }\n",
       "\n",
       "      [theme=dark] .colab-df-generate {\n",
       "        background-color: #3B4455;\n",
       "        fill: #D2E3FC;\n",
       "      }\n",
       "\n",
       "      [theme=dark] .colab-df-generate:hover {\n",
       "        background-color: #434B5C;\n",
       "        box-shadow: 0px 1px 3px 1px rgba(0, 0, 0, 0.15);\n",
       "        filter: drop-shadow(0px 1px 2px rgba(0, 0, 0, 0.3));\n",
       "        fill: #FFFFFF;\n",
       "      }\n",
       "    </style>\n",
       "    <button class=\"colab-df-generate\" onclick=\"generateWithVariable('dfDesc')\"\n",
       "            title=\"Generate code using this dataframe.\"\n",
       "            style=\"display:none;\">\n",
       "\n",
       "  <svg xmlns=\"http://www.w3.org/2000/svg\" height=\"24px\"viewBox=\"0 0 24 24\"\n",
       "       width=\"24px\">\n",
       "    <path d=\"M7,19H8.4L18.45,9,17,7.55,7,17.6ZM5,21V16.75L18.45,3.32a2,2,0,0,1,2.83,0l1.4,1.43a1.91,1.91,0,0,1,.58,1.4,1.91,1.91,0,0,1-.58,1.4L9.25,21ZM18.45,9,17,7.55Zm-12,3A5.31,5.31,0,0,0,4.9,8.1,5.31,5.31,0,0,0,1,6.5,5.31,5.31,0,0,0,4.9,4.9,5.31,5.31,0,0,0,6.5,1,5.31,5.31,0,0,0,8.1,4.9,5.31,5.31,0,0,0,12,6.5,5.46,5.46,0,0,0,6.5,12Z\"/>\n",
       "  </svg>\n",
       "    </button>\n",
       "    <script>\n",
       "      (() => {\n",
       "      const buttonEl =\n",
       "        document.querySelector('#id_73d27736-3482-43bc-af71-c83110573985 button.colab-df-generate');\n",
       "      buttonEl.style.display =\n",
       "        google.colab.kernel.accessAllowed ? 'block' : 'none';\n",
       "\n",
       "      buttonEl.onclick = () => {\n",
       "        google.colab.notebook.generateWithVariable('dfDesc');\n",
       "      }\n",
       "      })();\n",
       "    </script>\n",
       "  </div>\n",
       "\n",
       "    </div>\n",
       "  </div>\n"
      ],
      "text/plain": [
       "              feature data_type  # of Unique Samples\n",
       "0       LoanNr_ChkDgt     int64               899164\n",
       "1                Name    object               779583\n",
       "2                City    object                32581\n",
       "3               State    object                   51\n",
       "4                 Zip     int64                33611\n",
       "5                Bank    object                 5802\n",
       "6           BankState    object                   56\n",
       "7               NAICS     int64                 1312\n",
       "8        ApprovalDate    object                 9859\n",
       "9          ApprovalFY    object                   70\n",
       "10               Term     int64                  412\n",
       "11              NoEmp     int64                  599\n",
       "12           NewExist   float64                    3\n",
       "13          CreateJob     int64                  246\n",
       "14        RetainedJob     int64                  358\n",
       "15      FranchiseCode     int64                 2768\n",
       "16         UrbanRural     int64                    3\n",
       "17          RevLineCr    object                   18\n",
       "18             LowDoc    object                    8\n",
       "19         ChgOffDate    object                 6448\n",
       "20   DisbursementDate    object                 8472\n",
       "21  DisbursementGross    object               118859\n",
       "22       BalanceGross    object                   15\n",
       "23       ChgOffPrinGr    object                83165\n",
       "24             GrAppv    object                22128\n",
       "25           SBA_Appv    object                38326\n",
       "26     Default_CHGOFF     int64                    2"
      ]
     },
     "execution_count": 144,
     "metadata": {},
     "output_type": "execute_result"
    }
   ],
   "source": [
    "list_item = []\n",
    "for col in SBA_df.columns:\n",
    "    list_item.append([col,  # Feature name\n",
    "                      SBA_df[col].dtype,  # Data type\n",
    "                      SBA_df[col].nunique()])  # Number of unique samples\n",
    "\n",
    "dfDesc = pd.DataFrame(columns=['feature', 'data_type', '# of Unique Samples'], data=list_item)\n",
    "dfDesc"
   ]
  },
  {
   "cell_type": "markdown",
   "metadata": {
    "id": "UpoimceAdarc"
   },
   "source": [
    "Now, let us address the data being interpreted as the incorrect data type."
   ]
  },
  {
   "cell_type": "markdown",
   "metadata": {
    "id": "eCQemxE2SOGv"
   },
   "source": [
    "From this table, we can begin to address the columns being considered an object when they contain numerical data. This is an issue with many of the currency columns."
   ]
  },
  {
   "cell_type": "code",
   "execution_count": null,
   "metadata": {
    "id": "ks8RSF55Sfwz"
   },
   "outputs": [],
   "source": [
    "for col in ['DisbursementGross', 'BalanceGross', 'ChgOffPrinGr', 'GrAppv', 'SBA_Appv']:\n",
    "    SBA_df[col] = SBA_df[col].str.replace('$', '', regex=False).str.replace(',', '', regex=False).astype(float)"
   ]
  },
  {
   "cell_type": "markdown",
   "metadata": {
    "id": "3rosJRA9ZHNl"
   },
   "source": [
    "Next I addressed Approval and Disbursement date and fixed them to date/time format."
   ]
  },
  {
   "cell_type": "code",
   "execution_count": null,
   "metadata": {
    "id": "GEniGYNxZVXS"
   },
   "outputs": [],
   "source": [
    "SBA_df['ApprovalDate'] = pd.to_datetime(SBA_df['ApprovalDate'], format='%d-%b-%y')\n",
    "SBA_df['DisbursementDate'] = pd.to_datetime(SBA_df['DisbursementDate'], format='%d-%b-%y')"
   ]
  },
  {
   "cell_type": "markdown",
   "metadata": {
    "id": "crpbrQeUYPqy"
   },
   "source": [
    "To figure out why Approval Fiscal Year was being identified as an object I called for an array of the unique values. 1976 A contains a string that must be cleaned to fix this issue."
   ]
  },
  {
   "cell_type": "code",
   "execution_count": null,
   "metadata": {
    "colab": {
     "base_uri": "https://localhost:8080/"
    },
    "id": "gouzqOuyWLm_",
    "outputId": "31d70823-7cd9-4b2e-baa8-464c9c89a442"
   },
   "outputs": [
    {
     "data": {
      "text/plain": [
       "array([1997, 1980, 2006, 1998, 1999, 2000, 2001, 1972, 2003, 2004, 1978,\n",
       "       1979, 1981, 2005, 1962, 1982, 1965, 1966, 1983, 1973, 1984, 2007,\n",
       "       1985, 1986, 1987, 2008, 1988, 2009, 1989, 1991, 1990, 1974, 2010,\n",
       "       1967, 2011, 1992, 1993, 2002, 2012, 2013, 1994, 2014, 1975, 1977,\n",
       "       1976, 1968, '2004', '1994', '1979', '1976', '1967', '1975', '1974',\n",
       "       '1977', '1981', '1982', '1983', '1984', '1978', '1980', '1968',\n",
       "       '1976A', '1969', '1995', '1970', '2005', '1996', '1971', 1996,\n",
       "       1971], dtype=object)"
      ]
     },
     "execution_count": 147,
     "metadata": {},
     "output_type": "execute_result"
    }
   ],
   "source": [
    "SBA_df['ApprovalFY'].unique()"
   ]
  },
  {
   "cell_type": "code",
   "execution_count": null,
   "metadata": {
    "id": "D18jfRHjXKSt"
   },
   "outputs": [],
   "source": [
    "cleaned_approval_fy = []\n",
    "\n",
    "for value in SBA_df['ApprovalFY']:\n",
    "    if isinstance(value, str):\n",
    "        cleaned_approval_fy.append(int(value.replace('A', '')))\n",
    "    else:\n",
    "        cleaned_approval_fy.append(value)\n",
    "\n",
    "SBA_df['ApprovalFY'] = cleaned_approval_fy"
   ]
  },
  {
   "cell_type": "markdown",
   "metadata": {
    "id": "3ELDvP6KcFJO"
   },
   "source": [
    "The zip code must be changed to String as it is a classification, not a numerical value. The same is true for the Urban-Rural column."
   ]
  },
  {
   "cell_type": "code",
   "execution_count": null,
   "metadata": {
    "id": "LINB7j89bHJZ"
   },
   "outputs": [],
   "source": [
    "SBA_df = SBA_df.astype({'Zip': 'object', 'UrbanRural': 'object'})"
   ]
  },
  {
   "cell_type": "markdown",
   "metadata": {
    "id": "LcaonhbkHGRu"
   },
   "source": [
    "### TRAIN TEST SPLIT"
   ]
  },
  {
   "cell_type": "markdown",
   "metadata": {
    "id": "wG9N4cT0ZrOG"
   },
   "source": [
    "Before moving forward, we can talk about the importance of running train_test_split at this specific point in the notebook, as a means of protecting the original data frame, as well as protecting our validation set. As we move closer to feature selection and model building, this is vital to prevent an overly optimistic evaluation of our model performances."
   ]
  },
  {
   "cell_type": "code",
   "execution_count": null,
   "metadata": {
    "id": "Zm19FWUaHRAT"
   },
   "outputs": [],
   "source": [
    "X = SBA_df.drop('Default_CHGOFF', axis=1)  # X Features\n",
    "y = SBA_df['Default_CHGOFF']  # Y\n",
    "train_X, valid_X, train_y, valid_y = train_test_split(X, y, test_size=0.4, random_state=1)"
   ]
  },
  {
   "cell_type": "markdown",
   "metadata": {
    "id": "aGDvHhN69U31"
   },
   "source": [
    "Next, this code identifys the number of missing values in each column. This is an important step of preporcessing as missing values can negativley impact the quality of our analysis and modeling. For this reasons we will remove the missing values from our data.\n"
   ]
  },
  {
   "cell_type": "code",
   "execution_count": null,
   "metadata": {
    "colab": {
     "base_uri": "https://localhost:8080/"
    },
    "id": "f1ijpxaK8GU0",
    "outputId": "3917ad07-79d8-4fb4-b0a0-0cc132e195b5"
   },
   "outputs": [
    {
     "name": "stdout",
     "output_type": "stream",
     "text": [
      "Total Missing Values (All Features): 749262\n"
     ]
    }
   ],
   "source": [
    "total_missing_train = train_X.isna().sum().sum()  # Sum across all columns in train_X\n",
    "total_missing_valid = valid_X.isna().sum().sum()  # Sum across all columns in valid_X\n",
    "\n",
    "total_missing = total_missing_train + total_missing_valid  # Total missing in both datasets\n",
    "\n",
    "print(\"Total Missing Values (All Features):\", total_missing)"
   ]
  },
  {
   "cell_type": "code",
   "execution_count": null,
   "metadata": {
    "colab": {
     "base_uri": "https://localhost:8080/"
    },
    "id": "y0LjYbiMmqx1",
    "outputId": "666dc50e-7ee5-49e5-f2ca-750ece30e9d5"
   },
   "outputs": [
    {
     "data": {
      "text/plain": [
       "(539498, 26)"
      ]
     },
     "execution_count": 152,
     "metadata": {},
     "output_type": "execute_result"
    }
   ],
   "source": [
    "train_X.shape"
   ]
  },
  {
   "cell_type": "code",
   "execution_count": null,
   "metadata": {
    "colab": {
     "base_uri": "https://localhost:8080/"
    },
    "id": "sNGxLp9GmzWR",
    "outputId": "37b6ad62-7ebf-4f89-f78e-820974bae6cf"
   },
   "outputs": [
    {
     "data": {
      "text/plain": [
       "(359666, 26)"
      ]
     },
     "execution_count": 153,
     "metadata": {},
     "output_type": "execute_result"
    }
   ],
   "source": [
    "valid_X.shape"
   ]
  },
  {
   "cell_type": "code",
   "execution_count": null,
   "metadata": {
    "colab": {
     "base_uri": "https://localhost:8080/"
    },
    "id": "3qCc0eUom3cj",
    "outputId": "5c803526-7c2d-4985-9747-26991ceae999"
   },
   "outputs": [
    {
     "data": {
      "text/plain": [
       "(539498,)"
      ]
     },
     "execution_count": 154,
     "metadata": {},
     "output_type": "execute_result"
    }
   ],
   "source": [
    "train_y.shape"
   ]
  },
  {
   "cell_type": "code",
   "execution_count": null,
   "metadata": {
    "colab": {
     "base_uri": "https://localhost:8080/"
    },
    "id": "XS7O_8sem9Rr",
    "outputId": "9e5d2a71-2247-41ee-f5f6-4587295da4f0"
   },
   "outputs": [
    {
     "data": {
      "text/plain": [
       "(359666,)"
      ]
     },
     "execution_count": 155,
     "metadata": {},
     "output_type": "execute_result"
    }
   ],
   "source": [
    "valid_y.shape"
   ]
  },
  {
   "cell_type": "markdown",
   "metadata": {
    "id": "aJPpRuz2hRpR"
   },
   "source": [
    "When we made the table demonstrating unique values, the Franchise Code had 2768 despite its purpose of simply classifying whether or not the applicant was a franchise or not. To remedy this it must be sorted into franchise and non-franchise. The key for the predictor explains that 0-1 indicates a non-franchise. This means any value key above one should indicate a loan applicant who is a franchise. This code indirectly creates a Binary dummy variable hence the new column is named \"Franchise_Dummy\". This will make any data with a franchise code classified correctly rather than creating 2768 non-sense dummies which would ruin our analysis."
   ]
  },
  {
   "cell_type": "code",
   "execution_count": null,
   "metadata": {
    "id": "W8sVQq6_iV_c"
   },
   "outputs": [],
   "source": [
    "train_X['Franchise_Dummy'] = train_X['FranchiseCode'].apply(lambda x: 1 if x > 1 else 0)\n",
    "train_X.drop('FranchiseCode', axis=1, inplace=True)\n",
    "\n",
    "valid_X['Franchise_Dummy'] = valid_X['FranchiseCode'].apply(lambda x: 1 if x > 1 else 0)\n",
    "valid_X.drop('FranchiseCode', axis=1, inplace=True)"
   ]
  },
  {
   "cell_type": "markdown",
   "metadata": {
    "id": "K5l3fXx44MLb"
   },
   "source": [
    "Although there weren't as many variations for RevLineCr and LowDoc, their purpose is classifcation meaning the data needs to be filtered down to a comprehensive yes or no in the context of its effect on the data. RevLineCr needs to be a 1 for data with Revolving Lines of Credit and 0 for all else. Similarly, LowDoc needs to be a 1 for loan applicants who get the Low Doc loan program and a 0 for all else."
   ]
  },
  {
   "cell_type": "markdown",
   "metadata": {
    "id": "zjN9w5NLDBp5"
   },
   "source": [
    "New Exist is a classification of either \"1\" or \"2\" meaning it shouldn't be read as a float."
   ]
  },
  {
   "cell_type": "markdown",
   "metadata": {
    "id": "GIrcwNKpH_1J"
   },
   "source": [
    "Let us observe the unique values outside of their binary classification"
   ]
  },
  {
   "cell_type": "code",
   "execution_count": null,
   "metadata": {
    "colab": {
     "base_uri": "https://localhost:8080/"
    },
    "id": "LjQmuYdVpfph",
    "outputId": "82f71135-0c01-42ad-a3ec-228390184f16"
   },
   "outputs": [
    {
     "data": {
      "text/plain": [
       "array(['N', '0', 'Y', 'T', nan, '`', ',', '1', 'C', '3', '2', 'R', '7',\n",
       "       'A', '5', '.', '4', '-', 'Q'], dtype=object)"
      ]
     },
     "execution_count": 157,
     "metadata": {},
     "output_type": "execute_result"
    }
   ],
   "source": [
    "SBA_df['RevLineCr'].unique()"
   ]
  },
  {
   "cell_type": "code",
   "execution_count": null,
   "metadata": {
    "colab": {
     "base_uri": "https://localhost:8080/"
    },
    "id": "CugFr9Kvongk",
    "outputId": "5382f3eb-8aac-463c-b763-accc6f8397e6"
   },
   "outputs": [
    {
     "data": {
      "text/plain": [
       "array(['Y', 'N', 'C', '1', nan, 'S', 'R', 'A', '0'], dtype=object)"
      ]
     },
     "execution_count": 158,
     "metadata": {},
     "output_type": "execute_result"
    }
   ],
   "source": [
    "SBA_df['LowDoc'].unique()"
   ]
  },
  {
   "cell_type": "code",
   "execution_count": null,
   "metadata": {
    "colab": {
     "base_uri": "https://localhost:8080/"
    },
    "id": "2TjQq0ynDCBT",
    "outputId": "8c89b986-06d9-495a-ae9d-e2e02b7f4b20"
   },
   "outputs": [
    {
     "data": {
      "text/plain": [
       "array([ 2.,  1.,  0., nan])"
      ]
     },
     "execution_count": 159,
     "metadata": {},
     "output_type": "execute_result"
    }
   ],
   "source": [
    "SBA_df['NewExist'].unique()"
   ]
  },
  {
   "cell_type": "code",
   "execution_count": null,
   "metadata": {
    "id": "ZUM0YysVpjG9"
   },
   "outputs": [],
   "source": [
    "columns_to_process = ['RevLineCr', 'LowDoc', 'NewExist']\n",
    "\n",
    "for column in columns_to_process:\n",
    "    if column in ['NewExist', 'RevLineCr', 'LowDoc']:\n",
    "        train_X[column] = train_X[column].apply(lambda x: 'New' if x == 2 else ('Existing' if x == 1 else 'Other') if column == 'NewExist' else (x if x in ['Y', 'N'] else 'Other'))\n",
    "        valid_X[column] = valid_X[column].apply(lambda x: 'New' if x == 2 else ('Existing' if x == 1 else 'Other') if column == 'NewExist' else (x if x in ['Y', 'N'] else 'Other'))\n",
    "\n",
    "    dummies_train = pd.get_dummies(train_X[column], prefix=column, dtype=int)\n",
    "    dummies_valid = pd.get_dummies(valid_X[column], prefix=column, dtype=int)\n",
    "\n",
    "    train_X = pd.concat([train_X, dummies_train], axis=1)\n",
    "    valid_X = pd.concat([valid_X, dummies_valid], axis=1)\n",
    "\n",
    "    train_X.drop([column], axis=1, inplace=True)\n",
    "    valid_X.drop([column], axis=1, inplace=True)"
   ]
  },
  {
   "cell_type": "code",
   "execution_count": null,
   "metadata": {
    "colab": {
     "base_uri": "https://localhost:8080/"
    },
    "id": "PM9wUoapsUgY",
    "outputId": "e14b911f-6d81-4fde-86af-4ca950fc76b7"
   },
   "outputs": [
    {
     "name": "stdout",
     "output_type": "stream",
     "text": [
      "                          train_X         valid_X\n",
      "LoanNr_ChkDgt               int64           int64\n",
      "Name                       object          object\n",
      "City                       object          object\n",
      "State                      object          object\n",
      "Zip                        object          object\n",
      "Bank                       object          object\n",
      "BankState                  object          object\n",
      "NAICS                       int64           int64\n",
      "ApprovalDate       datetime64[ns]  datetime64[ns]\n",
      "ApprovalFY                  int64           int64\n",
      "Term                        int64           int64\n",
      "NoEmp                       int64           int64\n",
      "CreateJob                   int64           int64\n",
      "RetainedJob                 int64           int64\n",
      "UrbanRural                 object          object\n",
      "ChgOffDate                 object          object\n",
      "DisbursementDate   datetime64[ns]  datetime64[ns]\n",
      "DisbursementGross         float64         float64\n",
      "BalanceGross              float64         float64\n",
      "ChgOffPrinGr              float64         float64\n",
      "GrAppv                    float64         float64\n",
      "SBA_Appv                  float64         float64\n",
      "Franchise_Dummy             int64           int64\n",
      "RevLineCr_N                 int64           int64\n",
      "RevLineCr_Other             int64           int64\n",
      "RevLineCr_Y                 int64           int64\n",
      "LowDoc_N                    int64           int64\n",
      "LowDoc_Other                int64           int64\n",
      "LowDoc_Y                    int64           int64\n",
      "NewExist_Existing           int64           int64\n",
      "NewExist_New                int64           int64\n",
      "NewExist_Other              int64           int64\n"
     ]
    }
   ],
   "source": [
    "dtype_comparison = pd.concat([train_X.dtypes, valid_X.dtypes], axis=1)\n",
    "dtype_comparison.columns = ['train_X', 'valid_X']\n",
    "print(dtype_comparison)"
   ]
  },
  {
   "cell_type": "markdown",
   "metadata": {
    "id": "NwkfGhPV7xHw"
   },
   "source": [
    "NAICS Code Analysis"
   ]
  },
  {
   "cell_type": "markdown",
   "metadata": {
    "id": "BXYdtHeUNguq"
   },
   "source": [
    "The NAICS data provided contains up to 6-digit codes with hyper-specific classifications of industry. Upon research, the table below demonstrates a broader categorization of the industry code by interpreting the first two numbers of the NAICS code provided."
   ]
  },
  {
   "cell_type": "markdown",
   "metadata": {
    "id": "sty0czV58Prd"
   },
   "source": [
    "Industry classification table provided from the [United States Bureau](https://www.census.gov/naics/?58967?yearbck=2022)"
   ]
  },
  {
   "cell_type": "markdown",
   "metadata": {
    "id": "K09fI_C47jmJ"
   },
   "source": [
    "| Sector   | Definition                                                                          |\n",
    "|----------|------------------------------------------------------------------------------------|\n",
    "| 11       | Agriculture, Forestry, Fishing and Hunting                                        |\n",
    "| 21       | Mining, Quarrying, and Oil and Gas Extraction                                     |\n",
    "| 22       | Utilities                                                                         |\n",
    "| 23       | Construction                                                                      |\n",
    "| 31-33    | Manufacturing                                                                     |\n",
    "| 42       | Wholesale Trade                                                                   |\n",
    "| 44-45    | Retail Trade                                                                      |\n",
    "| 48-49    | Transportation and Warehousing                                                   |\n",
    "| 51       | Information                                                                       |\n",
    "| 52       | Finance and Insurance                                                             |\n",
    "| 53       | Real Estate and Rental and Leasing                                               |\n",
    "| 54       | Professional, Scientific, and Technical Services                                  |\n",
    "| 55       | Management of Companies and Enterprises                                          |\n",
    "| 56       | Administrative and Support and Waste Management and Remediation Services         |\n",
    "| 61       | Educational Services                                                             |\n",
    "| 62       | Health Care and Social Assistance                                                |\n",
    "| 71       | Arts, Entertainment, and Recreation                                              |\n",
    "| 72       | Accommodation and Food Services                                                  |\n",
    "| 81       | Other Services (except Public Administration)                                    |\n",
    "| 92       | Public Administration                                                            |\n"
   ]
  },
  {
   "cell_type": "markdown",
   "metadata": {
    "id": "Bboc3A23NBEw"
   },
   "source": [
    "This code will first create a new column (IndustryCode) in the data frame for us to store our industry classifications. By applying the lambda function, the major sector codes are extracted from our existing data and categorized based on their first two digits."
   ]
  },
  {
   "cell_type": "code",
   "execution_count": null,
   "metadata": {
    "id": "AAcjclioMC-E"
   },
   "outputs": [],
   "source": [
    "industry_mapping = {\n",
    "    '11': 'Agriculture',\n",
    "    '21': 'Mining',\n",
    "    '22': 'Utilities',\n",
    "    '23': 'Construction',\n",
    "    '31': 'Manufacturing', '32': 'Manufacturing', '33': 'Manufacturing',\n",
    "    '42': 'Wholesale',\n",
    "    '44': 'Retail', '45': 'Retail',\n",
    "    '48': 'Transportation', '49': 'Transportation',\n",
    "    '51': 'Information',\n",
    "    '52': 'Finance',\n",
    "    '53': 'Real_Estate',\n",
    "    '54': 'Professional_Services',\n",
    "    '55': 'Management',\n",
    "    '56': 'Admin_Waste',\n",
    "    '61': 'Education',\n",
    "    '62': 'Healthcare',\n",
    "    '71': 'Arts_Recreation',\n",
    "    '72': 'Food_Services',\n",
    "    '81': 'Other_Services',\n",
    "    '92': 'Public_Admin'\n",
    "}"
   ]
  },
  {
   "cell_type": "code",
   "execution_count": null,
   "metadata": {
    "id": "_8goy5YqszFl"
   },
   "outputs": [],
   "source": [
    "train_X['IndustryCode'] = train_X['NAICS'].astype(str).str[:2].apply(\n",
    "    lambda x: industry_mapping.get(x, 'Other')\n",
    ")\n",
    "train_X.drop(['NAICS'], axis=1, inplace=True)\n",
    "\n",
    "valid_X['IndustryCode'] = valid_X['NAICS'].astype(str).str[:2].apply(\n",
    "    lambda x: industry_mapping.get(x, 'Other')\n",
    ")\n",
    "valid_X.drop(['NAICS'], axis=1, inplace=True)"
   ]
  },
  {
   "cell_type": "markdown",
   "metadata": {
    "id": "BRzr-1agFTa0"
   },
   "source": [
    "# X Feature Analysis and Selection:"
   ]
  },
  {
   "cell_type": "markdown",
   "metadata": {
    "id": "MAzm8Qz3GkZV"
   },
   "source": [
    "| Predictor         | Reason for Exclusion                                                                   |\n",
    "|-------------------|-----------------------------------------------------------------------------------------|\n",
    "| LoanNr_ChkDgt     | Identifier key with no inherent value for modeling                                     |\n",
    "| Name              | Identifier with no inherent value for modeling                                         |\n",
    "| City              | Highly specific with many unique values, difficult to process, unlikely to affect predictions|\n",
    "| Zipcode           | Highly specific with many unique values, difficult to process, unlikely to affect predictions|\n",
    "| Bank              | Identifier with no inherent value                                                     |\n",
    "| SBA_Appv          | Guaranteed amount is based on percentage of gross loan, not dollar amount              |                           |\n",
    "| ApprovalDate and DisbursementDate  | Date values arerent necssary or relevant due to the inclusion of ApprovalFY  which are highly correlated. (See Matrix Below)     |\n",
    "| ChgOffPrinGr and ChgOffDate | We are trying to predict the likelihood of default. These predictors are only known after a loan has defaulted."
   ]
  },
  {
   "cell_type": "markdown",
   "metadata": {
    "id": "0hRk3bD8xT8l"
   },
   "source": [
    "Upon reviewing the variables, we hypothesized that Approval Date, Disbursement Date, and ApprovalFy would have a high correlation with each other. If they do, it would be beneficial to the simplicity of the model to drop the two datetime-formated features. We will create and interpret a correlation matrix below."
   ]
  },
  {
   "cell_type": "code",
   "execution_count": null,
   "metadata": {
    "colab": {
     "base_uri": "https://localhost:8080/"
    },
    "id": "GtEm0c1sn_c6",
    "outputId": "f4578e6d-9e73-468e-8c51-8af00b0c7660"
   },
   "outputs": [
    {
     "name": "stdout",
     "output_type": "stream",
     "text": [
      "Correlation Matrix (Training Set):\n",
      "                      ApprovalDate_Num  DisbursementDate_Num  ApprovalFY\n",
      "ApprovalDate_Num              1.000000              0.996007    0.998027\n",
      "DisbursementDate_Num          0.996007              1.000000    0.995010\n",
      "ApprovalFY                    0.998027              0.995010    1.000000\n"
     ]
    }
   ],
   "source": [
    "train_X['ApprovalDate_Num'] = (train_X['ApprovalDate'].to_numpy().astype('datetime64[D]') - np.datetime64('1970-01-01')) / np.timedelta64(1, 'D')\n",
    "train_X['DisbursementDate_Num'] = (train_X['DisbursementDate'].to_numpy().astype('datetime64[D]') - np.datetime64('1970-01-01')) / np.timedelta64(1, 'D')\n",
    "\n",
    "correlation_matrix_train = train_X[['ApprovalDate_Num', 'DisbursementDate_Num', 'ApprovalFY']].corr()\n",
    "print(\"Correlation Matrix (Training Set):\")\n",
    "print(correlation_matrix_train)\n",
    "\n",
    "# Drop the numeric date variables\n",
    "train_X.drop(['ApprovalDate_Num', 'DisbursementDate_Num'], axis=1, inplace=True)"
   ]
  },
  {
   "cell_type": "markdown",
   "metadata": {
    "id": "mgQc7RKtzKv4"
   },
   "source": [
    "As we assumed, these time-based features have a very strong correlation. It is important to drop the predictors that could be overfitting the model through redundancy."
   ]
  },
  {
   "cell_type": "markdown",
   "metadata": {
    "id": "_tt1zgIsvRr-"
   },
   "source": [
    "We assumed that Bank State and State (borrower) would have a high correlation. We did some outside research to find the correlation between these nominal variables. The organization [GeeksforGeeks](https://www.geeksforgeeks.org/how-to-calculate-cramers-v-in-python) demonstrates how to find the \"Cramer's V Value\" in Python which could demonstrate the correlation of these variables. After reading the linked article, we applied the methods to our utilized context. GeeksforGeeks utlizes the library scipy stats so we imported that below."
   ]
  },
  {
   "cell_type": "code",
   "execution_count": null,
   "metadata": {
    "colab": {
     "base_uri": "https://localhost:8080/"
    },
    "id": "TjBm_kkMpKbu",
    "outputId": "5f7cf4ef-3424-47f3-eb12-d9c01c223761"
   },
   "outputs": [
    {
     "name": "stdout",
     "output_type": "stream",
     "text": [
      "Cramer's V between BankState and State (Training Data): 0.6398363679216205\n",
      "\n",
      "Correlation Matrix (Cramer's V - Training Data):\n",
      "              State\n",
      "BankState  0.639836\n"
     ]
    }
   ],
   "source": [
    "import scipy.stats as stats\n",
    "\n",
    "def cramers_v(x, y):\n",
    "    confusion_matrix = pd.crosstab(x, y)\n",
    "    chi2 = stats.chi2_contingency(confusion_matrix)[0]\n",
    "    n = confusion_matrix.sum().sum()\n",
    "    phi2 = chi2 / n\n",
    "    r, k = confusion_matrix.shape\n",
    "    phi2corr = max(0, phi2 - ((k - 1) * (r - 1)) / (n - 1))\n",
    "    rcorr = r - ((r - 1)**2) / (n - 1)\n",
    "    kcorr = k - ((k - 1)**2) / (n - 1)\n",
    "    return np.sqrt(phi2corr / min((kcorr - 1), (rcorr - 1)))\n",
    "\n",
    "# Calculate Cramer's V for BankState and State using training data\n",
    "cramers_v_value = cramers_v(train_X['BankState'], train_X['State'])\n",
    "\n",
    "print(f\"Cramer's V between BankState and State (Training Data): {cramers_v_value}\")\n",
    "\n",
    "# Create a correlation matrix (single value in this case)\n",
    "correlation_matrix = pd.DataFrame(\n",
    "    data=[[cramers_v_value]],\n",
    "    index=['BankState'],\n",
    "    columns=['State']\n",
    ")\n",
    "\n",
    "print(\"\\nCorrelation Matrix (Cramer's V - Training Data):\")\n",
    "print(correlation_matrix)"
   ]
  },
  {
   "cell_type": "markdown",
   "metadata": {
    "id": "YhAieur6uZT9"
   },
   "source": [
    "The Cramer's V value of 0.639836 shows we were correct with our hypothesis.\n",
    "\n",
    "Common interpretations of Cramer's V:\n",
    "\n",
    "0.0 - 0.2: Weak association\n",
    "0.2 - 0.6: Moderate association\n",
    "0.6 - 1.0: Strong association\n",
    "\n",
    " The value indicates a strong correlation between the state of the borrower and the bank. This is great as we can highly reduce the dimensionality of our data by dropping bank state  from the model. Keeping both BankState and State would be redundant and potentially overfit. This correlation likely stems from real world context of Banks lending to borrowers in shared reigions."
   ]
  },
  {
   "cell_type": "markdown",
   "metadata": {
    "id": "QJiMRHPp4Pn_"
   },
   "source": [
    "This code will drop ALL the features we explained above"
   ]
  },
  {
   "cell_type": "code",
   "execution_count": null,
   "metadata": {
    "id": "Z2Jh7TXYERr_"
   },
   "outputs": [],
   "source": [
    "columns_to_drop = ['LoanNr_ChkDgt','BankState', 'Name', 'City', 'Zip', 'Bank', 'SBA_Appv','ApprovalDate','DisbursementDate','ChgOffDate','ChgOffPrinGr']\n",
    "train_X = train_X.drop(columns=columns_to_drop, axis=1)\n",
    "valid_X = valid_X.drop(columns=columns_to_drop, axis=1)"
   ]
  },
  {
   "cell_type": "code",
   "execution_count": null,
   "metadata": {
    "colab": {
     "base_uri": "https://localhost:8080/"
    },
    "id": "S9sRfNg96gko",
    "outputId": "1ef0d7dd-192d-4802-b4b7-3e46f742bce7"
   },
   "outputs": [
    {
     "data": {
      "text/plain": [
       "['State',\n",
       " 'ApprovalFY',\n",
       " 'Term',\n",
       " 'NoEmp',\n",
       " 'CreateJob',\n",
       " 'RetainedJob',\n",
       " 'UrbanRural',\n",
       " 'DisbursementGross',\n",
       " 'BalanceGross',\n",
       " 'GrAppv',\n",
       " 'Franchise_Dummy',\n",
       " 'RevLineCr_N',\n",
       " 'RevLineCr_Other',\n",
       " 'RevLineCr_Y',\n",
       " 'LowDoc_N',\n",
       " 'LowDoc_Other',\n",
       " 'LowDoc_Y',\n",
       " 'NewExist_Existing',\n",
       " 'NewExist_New',\n",
       " 'NewExist_Other',\n",
       " 'IndustryCode']"
      ]
     },
     "execution_count": 167,
     "metadata": {},
     "output_type": "execute_result"
    }
   ],
   "source": [
    "list(train_X.columns)"
   ]
  },
  {
   "cell_type": "markdown",
   "metadata": {
    "id": "8tLmhpTt3oZr"
   },
   "source": [
    "With so many dummy variables created for the states and industries, we will be checking the relationship between defaulted loans and these features. Features within the same category with similar relationships to the likelihood of a default, will be combined into one feature. This will aid in reducing the chances of overfitting with our future models."
   ]
  },
  {
   "cell_type": "code",
   "execution_count": null,
   "metadata": {
    "colab": {
     "base_uri": "https://localhost:8080/"
    },
    "id": "21wk0S8UnmMq",
    "outputId": "357b731e-fab0-445f-8d31-64e7b7e0e687"
   },
   "outputs": [
    {
     "name": "stderr",
     "output_type": "stream",
     "text": [
      "<ipython-input-168-c12c8564e3e8>:4: FutureWarning: The provided callable <function mean at 0x7c8d36b8d5a0> is currently using DataFrameGroupBy.mean. In a future version of pandas, the provided callable will be used directly. To keep current behavior pass the string \"mean\" instead.\n",
      "  pivot_table = pd.pivot_table(train_X_with_target, values='Default_CHGOFF', index=col, aggfunc=np.mean)\n",
      "<ipython-input-168-c12c8564e3e8>:4: FutureWarning: The provided callable <function mean at 0x7c8d36b8d5a0> is currently using DataFrameGroupBy.mean. In a future version of pandas, the provided callable will be used directly. To keep current behavior pass the string \"mean\" instead.\n",
      "  pivot_table = pd.pivot_table(train_X_with_target, values='Default_CHGOFF', index=col, aggfunc=np.mean)\n"
     ]
    },
    {
     "name": "stdout",
     "output_type": "stream",
     "text": [
      "Pivot Table for State:\n",
      "       Default_CHGOFF\n",
      "State                \n",
      "AK           0.110198\n",
      "AL           0.165833\n",
      "AR           0.166886\n",
      "AZ           0.206760\n",
      "CA           0.184721\n",
      "CO           0.180494\n",
      "CT           0.138186\n",
      "DC           0.246632\n",
      "DE           0.185406\n",
      "FL           0.275115\n",
      "GA           0.245582\n",
      "HI           0.135508\n",
      "IA           0.118306\n",
      "ID           0.138845\n",
      "IL           0.226170\n",
      "IN           0.175597\n",
      "KS           0.133733\n",
      "KY           0.184222\n",
      "LA           0.179651\n",
      "MA           0.125016\n",
      "MD           0.197348\n",
      "ME           0.105889\n",
      "MI           0.222846\n",
      "MN           0.116259\n",
      "MO           0.156576\n",
      "MS           0.159275\n",
      "MT           0.066869\n",
      "NC           0.191339\n",
      "ND           0.082069\n",
      "NE           0.115908\n",
      "NH           0.107163\n",
      "NJ           0.203942\n",
      "NM           0.112015\n",
      "NV           0.234764\n",
      "NY           0.198977\n",
      "OH           0.165512\n",
      "OK           0.157948\n",
      "OR           0.146576\n",
      "PA           0.144365\n",
      "RI           0.115885\n",
      "SC           0.201127\n",
      "SD           0.080089\n",
      "TN           0.212591\n",
      "TX           0.187260\n",
      "UT           0.177512\n",
      "VA           0.183159\n",
      "VT           0.073713\n",
      "WA           0.139553\n",
      "WI           0.121754\n",
      "WV           0.161357\n",
      "WY           0.071471\n",
      "\n",
      "Pivot Table for IndustryCode:\n",
      "                       Default_CHGOFF\n",
      "IndustryCode                         \n",
      "Admin_Waste                  0.234802\n",
      "Agriculture                  0.090474\n",
      "Arts_Recreation              0.202322\n",
      "Construction                 0.231284\n",
      "Education                    0.249806\n",
      "Finance                      0.279709\n",
      "Food_Services                0.219122\n",
      "Healthcare                   0.103314\n",
      "Information                  0.248059\n",
      "Management                   0.109091\n",
      "Manufacturing                0.152017\n",
      "Mining                       0.088789\n",
      "Other                        0.084271\n",
      "Other_Services               0.197616\n",
      "Professional_Services        0.188773\n",
      "Public_Admin                 0.164286\n",
      "Real_Estate                  0.288596\n",
      "Retail                       0.227119\n",
      "Transportation               0.262671\n",
      "Utilities                    0.143885\n",
      "Wholesale                    0.194126\n",
      "\n"
     ]
    }
   ],
   "source": [
    "train_X_with_target = pd.concat([train_X, train_y], axis=1)\n",
    "\n",
    "for col in ['State', 'IndustryCode']:\n",
    "    pivot_table = pd.pivot_table(train_X_with_target, values='Default_CHGOFF', index=col, aggfunc=np.mean)\n",
    "    print(f\"Pivot Table for {col}:\\n{pivot_table}\\n\")\n",
    "\n",
    "train_X = train_X_with_target.drop(columns=['Default_CHGOFF'])"
   ]
  },
  {
   "cell_type": "markdown",
   "metadata": {
    "id": "wYMWW_Li6lXs"
   },
   "source": [
    "The features with similar relationships to default are listed below with their new combined predictor name."
   ]
  },
  {
   "cell_type": "markdown",
   "metadata": {
    "id": "wS99vTaY6YAc"
   },
   "source": [
    "| New Feature Name | Combined Features |\n",
    "|---|---|\n",
    "| State_GA_NV | State_GA, State_NV |\n",
    "| State_IL_MI | State_IL, State_MI |\n",
    "| State_NJ_SC_NY_MD | State_NJ, State_SC, State_NY, State_MD |\n",
    "| State_TX_CA_DE_KY_VA | State_TX, State_CA, State_DE, State_KY, State_VA |\n",
    "| State_CO_IN_MA | State_CO, State_IN, State_MA |\n",
    "| State_UT_WY_ND_SD | State_UT, State_WY, State_ND, State_SD |\n",
    "| Industry_Finan_Trans | Finance, Transportation |\n",
    "| Industry_Edu_Info_Admin | Education, Information, Admin_Waste |\n",
    "| Industry_Const_Retail | Construction, Retail |\n",
    "| Industry_Food_Arts | Food_Services, Arts_Recreation |\n",
    "| Industry_Other_Whole_Prof | Other_Services, Wholesale, Professional_Services |\n",
    "| Industry_Util_Manu_Pub | Utilities, Manufacturing, Public_Admin |\n",
    "| Industry_Health_Mgmt_Mining_Agri | Healthcare, Management, Mining, Agriculture |"
   ]
  },
  {
   "cell_type": "code",
   "execution_count": null,
   "metadata": {
    "id": "l7aTqFdYYwlR"
   },
   "outputs": [],
   "source": [
    "#State\n",
    "train_X['State_GA_NV'] = [1 if d in (\"State_GA\", \"State_NV\",) else 0 for d in train_X.State]\n",
    "train_X['State_IL_MI'] = [1 if d in (\"State_IL\", \"State_MI\") else 0 for d in train_X.State]\n",
    "train_X['State_NJ_SC_NY_MD'] = [1 if d in (\"State_NJ\", \"State_SC\", \"State_NY\", \"State_MD\") else 0 for d in train_X.State]\n",
    "train_X['State_TX_CA_DE_KY_VA'] = [1 if d in (\"State_TX\", \"State_CA\", \"State_DE\", \"State_KY\", \"State_VA\") else 0 for d in train_X.State]\n",
    "train_X['State_CO_IN_MA'] = [1 if d in (\"State_CO\", \"State_IN\", \"State_MA\") else 0 for d in train_X.State]\n",
    "train_X['State_UT_WY_ND_SD'] = [1 if d in (\"State_UT\", \"State_WY\", \"State_ND\", \"State_SD\") else 0 for d in train_X.State]\n",
    "#Industry\n",
    "train_X['Industry_Finan_Trans'] = [1 if d in (\"Finance\", \"Transportation\",) else 0 for d in train_X.IndustryCode]\n",
    "train_X['Industry_Edu_Info_Admin'] = [1 if d in (\"Education\", \"Information\", \"Admin_Waste\") else 0 for d in train_X.IndustryCode]\n",
    "train_X['Industry_Const_Retail'] = [1 if d in (\"Construction\", \"Retail\") else 0 for d in train_X.IndustryCode]\n",
    "train_X['Industry_Food_Arts'] = [1 if d in (\"Food_Services\", \"Arts_Recreation\") else 0 for d in train_X.IndustryCode]\n",
    "train_X['Industry_Other_Whole_Prof'] = [1 if d in (\"Other_Services\", \"Wholesale\", \"Professional_Services\") else 0 for d in train_X.IndustryCode]\n",
    "train_X['Industry_Util_Manu_Pub'] = [1 if d in (\"Utilities\", \"Manufacturing\", \"Public_Admin\") else 0 for d in train_X.IndustryCode]\n",
    "train_X['Industry_Health_Mgmt_Mining_Agri'] = [1 if d in (\"Healthcare\", \"Management\", \"Mining\", \"Agriculture\") else 0 for d in train_X.IndustryCode]"
   ]
  },
  {
   "cell_type": "code",
   "execution_count": null,
   "metadata": {
    "id": "_ExGBntSr7o2"
   },
   "outputs": [],
   "source": [
    "#State\n",
    "valid_X['State_GA_NV'] = [1 if d in (\"State_GA\", \"State_NV\",) else 0 for d in valid_X.State]\n",
    "valid_X['State_IL_MI'] = [1 if d in (\"State_IL\", \"State_MI\") else 0 for d in valid_X.State]\n",
    "valid_X['State_NJ_SC_NY_MD'] = [1 if d in (\"State_NJ\", \"State_SC\", \"State_NY\", \"State_MD\") else 0 for d in valid_X.State]\n",
    "valid_X['State_TX_CA_DE_KY_VA'] = [1 if d in (\"State_TX\", \"State_CA\", \"State_DE\", \"State_KY\", \"State_VA\") else 0 for d in valid_X.State]\n",
    "valid_X['State_CO_IN_MA'] = [1 if d in (\"State_CO\", \"State_IN\", \"State_MA\") else 0 for d in valid_X.State]\n",
    "valid_X['State_UT_WY_ND_SD'] = [1 if d in (\"State_UT\", \"State_WY\", \"State_ND\", \"State_SD\") else 0 for d in valid_X.State]\n",
    "#Industry\n",
    "valid_X['Industry_Finan_Trans'] = [1 if d in (\"Finance\", \"Transportation\",) else 0 for d in valid_X.IndustryCode]\n",
    "valid_X['Industry_Edu_Info_Admin'] = [1 if d in (\"Education\", \"Information\", \"Admin_Waste\") else 0 for d in valid_X.IndustryCode]\n",
    "valid_X['Industry_Const_Retail'] = [1 if d in (\"Construction\", \"Retail\") else 0 for d in valid_X.IndustryCode]\n",
    "valid_X['Industry_Food_Arts'] = [1 if d in (\"Food_Services\", \"Arts_Recreation\") else 0 for d in valid_X.IndustryCode]\n",
    "valid_X['Industry_Other_Whole_Prof'] = [1 if d in (\"Other_Services\", \"Wholesale\", \"Professional_Services\") else 0 for d in valid_X.IndustryCode]\n",
    "valid_X['Industry_Util_Manu_Pub'] = [1 if d in (\"Utilities\", \"Manufacturing\", \"Public_Admin\") else 0 for d in valid_X.IndustryCode]\n",
    "valid_X['Industry_Health_Mgmt_Mining_Agri'] = [1 if d in (\"Healthcare\", \"Management\", \"Mining\", \"Agriculture\") else 0 for d in valid_X.IndustryCode]"
   ]
  },
  {
   "cell_type": "markdown",
   "metadata": {
    "id": "1Xj4FD816zgb"
   },
   "source": [
    "For the features that did not share a close relationship, a binary dummy must still be added. However, whe useing pd.getdummies, binary dummies will also be made for the features we combined above. For this reason we will need to run an extensive drop code to ensure to repeat binary dummies of features that have already been combined."
   ]
  },
  {
   "cell_type": "code",
   "execution_count": null,
   "metadata": {
    "id": "BZn3akF-FyRK"
   },
   "outputs": [],
   "source": [
    "categorical_features = ['State', 'IndustryCode', 'UrbanRural']\n",
    "\n",
    "for feature in categorical_features:\n",
    "    # Create dummy variables for training data\n",
    "    encoded_features_train = pd.get_dummies(train_X[feature], prefix=feature, dtype=int)\n",
    "    train_X = pd.concat([train_X, encoded_features_train], axis=1)\n",
    "    train_X.drop(feature, axis=1, inplace=True)\n",
    "\n",
    "    # Create dummy variables for validation data\n",
    "    encoded_features_valid = pd.get_dummies(valid_X[feature], prefix=feature, dtype=int)\n",
    "    valid_X = pd.concat([valid_X, encoded_features_valid], axis=1)\n",
    "    valid_X.drop(feature, axis=1, inplace=True)"
   ]
  },
  {
   "cell_type": "code",
   "execution_count": null,
   "metadata": {
    "id": "VphLO4bQRei-"
   },
   "outputs": [],
   "source": [
    "train_X.drop(columns=[\n",
    "    # Original State columns\n",
    "    \"State_GA\", \"State_NV\", \"State_IL\", \"State_MI\",\n",
    "    \"State_NJ\", \"State_SC\", \"State_NY\", \"State_MD\",\n",
    "    \"State_TX\", \"State_CA\", \"State_DE\", \"State_KY\", \"State_VA\",\n",
    "    \"State_CO\", \"State_IN\", \"State_MA\",\n",
    "    \"State_UT\", \"State_WY\", \"State_ND\", \"State_SD\",\n",
    "    # Original Industry columns with \"IndustryCode_\" prefix\n",
    "    \"IndustryCode_Finance\", \"IndustryCode_Transportation\",\n",
    "    \"IndustryCode_Education\", \"IndustryCode_Information\", \"IndustryCode_Admin_Waste\",\n",
    "    \"IndustryCode_Construction\", \"IndustryCode_Retail\",\n",
    "    \"IndustryCode_Food_Services\", \"IndustryCode_Arts_Recreation\",\n",
    "    \"IndustryCode_Other_Services\", \"IndustryCode_Wholesale\", \"IndustryCode_Professional_Services\",\n",
    "    \"IndustryCode_Utilities\", \"IndustryCode_Manufacturing\", \"IndustryCode_Public_Admin\",\n",
    "    \"IndustryCode_Healthcare\", \"IndustryCode_Management\", \"IndustryCode_Mining\", \"IndustryCode_Agriculture\"\n",
    "], inplace=True)\n",
    "\n",
    "valid_X.drop(columns=[\n",
    "    # Original State columns\n",
    "    \"State_GA\", \"State_NV\", \"State_IL\", \"State_MI\",\n",
    "    \"State_NJ\", \"State_SC\", \"State_NY\", \"State_MD\",\n",
    "    \"State_TX\", \"State_CA\", \"State_DE\", \"State_KY\", \"State_VA\",\n",
    "    \"State_CO\", \"State_IN\", \"State_MA\",\n",
    "    \"State_UT\", \"State_WY\", \"State_ND\", \"State_SD\",\n",
    "    # Original Industry columns with \"IndustryCode_\" prefix\n",
    "    \"IndustryCode_Finance\", \"IndustryCode_Transportation\",\n",
    "    \"IndustryCode_Education\", \"IndustryCode_Information\", \"IndustryCode_Admin_Waste\",\n",
    "    \"IndustryCode_Construction\", \"IndustryCode_Retail\",\n",
    "    \"IndustryCode_Food_Services\", \"IndustryCode_Arts_Recreation\",\n",
    "    \"IndustryCode_Other_Services\", \"IndustryCode_Wholesale\", \"IndustryCode_Professional_Services\",\n",
    "    \"IndustryCode_Utilities\", \"IndustryCode_Manufacturing\", \"IndustryCode_Public_Admin\",\n",
    "    \"IndustryCode_Healthcare\", \"IndustryCode_Management\", \"IndustryCode_Mining\", \"IndustryCode_Agriculture\"\n",
    "], inplace=True)"
   ]
  },
  {
   "cell_type": "code",
   "execution_count": null,
   "metadata": {
    "colab": {
     "base_uri": "https://localhost:8080/"
    },
    "id": "h-loLzji5jsI",
    "outputId": "88f0f3d7-2e8e-4bb6-9b50-8d88dd4d7ed2"
   },
   "outputs": [
    {
     "data": {
      "text/plain": [
       "['ApprovalFY',\n",
       " 'Term',\n",
       " 'NoEmp',\n",
       " 'CreateJob',\n",
       " 'RetainedJob',\n",
       " 'DisbursementGross',\n",
       " 'BalanceGross',\n",
       " 'GrAppv',\n",
       " 'Franchise_Dummy',\n",
       " 'RevLineCr_N',\n",
       " 'RevLineCr_Other',\n",
       " 'RevLineCr_Y',\n",
       " 'LowDoc_N',\n",
       " 'LowDoc_Other',\n",
       " 'LowDoc_Y',\n",
       " 'NewExist_Existing',\n",
       " 'NewExist_New',\n",
       " 'NewExist_Other',\n",
       " 'State_GA_NV',\n",
       " 'State_IL_MI',\n",
       " 'State_NJ_SC_NY_MD',\n",
       " 'State_TX_CA_DE_KY_VA',\n",
       " 'State_CO_IN_MA',\n",
       " 'State_UT_WY_ND_SD',\n",
       " 'Industry_Finan_Trans',\n",
       " 'Industry_Edu_Info_Admin',\n",
       " 'Industry_Const_Retail',\n",
       " 'Industry_Food_Arts',\n",
       " 'Industry_Other_Whole_Prof',\n",
       " 'Industry_Util_Manu_Pub',\n",
       " 'Industry_Health_Mgmt_Mining_Agri',\n",
       " 'State_AK',\n",
       " 'State_AL',\n",
       " 'State_AR',\n",
       " 'State_AZ',\n",
       " 'State_CT',\n",
       " 'State_DC',\n",
       " 'State_FL',\n",
       " 'State_HI',\n",
       " 'State_IA',\n",
       " 'State_ID',\n",
       " 'State_KS',\n",
       " 'State_LA',\n",
       " 'State_ME',\n",
       " 'State_MN',\n",
       " 'State_MO',\n",
       " 'State_MS',\n",
       " 'State_MT',\n",
       " 'State_NC',\n",
       " 'State_NE',\n",
       " 'State_NH',\n",
       " 'State_NM',\n",
       " 'State_OH',\n",
       " 'State_OK',\n",
       " 'State_OR',\n",
       " 'State_PA',\n",
       " 'State_RI',\n",
       " 'State_TN',\n",
       " 'State_VT',\n",
       " 'State_WA',\n",
       " 'State_WI',\n",
       " 'State_WV',\n",
       " 'IndustryCode_Other',\n",
       " 'IndustryCode_Real_Estate',\n",
       " 'UrbanRural_0',\n",
       " 'UrbanRural_1',\n",
       " 'UrbanRural_2']"
      ]
     },
     "execution_count": 173,
     "metadata": {},
     "output_type": "execute_result"
    }
   ],
   "source": [
    "list(train_X.columns)"
   ]
  },
  {
   "cell_type": "code",
   "execution_count": null,
   "metadata": {
    "colab": {
     "base_uri": "https://localhost:8080/"
    },
    "id": "XZH1xFhl6M17",
    "outputId": "c9de280d-cf9f-4dc0-9534-0d43900da4eb"
   },
   "outputs": [
    {
     "name": "stdout",
     "output_type": "stream",
     "text": [
      "Value Counts for Training Data (train_y):\n",
      "Default_CHGOFF\n",
      "0    444904\n",
      "1     94594\n",
      "Name: count, dtype: int64\n",
      "\n",
      "Value Counts for Validation Data (valid_y):\n",
      "Default_CHGOFF\n",
      "0    296702\n",
      "1     62964\n",
      "Name: count, dtype: int64\n",
      "\n",
      "---------------------\n",
      "\n",
      "Grand Total (All Loans): 899164\n",
      "Original Dataframe: (899164, 27)\n"
     ]
    }
   ],
   "source": [
    "print(\"Value Counts for Training Data (train_y):\")\n",
    "print(train_y.value_counts())\n",
    "\n",
    "print(\"\\nValue Counts for Validation Data (valid_y):\")\n",
    "print(valid_y.value_counts())\n",
    "\n",
    "print(\"\\n---------------------\\n\")\n",
    "\n",
    "total_count_0 = train_y.value_counts()[0] + valid_y.value_counts()[0]  # Total '0's\n",
    "total_count_1 = train_y.value_counts()[1] + valid_y.value_counts()[1]  # Total '1's\n",
    "\n",
    "grand_total = total_count_0 + total_count_1\n",
    "\n",
    "print(\"Grand Total (All Loans):\", grand_total)\n",
    "print(\"Original Dataframe:\", SBA_df.shape)"
   ]
  },
  {
   "cell_type": "code",
   "execution_count": null,
   "metadata": {
    "colab": {
     "base_uri": "https://localhost:8080/"
    },
    "id": "JnfZmhV5v8VJ",
    "outputId": "02ff5cc5-b2ef-4047-ceb1-1ee92079d103"
   },
   "outputs": [
    {
     "data": {
      "text/plain": [
       "(899164, 27)"
      ]
     },
     "execution_count": 175,
     "metadata": {},
     "output_type": "execute_result"
    }
   ],
   "source": [
    "SBA_df.shape"
   ]
  },
  {
   "cell_type": "markdown",
   "metadata": {
    "id": "Ay_TJ56x-tmt"
   },
   "source": [
    "We avoided data loss by cleaning the data and categorical features. As we see in the shape of the dataset, there should be 899,164 rows of data. Between the training and validation set, we have this meaning no data has been dropped."
   ]
  },
  {
   "cell_type": "code",
   "execution_count": null,
   "metadata": {
    "colab": {
     "base_uri": "https://localhost:8080/"
    },
    "id": "LA5eccxn92r0",
    "outputId": "8d1fccf4-d814-4c0d-d1f1-aba7faf6ea81"
   },
   "outputs": [
    {
     "name": "stdout",
     "output_type": "stream",
     "text": [
      "Total Missing Values (All Features): 0\n"
     ]
    }
   ],
   "source": [
    "total_missing_train = train_X.isna().sum().sum()  # Sum across all columns in train_X\n",
    "total_missing_valid = valid_X.isna().sum().sum()  # Sum across all columns in valid_X\n",
    "\n",
    "total_missing = total_missing_train + total_missing_valid  # Total missing in both datasets\n",
    "\n",
    "print(\"Total Missing Values (All Features):\", total_missing)"
   ]
  },
  {
   "cell_type": "markdown",
   "metadata": {
    "id": "WObGHlZT-MPZ"
   },
   "source": [
    "This information shows that many of the features no longer contain large amounts of missing values. However, knowing how missing data from future potential data should be handled is good practice. Modeling future data by simply dropping the rows with missing data highly alters the distribution of the data. This could be not representative of the true patterns or connections. For this reason, one should use imputation. However simple imputation of just the mean/mode from the data in a data set this large can also poorly affect the datas intergirty. Upon further research, implementing [Sci-Kit Learn's KNNImputer](https://https://scikit-learn.org/1.5/modules/generated/sklearn.impute.KNNImputer.html) would be our choice. The KNNImputer will fill in the Missing values of the data set by finding the nearest neighbors of each data point with missing values. This would highly impove our analysis quality than the alternative option of either dropping data or imputing less accurate points."
   ]
  },
  {
   "cell_type": "code",
   "execution_count": null,
   "metadata": {
    "colab": {
     "base_uri": "https://localhost:8080/"
    },
    "id": "Iv1PrunnKK1E",
    "outputId": "e1b704ce-b4f6-4511-9400-5a57725d7027"
   },
   "outputs": [
    {
     "data": {
      "text/plain": [
       "(539498, 67)"
      ]
     },
     "execution_count": 177,
     "metadata": {},
     "output_type": "execute_result"
    }
   ],
   "source": [
    "train_X.shape"
   ]
  },
  {
   "cell_type": "code",
   "execution_count": null,
   "metadata": {
    "colab": {
     "base_uri": "https://localhost:8080/"
    },
    "id": "DuOLurzjKM6C",
    "outputId": "5636be9e-5253-486e-a1e1-e086c24673e0"
   },
   "outputs": [
    {
     "data": {
      "text/plain": [
       "(539498,)"
      ]
     },
     "execution_count": 178,
     "metadata": {},
     "output_type": "execute_result"
    }
   ],
   "source": [
    "train_y.shape"
   ]
  },
  {
   "cell_type": "markdown",
   "metadata": {
    "id": "KBycelewHOeN"
   },
   "source": [
    "##Conclusion"
   ]
  },
  {
   "cell_type": "code",
   "execution_count": null,
   "metadata": {
    "colab": {
     "base_uri": "https://localhost:8080/",
     "height": 34
    },
    "id": "zlrC3rN2wpyc",
    "outputId": "f58a7664-e26f-4330-91d2-841779532225"
   },
   "outputs": [
    {
     "data": {
      "application/javascript": [
       "\n",
       "    async function download(id, filename, size) {\n",
       "      if (!google.colab.kernel.accessAllowed) {\n",
       "        return;\n",
       "      }\n",
       "      const div = document.createElement('div');\n",
       "      const label = document.createElement('label');\n",
       "      label.textContent = `Downloading \"${filename}\": `;\n",
       "      div.appendChild(label);\n",
       "      const progress = document.createElement('progress');\n",
       "      progress.max = size;\n",
       "      div.appendChild(progress);\n",
       "      document.body.appendChild(div);\n",
       "\n",
       "      const buffers = [];\n",
       "      let downloaded = 0;\n",
       "\n",
       "      const channel = await google.colab.kernel.comms.open(id);\n",
       "      // Send a message to notify the kernel that we're ready.\n",
       "      channel.send({})\n",
       "\n",
       "      for await (const message of channel.messages) {\n",
       "        // Send a message to notify the kernel that we're ready.\n",
       "        channel.send({})\n",
       "        if (message.buffers) {\n",
       "          for (const buffer of message.buffers) {\n",
       "            buffers.push(buffer);\n",
       "            downloaded += buffer.byteLength;\n",
       "            progress.value = downloaded;\n",
       "          }\n",
       "        }\n",
       "      }\n",
       "      const blob = new Blob(buffers, {type: 'application/binary'});\n",
       "      const a = document.createElement('a');\n",
       "      a.href = window.URL.createObjectURL(blob);\n",
       "      a.download = filename;\n",
       "      div.appendChild(a);\n",
       "      a.click();\n",
       "      div.remove();\n",
       "    }\n",
       "  "
      ],
      "text/plain": [
       "<IPython.core.display.Javascript object>"
      ]
     },
     "metadata": {},
     "output_type": "display_data"
    },
    {
     "data": {
      "application/javascript": [
       "download(\"download_8320b11f-7453-4d0d-9839-869096be753f\", \"train_X.csv\", 82970021)"
      ],
      "text/plain": [
       "<IPython.core.display.Javascript object>"
      ]
     },
     "metadata": {},
     "output_type": "display_data"
    }
   ],
   "source": [
    "from google.colab import files  # Import files for download\n",
    "\n",
    "# ... (Previous code for data processing) ...\n",
    "\n",
    "# Define file names for download\n",
    "train_X_file_name = 'train_X.csv'\n",
    "train_y_file_name = 'train_y.csv'\n",
    "valid_X_file_name = 'valid_X.csv'\n",
    "valid_y_file_name = 'valid_y.csv'\n",
    "\n",
    "# Save dataframes to temporary CSV files\n",
    "train_X.to_csv(train_X_file_name, index=False)\n",
    "train_y.to_csv(train_y_file_name, index=False)\n",
    "valid_X.to_csv(valid_X_file_name, index=False)\n",
    "valid_y.to_csv(valid_y_file_name, index=False)\n",
    "\n",
    "# Download files using google.colab.files.download\n",
    "files.download(train_X_file_name)"
   ]
  },
  {
   "cell_type": "code",
   "execution_count": null,
   "metadata": {
    "colab": {
     "base_uri": "https://localhost:8080/",
     "height": 17
    },
    "id": "OVQ8ye-a-icN",
    "outputId": "bdd13fd5-7f11-4d01-c2cd-96cf2ab099e4"
   },
   "outputs": [
    {
     "data": {
      "application/javascript": [
       "\n",
       "    async function download(id, filename, size) {\n",
       "      if (!google.colab.kernel.accessAllowed) {\n",
       "        return;\n",
       "      }\n",
       "      const div = document.createElement('div');\n",
       "      const label = document.createElement('label');\n",
       "      label.textContent = `Downloading \"${filename}\": `;\n",
       "      div.appendChild(label);\n",
       "      const progress = document.createElement('progress');\n",
       "      progress.max = size;\n",
       "      div.appendChild(progress);\n",
       "      document.body.appendChild(div);\n",
       "\n",
       "      const buffers = [];\n",
       "      let downloaded = 0;\n",
       "\n",
       "      const channel = await google.colab.kernel.comms.open(id);\n",
       "      // Send a message to notify the kernel that we're ready.\n",
       "      channel.send({})\n",
       "\n",
       "      for await (const message of channel.messages) {\n",
       "        // Send a message to notify the kernel that we're ready.\n",
       "        channel.send({})\n",
       "        if (message.buffers) {\n",
       "          for (const buffer of message.buffers) {\n",
       "            buffers.push(buffer);\n",
       "            downloaded += buffer.byteLength;\n",
       "            progress.value = downloaded;\n",
       "          }\n",
       "        }\n",
       "      }\n",
       "      const blob = new Blob(buffers, {type: 'application/binary'});\n",
       "      const a = document.createElement('a');\n",
       "      a.href = window.URL.createObjectURL(blob);\n",
       "      a.download = filename;\n",
       "      div.appendChild(a);\n",
       "      a.click();\n",
       "      div.remove();\n",
       "    }\n",
       "  "
      ],
      "text/plain": [
       "<IPython.core.display.Javascript object>"
      ]
     },
     "metadata": {},
     "output_type": "display_data"
    },
    {
     "data": {
      "application/javascript": [
       "download(\"download_432c6fd9-7102-4e6e-848c-0f92efa3a60e\", \"train_y.csv\", 1079011)"
      ],
      "text/plain": [
       "<IPython.core.display.Javascript object>"
      ]
     },
     "metadata": {},
     "output_type": "display_data"
    }
   ],
   "source": [
    "files.download(train_y_file_name)"
   ]
  },
  {
   "cell_type": "code",
   "execution_count": null,
   "metadata": {
    "colab": {
     "base_uri": "https://localhost:8080/",
     "height": 34
    },
    "id": "VKZp6G_i-iXF",
    "outputId": "a73bd62d-0410-4d8b-aa2f-4b6b2a7c0404"
   },
   "outputs": [
    {
     "data": {
      "application/javascript": [
       "\n",
       "    async function download(id, filename, size) {\n",
       "      if (!google.colab.kernel.accessAllowed) {\n",
       "        return;\n",
       "      }\n",
       "      const div = document.createElement('div');\n",
       "      const label = document.createElement('label');\n",
       "      label.textContent = `Downloading \"${filename}\": `;\n",
       "      div.appendChild(label);\n",
       "      const progress = document.createElement('progress');\n",
       "      progress.max = size;\n",
       "      div.appendChild(progress);\n",
       "      document.body.appendChild(div);\n",
       "\n",
       "      const buffers = [];\n",
       "      let downloaded = 0;\n",
       "\n",
       "      const channel = await google.colab.kernel.comms.open(id);\n",
       "      // Send a message to notify the kernel that we're ready.\n",
       "      channel.send({})\n",
       "\n",
       "      for await (const message of channel.messages) {\n",
       "        // Send a message to notify the kernel that we're ready.\n",
       "        channel.send({})\n",
       "        if (message.buffers) {\n",
       "          for (const buffer of message.buffers) {\n",
       "            buffers.push(buffer);\n",
       "            downloaded += buffer.byteLength;\n",
       "            progress.value = downloaded;\n",
       "          }\n",
       "        }\n",
       "      }\n",
       "      const blob = new Blob(buffers, {type: 'application/binary'});\n",
       "      const a = document.createElement('a');\n",
       "      a.href = window.URL.createObjectURL(blob);\n",
       "      a.download = filename;\n",
       "      div.appendChild(a);\n",
       "      a.click();\n",
       "      div.remove();\n",
       "    }\n",
       "  "
      ],
      "text/plain": [
       "<IPython.core.display.Javascript object>"
      ]
     },
     "metadata": {},
     "output_type": "display_data"
    },
    {
     "data": {
      "application/javascript": [
       "download(\"download_6683e23b-a67b-49b9-801c-e3ce47aa8c29\", \"valid_X.csv\", 55311092)"
      ],
      "text/plain": [
       "<IPython.core.display.Javascript object>"
      ]
     },
     "metadata": {},
     "output_type": "display_data"
    }
   ],
   "source": [
    "files.download(valid_X_file_name)"
   ]
  },
  {
   "cell_type": "code",
   "execution_count": null,
   "metadata": {
    "colab": {
     "base_uri": "https://localhost:8080/",
     "height": 17
    },
    "id": "5IUg6gie-iQs",
    "outputId": "a65a9d2e-9442-44ab-a2d3-0d0113df7f24"
   },
   "outputs": [
    {
     "data": {
      "application/javascript": [
       "\n",
       "    async function download(id, filename, size) {\n",
       "      if (!google.colab.kernel.accessAllowed) {\n",
       "        return;\n",
       "      }\n",
       "      const div = document.createElement('div');\n",
       "      const label = document.createElement('label');\n",
       "      label.textContent = `Downloading \"${filename}\": `;\n",
       "      div.appendChild(label);\n",
       "      const progress = document.createElement('progress');\n",
       "      progress.max = size;\n",
       "      div.appendChild(progress);\n",
       "      document.body.appendChild(div);\n",
       "\n",
       "      const buffers = [];\n",
       "      let downloaded = 0;\n",
       "\n",
       "      const channel = await google.colab.kernel.comms.open(id);\n",
       "      // Send a message to notify the kernel that we're ready.\n",
       "      channel.send({})\n",
       "\n",
       "      for await (const message of channel.messages) {\n",
       "        // Send a message to notify the kernel that we're ready.\n",
       "        channel.send({})\n",
       "        if (message.buffers) {\n",
       "          for (const buffer of message.buffers) {\n",
       "            buffers.push(buffer);\n",
       "            downloaded += buffer.byteLength;\n",
       "            progress.value = downloaded;\n",
       "          }\n",
       "        }\n",
       "      }\n",
       "      const blob = new Blob(buffers, {type: 'application/binary'});\n",
       "      const a = document.createElement('a');\n",
       "      a.href = window.URL.createObjectURL(blob);\n",
       "      a.download = filename;\n",
       "      div.appendChild(a);\n",
       "      a.click();\n",
       "      div.remove();\n",
       "    }\n",
       "  "
      ],
      "text/plain": [
       "<IPython.core.display.Javascript object>"
      ]
     },
     "metadata": {},
     "output_type": "display_data"
    },
    {
     "data": {
      "application/javascript": [
       "download(\"download_21743ecc-1344-4fb5-a814-47c10e4a8367\", \"valid_y.csv\", 719347)"
      ],
      "text/plain": [
       "<IPython.core.display.Javascript object>"
      ]
     },
     "metadata": {},
     "output_type": "display_data"
    }
   ],
   "source": [
    "files.download(valid_y_file_name)"
   ]
  },
  {
   "cell_type": "markdown",
   "metadata": {
    "id": "oRVh3q4mQIdZ"
   },
   "source": []
  }
 ],
 "metadata": {
  "colab": {
   "provenance": []
  },
  "kernelspec": {
   "display_name": "Python 3 (ipykernel)",
   "language": "python",
   "name": "python3"
  },
  "language_info": {
   "codemirror_mode": {
    "name": "ipython",
    "version": 3
   },
   "file_extension": ".py",
   "mimetype": "text/x-python",
   "name": "python",
   "nbconvert_exporter": "python",
   "pygments_lexer": "ipython3",
   "version": "3.11.5"
  }
 },
 "nbformat": 4,
 "nbformat_minor": 4
}

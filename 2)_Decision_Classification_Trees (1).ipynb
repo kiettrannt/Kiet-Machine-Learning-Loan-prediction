{
 "cells": [
  {
   "cell_type": "code",
   "execution_count": null,
   "metadata": {
    "colab": {
     "base_uri": "https://localhost:8080/"
    },
    "id": "9a76fX6My7iM",
    "outputId": "651f6478-706c-4edf-c25d-39a57dea319f"
   },
   "outputs": [
    {
     "name": "stdout",
     "output_type": "stream",
     "text": [
      "Requirement already satisfied: DMBA in /usr/local/lib/python3.10/dist-packages (0.2.4)\n",
      "Requirement already satisfied: mord in /usr/local/lib/python3.10/dist-packages (0.7)\n",
      "Requirement already satisfied: graphviz in /usr/local/lib/python3.10/dist-packages (from DMBA) (0.20.3)\n",
      "Requirement already satisfied: matplotlib in /usr/local/lib/python3.10/dist-packages (from DMBA) (3.8.0)\n",
      "Requirement already satisfied: numpy in /usr/local/lib/python3.10/dist-packages (from DMBA) (1.26.4)\n",
      "Requirement already satisfied: pandas in /usr/local/lib/python3.10/dist-packages (from DMBA) (2.2.2)\n",
      "Requirement already satisfied: scikit-learn in /usr/local/lib/python3.10/dist-packages (from DMBA) (1.5.2)\n",
      "Requirement already satisfied: scipy in /usr/local/lib/python3.10/dist-packages (from DMBA) (1.13.1)\n",
      "Requirement already satisfied: contourpy>=1.0.1 in /usr/local/lib/python3.10/dist-packages (from matplotlib->DMBA) (1.3.1)\n",
      "Requirement already satisfied: cycler>=0.10 in /usr/local/lib/python3.10/dist-packages (from matplotlib->DMBA) (0.12.1)\n",
      "Requirement already satisfied: fonttools>=4.22.0 in /usr/local/lib/python3.10/dist-packages (from matplotlib->DMBA) (4.55.0)\n",
      "Requirement already satisfied: kiwisolver>=1.0.1 in /usr/local/lib/python3.10/dist-packages (from matplotlib->DMBA) (1.4.7)\n",
      "Requirement already satisfied: packaging>=20.0 in /usr/local/lib/python3.10/dist-packages (from matplotlib->DMBA) (24.2)\n",
      "Requirement already satisfied: pillow>=6.2.0 in /usr/local/lib/python3.10/dist-packages (from matplotlib->DMBA) (11.0.0)\n",
      "Requirement already satisfied: pyparsing>=2.3.1 in /usr/local/lib/python3.10/dist-packages (from matplotlib->DMBA) (3.2.0)\n",
      "Requirement already satisfied: python-dateutil>=2.7 in /usr/local/lib/python3.10/dist-packages (from matplotlib->DMBA) (2.8.2)\n",
      "Requirement already satisfied: pytz>=2020.1 in /usr/local/lib/python3.10/dist-packages (from pandas->DMBA) (2024.2)\n",
      "Requirement already satisfied: tzdata>=2022.7 in /usr/local/lib/python3.10/dist-packages (from pandas->DMBA) (2024.2)\n",
      "Requirement already satisfied: joblib>=1.2.0 in /usr/local/lib/python3.10/dist-packages (from scikit-learn->DMBA) (1.4.2)\n",
      "Requirement already satisfied: threadpoolctl>=3.1.0 in /usr/local/lib/python3.10/dist-packages (from scikit-learn->DMBA) (3.5.0)\n",
      "Requirement already satisfied: six>=1.5 in /usr/local/lib/python3.10/dist-packages (from python-dateutil>=2.7->matplotlib->DMBA) (1.16.0)\n"
     ]
    }
   ],
   "source": [
    "!pip install DMBA mord"
   ]
  },
  {
   "cell_type": "code",
   "execution_count": null,
   "metadata": {
    "colab": {
     "base_uri": "https://localhost:8080/"
    },
    "id": "y8XbCM8Cy75j",
    "outputId": "a680b995-adbb-4979-e41c-a37cfae42064"
   },
   "outputs": [
    {
     "name": "stdout",
     "output_type": "stream",
     "text": [
      "Colab environment detected.\n",
      "3.10.12 (main, Nov  6 2024, 20:22:13) [GCC 11.4.0]\n",
      "The scikit-learn version is 1.5.2.\n"
     ]
    }
   ],
   "source": [
    "%matplotlib inline\n",
    "from pathlib import Path\n",
    "import numpy as np\n",
    "import pandas as pd\n",
    "from sklearn.impute import KNNImputer\n",
    "from sklearn.linear_model import LogisticRegression, LogisticRegressionCV\n",
    "from sklearn.model_selection import train_test_split\n",
    "import statsmodels.api as sm\n",
    "import statsmodels.formula.api as smf\n",
    "from mord import LogisticIT\n",
    "import matplotlib.pylab as plt\n",
    "import seaborn as sns\n",
    "from dmba import classificationSummary, gainsChart, liftChart\n",
    "from dmba.metric import AIC_score\n",
    "import math\n",
    "import numpy as np\n",
    "import statsmodels.api as sm\n",
    "import statsmodels.formula.api as smf\n",
    "import sys\n",
    "import sklearn\n",
    "from sklearn.metrics import confusion_matrix\n",
    "from sklearn.preprocessing import StandardScaler\n",
    "from sklearn.ensemble import RandomForestClassifier\n",
    "import numpy as np\n",
    "from sklearn.metrics import f1_score\n",
    "import pandas as pd\n",
    "from sklearn.model_selection import GridSearchCV\n",
    "from dmba import classificationSummary\n",
    "from sklearn.model_selection import cross_val_score\n",
    "print(sys.version)\n",
    "print('The scikit-learn version is {}.'.format(sklearn.__version__))\n",
    "from sklearn.tree import DecisionTreeClassifier, DecisionTreeRegressor, plot_tree, export_text\n",
    "from sklearn.ensemble import AdaBoostClassifier, BaggingClassifier, RandomForestClassifier, GradientBoostingClassifier"
   ]
  },
  {
   "cell_type": "code",
   "execution_count": null,
   "metadata": {
    "colab": {
     "base_uri": "https://localhost:8080/"
    },
    "id": "saolhyGDuvrx",
    "outputId": "1497a538-09a0-44a5-f601-66519801a7f3"
   },
   "outputs": [
    {
     "name": "stdout",
     "output_type": "stream",
     "text": [
      "Drive already mounted at /content/drive; to attempt to forcibly remount, call drive.mount(\"/content/drive\", force_remount=True).\n"
     ]
    }
   ],
   "source": [
    "from google.colab import drive\n",
    "drive.mount('/content/drive')"
   ]
  },
  {
   "cell_type": "code",
   "execution_count": null,
   "metadata": {
    "id": "B4s4-kS-yuhE"
   },
   "outputs": [],
   "source": [
    "DATA = Path('/content/drive/My Drive/Colab Notebooks/Analytics Competition/')"
   ]
  },
  {
   "cell_type": "code",
   "execution_count": null,
   "metadata": {
    "colab": {
     "base_uri": "https://localhost:8080/",
     "height": 255
    },
    "id": "koZPS0W6y3ts",
    "outputId": "14548fd1-40d9-4f6d-ba0d-7c7524f1652f"
   },
   "outputs": [
    {
     "data": {
      "application/vnd.google.colaboratory.intrinsic+json": {
       "type": "dataframe",
       "variable_name": "train_X"
      },
      "text/html": [
       "\n",
       "  <div id=\"df-21598627-b6a1-463a-b4e1-33ee08ee52fd\" class=\"colab-df-container\">\n",
       "    <div>\n",
       "<style scoped>\n",
       "    .dataframe tbody tr th:only-of-type {\n",
       "        vertical-align: middle;\n",
       "    }\n",
       "\n",
       "    .dataframe tbody tr th {\n",
       "        vertical-align: top;\n",
       "    }\n",
       "\n",
       "    .dataframe thead th {\n",
       "        text-align: right;\n",
       "    }\n",
       "</style>\n",
       "<table border=\"1\" class=\"dataframe\">\n",
       "  <thead>\n",
       "    <tr style=\"text-align: right;\">\n",
       "      <th></th>\n",
       "      <th>ApprovalFY</th>\n",
       "      <th>Term</th>\n",
       "      <th>NoEmp</th>\n",
       "      <th>CreateJob</th>\n",
       "      <th>RetainedJob</th>\n",
       "      <th>DisbursementGross</th>\n",
       "      <th>BalanceGross</th>\n",
       "      <th>GrAppv</th>\n",
       "      <th>Franchise_Dummy</th>\n",
       "      <th>RevLineCr_N</th>\n",
       "      <th>...</th>\n",
       "      <th>State_TN</th>\n",
       "      <th>State_VT</th>\n",
       "      <th>State_WA</th>\n",
       "      <th>State_WI</th>\n",
       "      <th>State_WV</th>\n",
       "      <th>IndustryCode_Other</th>\n",
       "      <th>IndustryCode_Real_Estate</th>\n",
       "      <th>UrbanRural_0</th>\n",
       "      <th>UrbanRural_1</th>\n",
       "      <th>UrbanRural_2</th>\n",
       "    </tr>\n",
       "  </thead>\n",
       "  <tbody>\n",
       "    <tr>\n",
       "      <th>0</th>\n",
       "      <td>1996</td>\n",
       "      <td>84</td>\n",
       "      <td>8</td>\n",
       "      <td>0</td>\n",
       "      <td>0</td>\n",
       "      <td>85000.0</td>\n",
       "      <td>0.0</td>\n",
       "      <td>85000.0</td>\n",
       "      <td>0</td>\n",
       "      <td>1</td>\n",
       "      <td>...</td>\n",
       "      <td>0</td>\n",
       "      <td>0</td>\n",
       "      <td>0</td>\n",
       "      <td>0</td>\n",
       "      <td>0</td>\n",
       "      <td>1</td>\n",
       "      <td>0</td>\n",
       "      <td>1</td>\n",
       "      <td>0</td>\n",
       "      <td>0</td>\n",
       "    </tr>\n",
       "    <tr>\n",
       "      <th>1</th>\n",
       "      <td>2002</td>\n",
       "      <td>84</td>\n",
       "      <td>7</td>\n",
       "      <td>1</td>\n",
       "      <td>7</td>\n",
       "      <td>50000.0</td>\n",
       "      <td>0.0</td>\n",
       "      <td>50000.0</td>\n",
       "      <td>0</td>\n",
       "      <td>0</td>\n",
       "      <td>...</td>\n",
       "      <td>0</td>\n",
       "      <td>0</td>\n",
       "      <td>0</td>\n",
       "      <td>0</td>\n",
       "      <td>0</td>\n",
       "      <td>0</td>\n",
       "      <td>0</td>\n",
       "      <td>0</td>\n",
       "      <td>1</td>\n",
       "      <td>0</td>\n",
       "    </tr>\n",
       "    <tr>\n",
       "      <th>2</th>\n",
       "      <td>2005</td>\n",
       "      <td>68</td>\n",
       "      <td>11</td>\n",
       "      <td>0</td>\n",
       "      <td>0</td>\n",
       "      <td>150000.0</td>\n",
       "      <td>0.0</td>\n",
       "      <td>150000.0</td>\n",
       "      <td>0</td>\n",
       "      <td>0</td>\n",
       "      <td>...</td>\n",
       "      <td>0</td>\n",
       "      <td>0</td>\n",
       "      <td>0</td>\n",
       "      <td>0</td>\n",
       "      <td>0</td>\n",
       "      <td>0</td>\n",
       "      <td>0</td>\n",
       "      <td>0</td>\n",
       "      <td>1</td>\n",
       "      <td>0</td>\n",
       "    </tr>\n",
       "    <tr>\n",
       "      <th>3</th>\n",
       "      <td>2005</td>\n",
       "      <td>69</td>\n",
       "      <td>15</td>\n",
       "      <td>0</td>\n",
       "      <td>15</td>\n",
       "      <td>11600.0</td>\n",
       "      <td>0.0</td>\n",
       "      <td>11600.0</td>\n",
       "      <td>0</td>\n",
       "      <td>0</td>\n",
       "      <td>...</td>\n",
       "      <td>0</td>\n",
       "      <td>0</td>\n",
       "      <td>0</td>\n",
       "      <td>1</td>\n",
       "      <td>0</td>\n",
       "      <td>0</td>\n",
       "      <td>0</td>\n",
       "      <td>0</td>\n",
       "      <td>1</td>\n",
       "      <td>0</td>\n",
       "    </tr>\n",
       "    <tr>\n",
       "      <th>4</th>\n",
       "      <td>1999</td>\n",
       "      <td>240</td>\n",
       "      <td>14</td>\n",
       "      <td>7</td>\n",
       "      <td>7</td>\n",
       "      <td>221000.0</td>\n",
       "      <td>0.0</td>\n",
       "      <td>221000.0</td>\n",
       "      <td>0</td>\n",
       "      <td>1</td>\n",
       "      <td>...</td>\n",
       "      <td>0</td>\n",
       "      <td>0</td>\n",
       "      <td>0</td>\n",
       "      <td>0</td>\n",
       "      <td>0</td>\n",
       "      <td>0</td>\n",
       "      <td>0</td>\n",
       "      <td>1</td>\n",
       "      <td>0</td>\n",
       "      <td>0</td>\n",
       "    </tr>\n",
       "  </tbody>\n",
       "</table>\n",
       "<p>5 rows × 67 columns</p>\n",
       "</div>\n",
       "    <div class=\"colab-df-buttons\">\n",
       "\n",
       "  <div class=\"colab-df-container\">\n",
       "    <button class=\"colab-df-convert\" onclick=\"convertToInteractive('df-21598627-b6a1-463a-b4e1-33ee08ee52fd')\"\n",
       "            title=\"Convert this dataframe to an interactive table.\"\n",
       "            style=\"display:none;\">\n",
       "\n",
       "  <svg xmlns=\"http://www.w3.org/2000/svg\" height=\"24px\" viewBox=\"0 -960 960 960\">\n",
       "    <path d=\"M120-120v-720h720v720H120Zm60-500h600v-160H180v160Zm220 220h160v-160H400v160Zm0 220h160v-160H400v160ZM180-400h160v-160H180v160Zm440 0h160v-160H620v160ZM180-180h160v-160H180v160Zm440 0h160v-160H620v160Z\"/>\n",
       "  </svg>\n",
       "    </button>\n",
       "\n",
       "  <style>\n",
       "    .colab-df-container {\n",
       "      display:flex;\n",
       "      gap: 12px;\n",
       "    }\n",
       "\n",
       "    .colab-df-convert {\n",
       "      background-color: #E8F0FE;\n",
       "      border: none;\n",
       "      border-radius: 50%;\n",
       "      cursor: pointer;\n",
       "      display: none;\n",
       "      fill: #1967D2;\n",
       "      height: 32px;\n",
       "      padding: 0 0 0 0;\n",
       "      width: 32px;\n",
       "    }\n",
       "\n",
       "    .colab-df-convert:hover {\n",
       "      background-color: #E2EBFA;\n",
       "      box-shadow: 0px 1px 2px rgba(60, 64, 67, 0.3), 0px 1px 3px 1px rgba(60, 64, 67, 0.15);\n",
       "      fill: #174EA6;\n",
       "    }\n",
       "\n",
       "    .colab-df-buttons div {\n",
       "      margin-bottom: 4px;\n",
       "    }\n",
       "\n",
       "    [theme=dark] .colab-df-convert {\n",
       "      background-color: #3B4455;\n",
       "      fill: #D2E3FC;\n",
       "    }\n",
       "\n",
       "    [theme=dark] .colab-df-convert:hover {\n",
       "      background-color: #434B5C;\n",
       "      box-shadow: 0px 1px 3px 1px rgba(0, 0, 0, 0.15);\n",
       "      filter: drop-shadow(0px 1px 2px rgba(0, 0, 0, 0.3));\n",
       "      fill: #FFFFFF;\n",
       "    }\n",
       "  </style>\n",
       "\n",
       "    <script>\n",
       "      const buttonEl =\n",
       "        document.querySelector('#df-21598627-b6a1-463a-b4e1-33ee08ee52fd button.colab-df-convert');\n",
       "      buttonEl.style.display =\n",
       "        google.colab.kernel.accessAllowed ? 'block' : 'none';\n",
       "\n",
       "      async function convertToInteractive(key) {\n",
       "        const element = document.querySelector('#df-21598627-b6a1-463a-b4e1-33ee08ee52fd');\n",
       "        const dataTable =\n",
       "          await google.colab.kernel.invokeFunction('convertToInteractive',\n",
       "                                                    [key], {});\n",
       "        if (!dataTable) return;\n",
       "\n",
       "        const docLinkHtml = 'Like what you see? Visit the ' +\n",
       "          '<a target=\"_blank\" href=https://colab.research.google.com/notebooks/data_table.ipynb>data table notebook</a>'\n",
       "          + ' to learn more about interactive tables.';\n",
       "        element.innerHTML = '';\n",
       "        dataTable['output_type'] = 'display_data';\n",
       "        await google.colab.output.renderOutput(dataTable, element);\n",
       "        const docLink = document.createElement('div');\n",
       "        docLink.innerHTML = docLinkHtml;\n",
       "        element.appendChild(docLink);\n",
       "      }\n",
       "    </script>\n",
       "  </div>\n",
       "\n",
       "\n",
       "<div id=\"df-3eb921a0-e2c6-4bf8-a36d-70c8ca396d25\">\n",
       "  <button class=\"colab-df-quickchart\" onclick=\"quickchart('df-3eb921a0-e2c6-4bf8-a36d-70c8ca396d25')\"\n",
       "            title=\"Suggest charts\"\n",
       "            style=\"display:none;\">\n",
       "\n",
       "<svg xmlns=\"http://www.w3.org/2000/svg\" height=\"24px\"viewBox=\"0 0 24 24\"\n",
       "     width=\"24px\">\n",
       "    <g>\n",
       "        <path d=\"M19 3H5c-1.1 0-2 .9-2 2v14c0 1.1.9 2 2 2h14c1.1 0 2-.9 2-2V5c0-1.1-.9-2-2-2zM9 17H7v-7h2v7zm4 0h-2V7h2v10zm4 0h-2v-4h2v4z\"/>\n",
       "    </g>\n",
       "</svg>\n",
       "  </button>\n",
       "\n",
       "<style>\n",
       "  .colab-df-quickchart {\n",
       "      --bg-color: #E8F0FE;\n",
       "      --fill-color: #1967D2;\n",
       "      --hover-bg-color: #E2EBFA;\n",
       "      --hover-fill-color: #174EA6;\n",
       "      --disabled-fill-color: #AAA;\n",
       "      --disabled-bg-color: #DDD;\n",
       "  }\n",
       "\n",
       "  [theme=dark] .colab-df-quickchart {\n",
       "      --bg-color: #3B4455;\n",
       "      --fill-color: #D2E3FC;\n",
       "      --hover-bg-color: #434B5C;\n",
       "      --hover-fill-color: #FFFFFF;\n",
       "      --disabled-bg-color: #3B4455;\n",
       "      --disabled-fill-color: #666;\n",
       "  }\n",
       "\n",
       "  .colab-df-quickchart {\n",
       "    background-color: var(--bg-color);\n",
       "    border: none;\n",
       "    border-radius: 50%;\n",
       "    cursor: pointer;\n",
       "    display: none;\n",
       "    fill: var(--fill-color);\n",
       "    height: 32px;\n",
       "    padding: 0;\n",
       "    width: 32px;\n",
       "  }\n",
       "\n",
       "  .colab-df-quickchart:hover {\n",
       "    background-color: var(--hover-bg-color);\n",
       "    box-shadow: 0 1px 2px rgba(60, 64, 67, 0.3), 0 1px 3px 1px rgba(60, 64, 67, 0.15);\n",
       "    fill: var(--button-hover-fill-color);\n",
       "  }\n",
       "\n",
       "  .colab-df-quickchart-complete:disabled,\n",
       "  .colab-df-quickchart-complete:disabled:hover {\n",
       "    background-color: var(--disabled-bg-color);\n",
       "    fill: var(--disabled-fill-color);\n",
       "    box-shadow: none;\n",
       "  }\n",
       "\n",
       "  .colab-df-spinner {\n",
       "    border: 2px solid var(--fill-color);\n",
       "    border-color: transparent;\n",
       "    border-bottom-color: var(--fill-color);\n",
       "    animation:\n",
       "      spin 1s steps(1) infinite;\n",
       "  }\n",
       "\n",
       "  @keyframes spin {\n",
       "    0% {\n",
       "      border-color: transparent;\n",
       "      border-bottom-color: var(--fill-color);\n",
       "      border-left-color: var(--fill-color);\n",
       "    }\n",
       "    20% {\n",
       "      border-color: transparent;\n",
       "      border-left-color: var(--fill-color);\n",
       "      border-top-color: var(--fill-color);\n",
       "    }\n",
       "    30% {\n",
       "      border-color: transparent;\n",
       "      border-left-color: var(--fill-color);\n",
       "      border-top-color: var(--fill-color);\n",
       "      border-right-color: var(--fill-color);\n",
       "    }\n",
       "    40% {\n",
       "      border-color: transparent;\n",
       "      border-right-color: var(--fill-color);\n",
       "      border-top-color: var(--fill-color);\n",
       "    }\n",
       "    60% {\n",
       "      border-color: transparent;\n",
       "      border-right-color: var(--fill-color);\n",
       "    }\n",
       "    80% {\n",
       "      border-color: transparent;\n",
       "      border-right-color: var(--fill-color);\n",
       "      border-bottom-color: var(--fill-color);\n",
       "    }\n",
       "    90% {\n",
       "      border-color: transparent;\n",
       "      border-bottom-color: var(--fill-color);\n",
       "    }\n",
       "  }\n",
       "</style>\n",
       "\n",
       "  <script>\n",
       "    async function quickchart(key) {\n",
       "      const quickchartButtonEl =\n",
       "        document.querySelector('#' + key + ' button');\n",
       "      quickchartButtonEl.disabled = true;  // To prevent multiple clicks.\n",
       "      quickchartButtonEl.classList.add('colab-df-spinner');\n",
       "      try {\n",
       "        const charts = await google.colab.kernel.invokeFunction(\n",
       "            'suggestCharts', [key], {});\n",
       "      } catch (error) {\n",
       "        console.error('Error during call to suggestCharts:', error);\n",
       "      }\n",
       "      quickchartButtonEl.classList.remove('colab-df-spinner');\n",
       "      quickchartButtonEl.classList.add('colab-df-quickchart-complete');\n",
       "    }\n",
       "    (() => {\n",
       "      let quickchartButtonEl =\n",
       "        document.querySelector('#df-3eb921a0-e2c6-4bf8-a36d-70c8ca396d25 button');\n",
       "      quickchartButtonEl.style.display =\n",
       "        google.colab.kernel.accessAllowed ? 'block' : 'none';\n",
       "    })();\n",
       "  </script>\n",
       "</div>\n",
       "\n",
       "    </div>\n",
       "  </div>\n"
      ],
      "text/plain": [
       "   ApprovalFY  Term  NoEmp  CreateJob  RetainedJob  DisbursementGross  \\\n",
       "0        1996    84      8          0            0            85000.0   \n",
       "1        2002    84      7          1            7            50000.0   \n",
       "2        2005    68     11          0            0           150000.0   \n",
       "3        2005    69     15          0           15            11600.0   \n",
       "4        1999   240     14          7            7           221000.0   \n",
       "\n",
       "   BalanceGross    GrAppv  Franchise_Dummy  RevLineCr_N  ...  State_TN  \\\n",
       "0           0.0   85000.0                0            1  ...         0   \n",
       "1           0.0   50000.0                0            0  ...         0   \n",
       "2           0.0  150000.0                0            0  ...         0   \n",
       "3           0.0   11600.0                0            0  ...         0   \n",
       "4           0.0  221000.0                0            1  ...         0   \n",
       "\n",
       "   State_VT  State_WA  State_WI  State_WV  IndustryCode_Other  \\\n",
       "0         0         0         0         0                   1   \n",
       "1         0         0         0         0                   0   \n",
       "2         0         0         0         0                   0   \n",
       "3         0         0         1         0                   0   \n",
       "4         0         0         0         0                   0   \n",
       "\n",
       "   IndustryCode_Real_Estate  UrbanRural_0  UrbanRural_1  UrbanRural_2  \n",
       "0                         0             1             0             0  \n",
       "1                         0             0             1             0  \n",
       "2                         0             0             1             0  \n",
       "3                         0             0             1             0  \n",
       "4                         0             1             0             0  \n",
       "\n",
       "[5 rows x 67 columns]"
      ]
     },
     "execution_count": 23,
     "metadata": {},
     "output_type": "execute_result"
    }
   ],
   "source": [
    "train_X = pd.read_csv(DATA / 'train_X.csv')\n",
    "valid_X = pd.read_csv(DATA / 'valid_X.csv')\n",
    "train_y = pd.read_csv(DATA / 'train_y.csv')\n",
    "valid_y = pd.read_csv(DATA / 'valid_y.csv')\n",
    "\n",
    "train_X.head()"
   ]
  },
  {
   "cell_type": "markdown",
   "metadata": {
    "id": "Xtu94vOYsrkk"
   },
   "source": [
    "Average Net Profit (U.S. dollars)\n",
    "\n",
    "| Actual \\ Predicted | Paid in full (grant the loan) | Default (deny the loan) |\n",
    "|-------------------|--------------------------------|--------------------------|\n",
    "| Paid in full      | 5% of DisbursementGross        | 0                       |\n",
    "| Default           | -5 times 5% of DisbursementGross | 0                       |"
   ]
  },
  {
   "cell_type": "markdown",
   "metadata": {
    "id": "IbOn3-KSpgY2"
   },
   "source": [
    "Before moving forward, it is crucial to discuss accuracy measures and which apply to our context in balancing misclassification costs and maximizing profit. The table above provided by the competition prompt, explains the profit or loss based on True Postitvies, True Negatives, False Postitives, and False negatives."
   ]
  },
  {
   "cell_type": "markdown",
   "metadata": {
    "id": "1SKDLM8zzStD"
   },
   "source": [
    "**True Positive:** The model predicting a loan will default when it actually does. This highlights the cost associated with a defaulted loan (which is 5 times the potential profit)."
   ]
  },
  {
   "cell_type": "markdown",
   "metadata": {
    "id": "lRxxoR6UzkqZ"
   },
   "source": [
    "**True Negative:** The model predicts PIF and the loan is actually PIF. This results in no loss of profit, meaning it is a low-priority measure."
   ]
  },
  {
   "cell_type": "markdown",
   "metadata": {
    "id": "c9WZwXhLz1_v"
   },
   "source": [
    "**False Positive:** The model predicts default but the customer PIF. This is simply a loss of profit. When applying the model to future data, this would result in the loss of income of 5% of the loan amount."
   ]
  },
  {
   "cell_type": "markdown",
   "metadata": {
    "id": "ekl2xjAW0UY1"
   },
   "source": [
    "**False Negative:** The model predicts PIF but the customer actually defaulted. If we were to apply this model to future loans, this case would be a huge loss in which a loan is approved which will default. This is because the model has incorrectly classified a high-risk borrower as low-risk. The resulting default could cause loss for the lender, potentially equal to -5 times (5% of DisbursementGross) as indicated in the table provided. For this reason, this should be a priority accuracy measure for all modeling moving forward."
   ]
  },
  {
   "cell_type": "markdown",
   "metadata": {
    "id": "c0l0-9a7tXS1"
   },
   "source": [
    "Accuracy Mesaures Calculation based on Confusion Matrix:"
   ]
  },
  {
   "cell_type": "markdown",
   "metadata": {
    "id": "txHoAmYhtWP7"
   },
   "source": [
    "| Actual Class \\ Predicted Class | Predicted Class 0 | Predicted Class 1 |\n",
    "|--------------------------------|-------------------|-------------------|\n",
    "| Actual Class 0                 | a                 | b                 |\n",
    "| Actual Class 1                 | c                 | d                 |\n"
   ]
  },
  {
   "cell_type": "markdown",
   "metadata": {
    "id": "3G_BjgfEtcKL"
   },
   "source": [
    "| Metric                      | Formula                         |\n",
    "|-----------------------------|----------------------------------|\n",
    "| Accuracy                   | (a + d) / (a + b + c + d)       |\n",
    "| Sensitivity (Recall)       | d / (c + d)                     |\n",
    "| Specificity                | a / (a + b)                     |\n",
    "| Precision                  | d / (b + d)                     |\n",
    "| F1 Score                   | 2 * d / (2 * d + b + c)         |\n"
   ]
  },
  {
   "cell_type": "markdown",
   "metadata": {
    "id": "krVHLErRuFVn"
   },
   "source": [
    "| Metric                      | What It Indicates                                              | How to Interpret                                          |\n",
    "|-----------------------------|---------------------------------------------------------------|----------------------------------------------------------|\n",
    "| Accuracy                   | Overall correctness of the model.                              | Higher values indicate better overall performance.       |\n",
    "| Sensitivity (Recall)       | Ability to correctly identify positive cases.                  | High sensitivity means few false negatives.              |\n",
    "| Specificity                | Ability to correctly identify negative cases.                  | High specificity means few false positives.              |\n",
    "| Precision                  | Proportion of predicted positives that are correct.            | High precision means fewer false alarms (false positives).|\n",
    "| F1 Score                   | Balance between precision and recall.                          | High F1 score indicates good balance between precision and recall. |\n"
   ]
  },
  {
   "cell_type": "markdown",
   "metadata": {
    "id": "Rc7Sijfb3wGz"
   },
   "source": [
    "**F1 Score**"
   ]
  },
  {
   "cell_type": "markdown",
   "metadata": {
    "id": "7d0ks34533tp"
   },
   "source": [
    "**For our entire analysis, we will be prioritizing f1 score. This accuracy measure balances the financial consequnces of approving a loan that would default and also denying a loan that wouldve PIF. This balance is cruical to maximisng profit and creating a realistic cut-off for future loan data**"
   ]
  },
  {
   "cell_type": "markdown",
   "metadata": {
    "id": "kB5_SCXRkXrs"
   },
   "source": [
    "**Decision trees**: provide valuable insight into the importance of features. Decision trees typically offer value through their clear visual interpretability. However, highly dimensional data like loan data we have been provided can be difficult to visualize. There are still methods to determine a feature's relative importance to a model using the methods. Utilizing this insight is necessary for further modeling methods such as KNN with huge computational demands. Any means of reducing the complexity of our data will aid in the reduction of computational time and ability which is tricky for students operating on our on hardware."
   ]
  },
  {
   "cell_type": "markdown",
   "metadata": {
    "id": "YwS52lkX4vyN"
   },
   "source": [
    "**Criterion:** A criterion determines how the algorithm will determine the best way to split the data at each node of the tree we produce. When utilizing DecisionTreeClassifier, you must determine which criterion you will use, \"Gini\" or \"Entropy\". Both measure the impurity of a data set and aim to create more pure subsets. Entropy will try to create subsets where most loans either PIF or default, making the prediction clearer. Gini focuses on minimizing the probability of misclassifying a loan if it were Randomly assigned a class label based on the distribution within the subset. Overall Gini is more efficient computationally and using Entropy can be quite time-consuming for a data set this large. Overall it is important to compare our results with both to truly determine what is better suited."
   ]
  },
  {
   "cell_type": "markdown",
   "metadata": {
    "id": "DX8h5IqpFMmO"
   },
   "source": [
    "**Single Tree**"
   ]
  },
  {
   "cell_type": "markdown",
   "metadata": {
    "id": "cOzK_Avej7v-"
   },
   "source": [
    "This single tree decision classfier acts as a baseline model from which we can compare the preformance of the more complex methods we will be applying later (Bagging, Boosting, Random Forest)."
   ]
  },
  {
   "cell_type": "code",
   "execution_count": null,
   "metadata": {
    "colab": {
     "base_uri": "https://localhost:8080/"
    },
    "id": "HVMlWLWv6f8p",
    "outputId": "8055658a-1203-47a1-8c3b-af58f3e5251b"
   },
   "outputs": [
    {
     "name": "stdout",
     "output_type": "stream",
     "text": [
      "Confusion Matrix (Accuracy 0.9208)\n",
      "\n",
      "       Prediction\n",
      "Actual      0      1\n",
      "     0 282232  14470\n",
      "     1  14013  48951\n",
      "F1 Score: 0.7746330656327887\n"
     ]
    }
   ],
   "source": [
    "defaultTree = DecisionTreeClassifier(criterion=\"gini\")\n",
    "defaultTree.fit(train_X, train_y)\n",
    "\n",
    "classes = defaultTree.classes_\n",
    "classificationSummary(valid_y, defaultTree.predict(valid_X), class_names=defaultTree.classes_)\n",
    "y_pred = defaultTree.predict(valid_X)\n",
    "f1 = f1_score(valid_y, y_pred)\n",
    "print(f\"F1 Score: {f1}\")"
   ]
  },
  {
   "cell_type": "markdown",
   "metadata": {
    "id": "G0rPQ6n8CT2w"
   },
   "source": [
    "Recall\n",
    "\n",
    "-\n",
    "\n",
    "\n",
    "48804/(13778+49186) = 0.7751"
   ]
  },
  {
   "cell_type": "code",
   "execution_count": null,
   "metadata": {
    "colab": {
     "base_uri": "https://localhost:8080/"
    },
    "id": "H_IrTWNPFLEe",
    "outputId": "a64085d6-01b3-4975-dc20-9e3d572d0bf3"
   },
   "outputs": [
    {
     "name": "stdout",
     "output_type": "stream",
     "text": [
      "Confusion Matrix (Accuracy 0.9221)\n",
      "\n",
      "       Prediction\n",
      "Actual      0      1\n",
      "     0 282473  14229\n",
      "     1  13779  49185\n",
      "F1 Score: 0.7783791482694773\n"
     ]
    }
   ],
   "source": [
    "defaultTree = DecisionTreeClassifier(criterion=\"entropy\")\n",
    "defaultTree.fit(train_X, train_y)\n",
    "\n",
    "classes = defaultTree.classes_\n",
    "classificationSummary(valid_y, defaultTree.predict(valid_X), class_names=defaultTree.classes_)\n",
    "y_pred = defaultTree.predict(valid_X)\n",
    "\n",
    "f1 = f1_score(valid_y, y_pred)\n",
    "print(f\"F1 Score: {f1}\")"
   ]
  },
  {
   "cell_type": "markdown",
   "metadata": {
    "id": "f-A5L-AeC2Jc"
   },
   "source": [
    "Recall\n",
    "\n",
    "-\n",
    "\n",
    "\n",
    "49186/(13778+49186) = 0.7812"
   ]
  },
  {
   "cell_type": "markdown",
   "metadata": {
    "id": "nYR7QMtWFjFg"
   },
   "source": [
    "**Bagging**"
   ]
  },
  {
   "cell_type": "markdown",
   "metadata": {
    "id": "-0Ve8gpX81mH"
   },
   "source": [
    "\"Bagging\" is short for Boostrap aggrgation. Bootstrapping will create subsets from the training data we have created randomly. This means certain data might repeat and some might not appear at all. Bagging combines predictions from these many mini models created from our training data. The method aims to reduce variance, which in turn can imrove overall prediction accuracy. In the code, you see \"n_estimators = x\". This determines the amount of mini models or mini trees to be created. The more created typically helps the model more up to a certain threshold. However it can be computationally intense to experiment with out limited hardware, so we will stick with a common starting point of 100. In a scenario fine tuning a model, it would be important to experiment for best results."
   ]
  },
  {
   "cell_type": "code",
   "execution_count": null,
   "metadata": {
    "colab": {
     "base_uri": "https://localhost:8080/"
    },
    "id": "Aj7ikEnU6sT1",
    "outputId": "37aa2359-c5fe-40ea-89e1-2d0393333d39"
   },
   "outputs": [
    {
     "name": "stderr",
     "output_type": "stream",
     "text": [
      "/usr/local/lib/python3.10/dist-packages/sklearn/ensemble/_bagging.py:888: DataConversionWarning: A column-vector y was passed when a 1d array was expected. Please change the shape of y to (n_samples, ), for example using ravel().\n",
      "  y = column_or_1d(y, warn=True)\n"
     ]
    },
    {
     "name": "stdout",
     "output_type": "stream",
     "text": [
      "Confusion Matrix (Accuracy 0.9453)\n",
      "\n",
      "       Prediction\n",
      "Actual      0      1\n",
      "     0 287521   9181\n",
      "     1  10485  52479\n",
      "F1 Score: 0.8421973295673385\n"
     ]
    }
   ],
   "source": [
    "bagging = BaggingClassifier(DecisionTreeClassifier(criterion=\"gini\"),\n",
    "                            n_estimators=100, random_state=1)\n",
    "bagging.fit(train_X, train_y)\n",
    "classificationSummary(valid_y, bagging.predict(valid_X), class_names=classes)\n",
    "y_pred = bagging.predict(valid_X)\n",
    "f1 = f1_score(valid_y, y_pred)\n",
    "print(f\"F1 Score: {f1}\")"
   ]
  },
  {
   "cell_type": "markdown",
   "metadata": {
    "id": "esJ3vvIBDfms"
   },
   "source": [
    "Recall\n",
    "\n",
    "-\n",
    "\n",
    "\n",
    "52479/(10485+52479) = 0.8334"
   ]
  },
  {
   "cell_type": "code",
   "execution_count": null,
   "metadata": {
    "colab": {
     "base_uri": "https://localhost:8080/"
    },
    "id": "cSY1Ssa0FwzF",
    "outputId": "5c07c669-9c8b-4924-f134-44b38993fc53"
   },
   "outputs": [
    {
     "name": "stderr",
     "output_type": "stream",
     "text": [
      "/usr/local/lib/python3.10/dist-packages/sklearn/ensemble/_bagging.py:888: DataConversionWarning: A column-vector y was passed when a 1d array was expected. Please change the shape of y to (n_samples, ), for example using ravel().\n",
      "  y = column_or_1d(y, warn=True)\n"
     ]
    },
    {
     "name": "stdout",
     "output_type": "stream",
     "text": [
      "Confusion Matrix (Accuracy 0.9464)\n",
      "\n",
      "       Prediction\n",
      "Actual      0      1\n",
      "     0 287544   9158\n",
      "     1  10107  52857\n",
      "F1 Score: 0.8458541034893862\n"
     ]
    }
   ],
   "source": [
    "bagging = BaggingClassifier(DecisionTreeClassifier(criterion=\"entropy\"),\n",
    "                            n_estimators=100, random_state=1)\n",
    "bagging.fit(train_X, train_y)\n",
    "classificationSummary(valid_y, bagging.predict(valid_X), class_names=classes)\n",
    "y_pred = bagging.predict(valid_X)\n",
    "f1 = f1_score(valid_y, y_pred)\n",
    "print(f\"F1 Score: {f1}\")"
   ]
  },
  {
   "cell_type": "markdown",
   "metadata": {
    "id": "XrUULi4WD3R6"
   },
   "source": [
    "Recall\n",
    "\n",
    "-\n",
    "\n",
    "52857/(10107+52857) = 0.8351"
   ]
  },
  {
   "cell_type": "markdown",
   "metadata": {
    "id": "9VmJYHnfFvLa"
   },
   "source": [
    "**Boosting**"
   ]
  },
  {
   "cell_type": "markdown",
   "metadata": {
    "id": "7z9Dd9iz_Vmc"
   },
   "source": [
    "Boosting is another ensemble technique like bagging but differs in approach. Boosting trains sample models sequentially. This means that each subsquent model will learn from the previous one built before it. Bagging simply combines the base estimator predcitions but boosting assigns higher weights based on their performance."
   ]
  },
  {
   "cell_type": "code",
   "execution_count": null,
   "metadata": {
    "colab": {
     "base_uri": "https://localhost:8080/"
    },
    "id": "sbHdMDCt6vh0",
    "outputId": "fc790c10-72b0-4dea-8b99-741f59c911f0"
   },
   "outputs": [
    {
     "name": "stderr",
     "output_type": "stream",
     "text": [
      "/usr/local/lib/python3.10/dist-packages/sklearn/utils/validation.py:1339: DataConversionWarning: A column-vector y was passed when a 1d array was expected. Please change the shape of y to (n_samples, ), for example using ravel().\n",
      "  y = column_or_1d(y, warn=True)\n",
      "/usr/local/lib/python3.10/dist-packages/sklearn/ensemble/_weight_boosting.py:527: FutureWarning: The SAMME.R algorithm (the default) is deprecated and will be removed in 1.6. Use the SAMME algorithm to circumvent this warning.\n",
      "  warnings.warn(\n"
     ]
    },
    {
     "name": "stdout",
     "output_type": "stream",
     "text": [
      "Confusion Matrix (Accuracy 0.9242)\n",
      "\n",
      "       Prediction\n",
      "Actual      0      1\n",
      "     0 283369  13333\n",
      "     1  13947  49017\n",
      "F1 Score: 0.7823068452048454\n"
     ]
    }
   ],
   "source": [
    "boost = AdaBoostClassifier(DecisionTreeClassifier(criterion=\"gini\"), n_estimators=100, random_state=1)\n",
    "boost.fit(train_X, train_y)\n",
    "classificationSummary(valid_y, boost.predict(valid_X), class_names=classes)\n",
    "y_pred = boost.predict(valid_X)\n",
    "f1 = f1_score(valid_y, y_pred)\n",
    "print(f\"F1 Score: {f1}\")"
   ]
  },
  {
   "cell_type": "markdown",
   "metadata": {
    "id": "MUU1TbhbEGaN"
   },
   "source": [
    "Recall\n",
    "\n",
    "\n",
    "-\n",
    "\n",
    "49017/(13947+49017)= 0.7784\n",
    "\n"
   ]
  },
  {
   "cell_type": "code",
   "execution_count": null,
   "metadata": {
    "colab": {
     "base_uri": "https://localhost:8080/"
    },
    "id": "2iuABzKbF_vc",
    "outputId": "1fd42793-18c4-4975-f9ba-3cb397396e3a"
   },
   "outputs": [
    {
     "name": "stderr",
     "output_type": "stream",
     "text": [
      "/usr/local/lib/python3.10/dist-packages/sklearn/utils/validation.py:1339: DataConversionWarning: A column-vector y was passed when a 1d array was expected. Please change the shape of y to (n_samples, ), for example using ravel().\n",
      "  y = column_or_1d(y, warn=True)\n",
      "/usr/local/lib/python3.10/dist-packages/sklearn/ensemble/_weight_boosting.py:527: FutureWarning: The SAMME.R algorithm (the default) is deprecated and will be removed in 1.6. Use the SAMME algorithm to circumvent this warning.\n",
      "  warnings.warn(\n"
     ]
    },
    {
     "name": "stdout",
     "output_type": "stream",
     "text": [
      "Confusion Matrix (Accuracy 0.9271)\n",
      "\n",
      "       Prediction\n",
      "Actual      0      1\n",
      "     0 283639  13063\n",
      "     1  13161  49803\n",
      "F1 Score: 0.7915918302471588\n"
     ]
    }
   ],
   "source": [
    "boost = AdaBoostClassifier(DecisionTreeClassifier(criterion=\"entropy\"), n_estimators=100, random_state=1)\n",
    "boost.fit(train_X, train_y)\n",
    "classificationSummary(valid_y, boost.predict(valid_X), class_names=classes)\n",
    "y_pred = boost.predict(valid_X)\n",
    "f1 = f1_score(valid_y, y_pred)\n",
    "print(f\"F1 Score: {f1}\")"
   ]
  },
  {
   "cell_type": "markdown",
   "metadata": {
    "id": "SnL_IPFRELuI"
   },
   "source": [
    "Recall\n",
    "\n",
    "\n",
    "-\n",
    "\n",
    "\n",
    "49803/(13161+49803) = 0.791"
   ]
  },
  {
   "cell_type": "markdown",
   "metadata": {
    "id": "_1Dv5EZoFIJR"
   },
   "source": [
    "**Random Forest**"
   ]
  },
  {
   "cell_type": "markdown",
   "metadata": {
    "id": "YF6RggpiJtHP"
   },
   "source": [
    "The final ensemble method we will compare RandomForestClassifier. A \"random forest\" of decsion trees are trained from various subests of the training data. The randomness halps reduce correlation between stress and prevents over fitting. Due to this, I will also be displaying the feature importances from this Random Forest as a means of dropping more insignificant predictors."
   ]
  },
  {
   "cell_type": "code",
   "execution_count": null,
   "metadata": {
    "colab": {
     "base_uri": "https://localhost:8080/"
    },
    "id": "tZ7-9N8IzftM",
    "outputId": "6aea4cc6-7142-46fd-e314-d9dda5e0bcb7"
   },
   "outputs": [
    {
     "name": "stdout",
     "output_type": "stream",
     "text": [
      "                 feature  importance       std\n",
      "20     State_NJ_SC_NY_MD    0.000000  0.000000\n",
      "23     State_UT_WY_ND_SD    0.000000  0.000000\n",
      "22        State_CO_IN_MA    0.000000  0.000000\n",
      "21  State_TX_CA_DE_KY_VA    0.000000  0.000000\n",
      "19           State_IL_MI    0.000000  0.000000\n",
      "..                   ...         ...       ...\n",
      "2                  NoEmp    0.049137  0.003356\n",
      "7                 GrAppv    0.078085  0.010435\n",
      "5      DisbursementGross    0.083154  0.007486\n",
      "0             ApprovalFY    0.117684  0.016917\n",
      "1                   Term    0.439116  0.024415\n",
      "\n",
      "[67 rows x 3 columns]\n",
      "Confusion Matrix (Accuracy 0.9370)\n",
      "\n",
      "       Prediction\n",
      "Actual      0      1\n",
      "     0 289461   7241\n",
      "     1  15417  47547\n",
      "F1 Score: 0.8075786398532508\n"
     ]
    }
   ],
   "source": [
    "rf = RandomForestClassifier(n_estimators=500, random_state=1)\n",
    "rf.fit(train_X, train_y['Default_CHGOFF'])\n",
    "\n",
    "importances = rf.feature_importances_\n",
    "std = np.std([tree.feature_importances_ for tree in rf.estimators_], axis=0)\n",
    "\n",
    "df = pd.DataFrame({'feature': train_X.columns, 'importance': importances, 'std': std})\n",
    "df = df.sort_values('importance')\n",
    "print(df)\n",
    "\n",
    "classificationSummary(valid_y['Default_CHGOFF'], rf.predict(valid_X))\n",
    "y_pred = rf.predict(valid_X)\n",
    "\n",
    "f1 = f1_score(valid_y['Default_CHGOFF'], y_pred)\n",
    "print(f\"F1 Score: {f1}\")"
   ]
  },
  {
   "cell_type": "markdown",
   "metadata": {
    "id": "EyNTEeitEk0n"
   },
   "source": [
    "Recall\n",
    "\n",
    "\n",
    "-\n",
    "\n",
    "47547/(15417+47547) = 0.751\n",
    "\n"
   ]
  },
  {
   "cell_type": "markdown",
   "metadata": {
    "id": "hrQ7sCSQBR48"
   },
   "source": [
    "Feature Importance:"
   ]
  },
  {
   "cell_type": "code",
   "execution_count": null,
   "metadata": {
    "colab": {
     "base_uri": "https://localhost:8080/",
     "height": 1000
    },
    "id": "jBHugnGLJJHl",
    "outputId": "21f0cd19-a6fc-4eba-89f2-082ebbca55c1"
   },
   "outputs": [
    {
     "data": {
      "application/vnd.google.colaboratory.intrinsic+json": {
       "summary": "{\n  \"name\": \"df\",\n  \"rows\": 67,\n  \"fields\": [\n    {\n      \"column\": \"feature\",\n      \"properties\": {\n        \"dtype\": \"string\",\n        \"num_unique_values\": 67,\n        \"samples\": [\n          \"State_WA\",\n          \"State_AR\",\n          \"State_IL_MI\"\n        ],\n        \"semantic_type\": \"\",\n        \"description\": \"\"\n      }\n    },\n    {\n      \"column\": \"importance\",\n      \"properties\": {\n        \"dtype\": \"number\",\n        \"std\": 0.056415414385464185,\n        \"min\": 0.0,\n        \"max\": 0.4391163750689242,\n        \"num_unique_values\": 62,\n        \"samples\": [\n          0.006498380262194706,\n          0.037980407258428564,\n          0.0\n        ],\n        \"semantic_type\": \"\",\n        \"description\": \"\"\n      }\n    },\n    {\n      \"column\": \"std\",\n      \"properties\": {\n        \"dtype\": \"number\",\n        \"std\": 0.004327061138560612,\n        \"min\": 0.0,\n        \"max\": 0.024414662950640063,\n        \"num_unique_values\": 62,\n        \"samples\": [\n          0.001737522600002025,\n          0.01141747454015243,\n          0.0\n        ],\n        \"semantic_type\": \"\",\n        \"description\": \"\"\n      }\n    }\n  ]\n}",
       "type": "dataframe",
       "variable_name": "df"
      },
      "text/html": [
       "\n",
       "  <div id=\"df-dde10d07-cca3-4da9-b783-39c543511842\" class=\"colab-df-container\">\n",
       "    <div>\n",
       "<style scoped>\n",
       "    .dataframe tbody tr th:only-of-type {\n",
       "        vertical-align: middle;\n",
       "    }\n",
       "\n",
       "    .dataframe tbody tr th {\n",
       "        vertical-align: top;\n",
       "    }\n",
       "\n",
       "    .dataframe thead th {\n",
       "        text-align: right;\n",
       "    }\n",
       "</style>\n",
       "<table border=\"1\" class=\"dataframe\">\n",
       "  <thead>\n",
       "    <tr style=\"text-align: right;\">\n",
       "      <th></th>\n",
       "      <th>feature</th>\n",
       "      <th>importance</th>\n",
       "      <th>std</th>\n",
       "    </tr>\n",
       "  </thead>\n",
       "  <tbody>\n",
       "    <tr>\n",
       "      <th>20</th>\n",
       "      <td>State_NJ_SC_NY_MD</td>\n",
       "      <td>0.000000</td>\n",
       "      <td>0.000000</td>\n",
       "    </tr>\n",
       "    <tr>\n",
       "      <th>23</th>\n",
       "      <td>State_UT_WY_ND_SD</td>\n",
       "      <td>0.000000</td>\n",
       "      <td>0.000000</td>\n",
       "    </tr>\n",
       "    <tr>\n",
       "      <th>22</th>\n",
       "      <td>State_CO_IN_MA</td>\n",
       "      <td>0.000000</td>\n",
       "      <td>0.000000</td>\n",
       "    </tr>\n",
       "    <tr>\n",
       "      <th>21</th>\n",
       "      <td>State_TX_CA_DE_KY_VA</td>\n",
       "      <td>0.000000</td>\n",
       "      <td>0.000000</td>\n",
       "    </tr>\n",
       "    <tr>\n",
       "      <th>19</th>\n",
       "      <td>State_IL_MI</td>\n",
       "      <td>0.000000</td>\n",
       "      <td>0.000000</td>\n",
       "    </tr>\n",
       "    <tr>\n",
       "      <th>18</th>\n",
       "      <td>State_GA_NV</td>\n",
       "      <td>0.000000</td>\n",
       "      <td>0.000000</td>\n",
       "    </tr>\n",
       "    <tr>\n",
       "      <th>6</th>\n",
       "      <td>BalanceGross</td>\n",
       "      <td>0.000006</td>\n",
       "      <td>0.000008</td>\n",
       "    </tr>\n",
       "    <tr>\n",
       "      <th>17</th>\n",
       "      <td>NewExist_Other</td>\n",
       "      <td>0.000139</td>\n",
       "      <td>0.000044</td>\n",
       "    </tr>\n",
       "    <tr>\n",
       "      <th>31</th>\n",
       "      <td>State_AK</td>\n",
       "      <td>0.000496</td>\n",
       "      <td>0.000091</td>\n",
       "    </tr>\n",
       "    <tr>\n",
       "      <th>36</th>\n",
       "      <td>State_DC</td>\n",
       "      <td>0.000500</td>\n",
       "      <td>0.000081</td>\n",
       "    </tr>\n",
       "    <tr>\n",
       "      <th>61</th>\n",
       "      <td>State_WV</td>\n",
       "      <td>0.000743</td>\n",
       "      <td>0.000105</td>\n",
       "    </tr>\n",
       "    <tr>\n",
       "      <th>13</th>\n",
       "      <td>LowDoc_Other</td>\n",
       "      <td>0.000873</td>\n",
       "      <td>0.000381</td>\n",
       "    </tr>\n",
       "    <tr>\n",
       "      <th>58</th>\n",
       "      <td>State_VT</td>\n",
       "      <td>0.001038</td>\n",
       "      <td>0.000134</td>\n",
       "    </tr>\n",
       "    <tr>\n",
       "      <th>51</th>\n",
       "      <td>State_NM</td>\n",
       "      <td>0.001108</td>\n",
       "      <td>0.000135</td>\n",
       "    </tr>\n",
       "    <tr>\n",
       "      <th>38</th>\n",
       "      <td>State_HI</td>\n",
       "      <td>0.001126</td>\n",
       "      <td>0.000146</td>\n",
       "    </tr>\n",
       "    <tr>\n",
       "      <th>49</th>\n",
       "      <td>State_NE</td>\n",
       "      <td>0.001259</td>\n",
       "      <td>0.000148</td>\n",
       "    </tr>\n",
       "    <tr>\n",
       "      <th>33</th>\n",
       "      <td>State_AR</td>\n",
       "      <td>0.001329</td>\n",
       "      <td>0.000174</td>\n",
       "    </tr>\n",
       "    <tr>\n",
       "      <th>43</th>\n",
       "      <td>State_ME</td>\n",
       "      <td>0.001411</td>\n",
       "      <td>0.000179</td>\n",
       "    </tr>\n",
       "    <tr>\n",
       "      <th>56</th>\n",
       "      <td>State_RI</td>\n",
       "      <td>0.001417</td>\n",
       "      <td>0.000187</td>\n",
       "    </tr>\n",
       "    <tr>\n",
       "      <th>40</th>\n",
       "      <td>State_ID</td>\n",
       "      <td>0.001437</td>\n",
       "      <td>0.000169</td>\n",
       "    </tr>\n",
       "    <tr>\n",
       "      <th>46</th>\n",
       "      <td>State_MS</td>\n",
       "      <td>0.001489</td>\n",
       "      <td>0.000175</td>\n",
       "    </tr>\n",
       "    <tr>\n",
       "      <th>32</th>\n",
       "      <td>State_AL</td>\n",
       "      <td>0.001541</td>\n",
       "      <td>0.000185</td>\n",
       "    </tr>\n",
       "    <tr>\n",
       "      <th>47</th>\n",
       "      <td>State_MT</td>\n",
       "      <td>0.001615</td>\n",
       "      <td>0.000253</td>\n",
       "    </tr>\n",
       "    <tr>\n",
       "      <th>50</th>\n",
       "      <td>State_NH</td>\n",
       "      <td>0.001696</td>\n",
       "      <td>0.000245</td>\n",
       "    </tr>\n",
       "    <tr>\n",
       "      <th>54</th>\n",
       "      <td>State_OR</td>\n",
       "      <td>0.001709</td>\n",
       "      <td>0.000199</td>\n",
       "    </tr>\n",
       "    <tr>\n",
       "      <th>42</th>\n",
       "      <td>State_LA</td>\n",
       "      <td>0.001729</td>\n",
       "      <td>0.000186</td>\n",
       "    </tr>\n",
       "    <tr>\n",
       "      <th>39</th>\n",
       "      <td>State_IA</td>\n",
       "      <td>0.001775</td>\n",
       "      <td>0.000186</td>\n",
       "    </tr>\n",
       "    <tr>\n",
       "      <th>53</th>\n",
       "      <td>State_OK</td>\n",
       "      <td>0.001841</td>\n",
       "      <td>0.000166</td>\n",
       "    </tr>\n",
       "    <tr>\n",
       "      <th>41</th>\n",
       "      <td>State_KS</td>\n",
       "      <td>0.001885</td>\n",
       "      <td>0.000191</td>\n",
       "    </tr>\n",
       "    <tr>\n",
       "      <th>57</th>\n",
       "      <td>State_TN</td>\n",
       "      <td>0.001892</td>\n",
       "      <td>0.000212</td>\n",
       "    </tr>\n",
       "    <tr>\n",
       "      <th>63</th>\n",
       "      <td>IndustryCode_Real_Estate</td>\n",
       "      <td>0.001898</td>\n",
       "      <td>0.000267</td>\n",
       "    </tr>\n",
       "    <tr>\n",
       "      <th>35</th>\n",
       "      <td>State_CT</td>\n",
       "      <td>0.002149</td>\n",
       "      <td>0.000271</td>\n",
       "    </tr>\n",
       "    <tr>\n",
       "      <th>34</th>\n",
       "      <td>State_AZ</td>\n",
       "      <td>0.002433</td>\n",
       "      <td>0.000265</td>\n",
       "    </tr>\n",
       "    <tr>\n",
       "      <th>48</th>\n",
       "      <td>State_NC</td>\n",
       "      <td>0.002524</td>\n",
       "      <td>0.000259</td>\n",
       "    </tr>\n",
       "    <tr>\n",
       "      <th>14</th>\n",
       "      <td>LowDoc_Y</td>\n",
       "      <td>0.002550</td>\n",
       "      <td>0.002760</td>\n",
       "    </tr>\n",
       "    <tr>\n",
       "      <th>12</th>\n",
       "      <td>LowDoc_N</td>\n",
       "      <td>0.002675</td>\n",
       "      <td>0.001732</td>\n",
       "    </tr>\n",
       "    <tr>\n",
       "      <th>59</th>\n",
       "      <td>State_WA</td>\n",
       "      <td>0.002690</td>\n",
       "      <td>0.000270</td>\n",
       "    </tr>\n",
       "    <tr>\n",
       "      <th>60</th>\n",
       "      <td>State_WI</td>\n",
       "      <td>0.002858</td>\n",
       "      <td>0.000327</td>\n",
       "    </tr>\n",
       "    <tr>\n",
       "      <th>45</th>\n",
       "      <td>State_MO</td>\n",
       "      <td>0.003016</td>\n",
       "      <td>0.000292</td>\n",
       "    </tr>\n",
       "    <tr>\n",
       "      <th>44</th>\n",
       "      <td>State_MN</td>\n",
       "      <td>0.003017</td>\n",
       "      <td>0.000344</td>\n",
       "    </tr>\n",
       "    <tr>\n",
       "      <th>24</th>\n",
       "      <td>Industry_Finan_Trans</td>\n",
       "      <td>0.003218</td>\n",
       "      <td>0.000429</td>\n",
       "    </tr>\n",
       "    <tr>\n",
       "      <th>25</th>\n",
       "      <td>Industry_Edu_Info_Admin</td>\n",
       "      <td>0.003841</td>\n",
       "      <td>0.000453</td>\n",
       "    </tr>\n",
       "    <tr>\n",
       "      <th>66</th>\n",
       "      <td>UrbanRural_2</td>\n",
       "      <td>0.004104</td>\n",
       "      <td>0.001708</td>\n",
       "    </tr>\n",
       "    <tr>\n",
       "      <th>29</th>\n",
       "      <td>Industry_Util_Manu_Pub</td>\n",
       "      <td>0.004134</td>\n",
       "      <td>0.000521</td>\n",
       "    </tr>\n",
       "    <tr>\n",
       "      <th>30</th>\n",
       "      <td>Industry_Health_Mgmt_Mining_Agri</td>\n",
       "      <td>0.004190</td>\n",
       "      <td>0.000630</td>\n",
       "    </tr>\n",
       "    <tr>\n",
       "      <th>52</th>\n",
       "      <td>State_OH</td>\n",
       "      <td>0.004199</td>\n",
       "      <td>0.000476</td>\n",
       "    </tr>\n",
       "    <tr>\n",
       "      <th>8</th>\n",
       "      <td>Franchise_Dummy</td>\n",
       "      <td>0.004533</td>\n",
       "      <td>0.000538</td>\n",
       "    </tr>\n",
       "    <tr>\n",
       "      <th>55</th>\n",
       "      <td>State_PA</td>\n",
       "      <td>0.004705</td>\n",
       "      <td>0.000591</td>\n",
       "    </tr>\n",
       "    <tr>\n",
       "      <th>62</th>\n",
       "      <td>IndustryCode_Other</td>\n",
       "      <td>0.004942</td>\n",
       "      <td>0.004047</td>\n",
       "    </tr>\n",
       "    <tr>\n",
       "      <th>27</th>\n",
       "      <td>Industry_Food_Arts</td>\n",
       "      <td>0.005063</td>\n",
       "      <td>0.000792</td>\n",
       "    </tr>\n",
       "    <tr>\n",
       "      <th>15</th>\n",
       "      <td>NewExist_Existing</td>\n",
       "      <td>0.005143</td>\n",
       "      <td>0.001291</td>\n",
       "    </tr>\n",
       "    <tr>\n",
       "      <th>16</th>\n",
       "      <td>NewExist_New</td>\n",
       "      <td>0.005358</td>\n",
       "      <td>0.001293</td>\n",
       "    </tr>\n",
       "    <tr>\n",
       "      <th>37</th>\n",
       "      <td>State_FL</td>\n",
       "      <td>0.005982</td>\n",
       "      <td>0.000917</td>\n",
       "    </tr>\n",
       "    <tr>\n",
       "      <th>28</th>\n",
       "      <td>Industry_Other_Whole_Prof</td>\n",
       "      <td>0.006273</td>\n",
       "      <td>0.000887</td>\n",
       "    </tr>\n",
       "    <tr>\n",
       "      <th>26</th>\n",
       "      <td>Industry_Const_Retail</td>\n",
       "      <td>0.006467</td>\n",
       "      <td>0.001005</td>\n",
       "    </tr>\n",
       "    <tr>\n",
       "      <th>10</th>\n",
       "      <td>RevLineCr_Other</td>\n",
       "      <td>0.006498</td>\n",
       "      <td>0.001738</td>\n",
       "    </tr>\n",
       "    <tr>\n",
       "      <th>9</th>\n",
       "      <td>RevLineCr_N</td>\n",
       "      <td>0.006620</td>\n",
       "      <td>0.002149</td>\n",
       "    </tr>\n",
       "    <tr>\n",
       "      <th>11</th>\n",
       "      <td>RevLineCr_Y</td>\n",
       "      <td>0.007687</td>\n",
       "      <td>0.002567</td>\n",
       "    </tr>\n",
       "    <tr>\n",
       "      <th>64</th>\n",
       "      <td>UrbanRural_0</td>\n",
       "      <td>0.010654</td>\n",
       "      <td>0.012297</td>\n",
       "    </tr>\n",
       "    <tr>\n",
       "      <th>65</th>\n",
       "      <td>UrbanRural_1</td>\n",
       "      <td>0.011114</td>\n",
       "      <td>0.009610</td>\n",
       "    </tr>\n",
       "    <tr>\n",
       "      <th>3</th>\n",
       "      <td>CreateJob</td>\n",
       "      <td>0.024258</td>\n",
       "      <td>0.002543</td>\n",
       "    </tr>\n",
       "    <tr>\n",
       "      <th>4</th>\n",
       "      <td>RetainedJob</td>\n",
       "      <td>0.037980</td>\n",
       "      <td>0.011417</td>\n",
       "    </tr>\n",
       "    <tr>\n",
       "      <th>2</th>\n",
       "      <td>NoEmp</td>\n",
       "      <td>0.049137</td>\n",
       "      <td>0.003356</td>\n",
       "    </tr>\n",
       "    <tr>\n",
       "      <th>7</th>\n",
       "      <td>GrAppv</td>\n",
       "      <td>0.078085</td>\n",
       "      <td>0.010435</td>\n",
       "    </tr>\n",
       "    <tr>\n",
       "      <th>5</th>\n",
       "      <td>DisbursementGross</td>\n",
       "      <td>0.083154</td>\n",
       "      <td>0.007486</td>\n",
       "    </tr>\n",
       "    <tr>\n",
       "      <th>0</th>\n",
       "      <td>ApprovalFY</td>\n",
       "      <td>0.117684</td>\n",
       "      <td>0.016917</td>\n",
       "    </tr>\n",
       "    <tr>\n",
       "      <th>1</th>\n",
       "      <td>Term</td>\n",
       "      <td>0.439116</td>\n",
       "      <td>0.024415</td>\n",
       "    </tr>\n",
       "  </tbody>\n",
       "</table>\n",
       "</div>\n",
       "    <div class=\"colab-df-buttons\">\n",
       "\n",
       "  <div class=\"colab-df-container\">\n",
       "    <button class=\"colab-df-convert\" onclick=\"convertToInteractive('df-dde10d07-cca3-4da9-b783-39c543511842')\"\n",
       "            title=\"Convert this dataframe to an interactive table.\"\n",
       "            style=\"display:none;\">\n",
       "\n",
       "  <svg xmlns=\"http://www.w3.org/2000/svg\" height=\"24px\" viewBox=\"0 -960 960 960\">\n",
       "    <path d=\"M120-120v-720h720v720H120Zm60-500h600v-160H180v160Zm220 220h160v-160H400v160Zm0 220h160v-160H400v160ZM180-400h160v-160H180v160Zm440 0h160v-160H620v160ZM180-180h160v-160H180v160Zm440 0h160v-160H620v160Z\"/>\n",
       "  </svg>\n",
       "    </button>\n",
       "\n",
       "  <style>\n",
       "    .colab-df-container {\n",
       "      display:flex;\n",
       "      gap: 12px;\n",
       "    }\n",
       "\n",
       "    .colab-df-convert {\n",
       "      background-color: #E8F0FE;\n",
       "      border: none;\n",
       "      border-radius: 50%;\n",
       "      cursor: pointer;\n",
       "      display: none;\n",
       "      fill: #1967D2;\n",
       "      height: 32px;\n",
       "      padding: 0 0 0 0;\n",
       "      width: 32px;\n",
       "    }\n",
       "\n",
       "    .colab-df-convert:hover {\n",
       "      background-color: #E2EBFA;\n",
       "      box-shadow: 0px 1px 2px rgba(60, 64, 67, 0.3), 0px 1px 3px 1px rgba(60, 64, 67, 0.15);\n",
       "      fill: #174EA6;\n",
       "    }\n",
       "\n",
       "    .colab-df-buttons div {\n",
       "      margin-bottom: 4px;\n",
       "    }\n",
       "\n",
       "    [theme=dark] .colab-df-convert {\n",
       "      background-color: #3B4455;\n",
       "      fill: #D2E3FC;\n",
       "    }\n",
       "\n",
       "    [theme=dark] .colab-df-convert:hover {\n",
       "      background-color: #434B5C;\n",
       "      box-shadow: 0px 1px 3px 1px rgba(0, 0, 0, 0.15);\n",
       "      filter: drop-shadow(0px 1px 2px rgba(0, 0, 0, 0.3));\n",
       "      fill: #FFFFFF;\n",
       "    }\n",
       "  </style>\n",
       "\n",
       "    <script>\n",
       "      const buttonEl =\n",
       "        document.querySelector('#df-dde10d07-cca3-4da9-b783-39c543511842 button.colab-df-convert');\n",
       "      buttonEl.style.display =\n",
       "        google.colab.kernel.accessAllowed ? 'block' : 'none';\n",
       "\n",
       "      async function convertToInteractive(key) {\n",
       "        const element = document.querySelector('#df-dde10d07-cca3-4da9-b783-39c543511842');\n",
       "        const dataTable =\n",
       "          await google.colab.kernel.invokeFunction('convertToInteractive',\n",
       "                                                    [key], {});\n",
       "        if (!dataTable) return;\n",
       "\n",
       "        const docLinkHtml = 'Like what you see? Visit the ' +\n",
       "          '<a target=\"_blank\" href=https://colab.research.google.com/notebooks/data_table.ipynb>data table notebook</a>'\n",
       "          + ' to learn more about interactive tables.';\n",
       "        element.innerHTML = '';\n",
       "        dataTable['output_type'] = 'display_data';\n",
       "        await google.colab.output.renderOutput(dataTable, element);\n",
       "        const docLink = document.createElement('div');\n",
       "        docLink.innerHTML = docLinkHtml;\n",
       "        element.appendChild(docLink);\n",
       "      }\n",
       "    </script>\n",
       "  </div>\n",
       "\n",
       "\n",
       "<div id=\"df-b13f9686-e8d9-46e2-8442-847406190457\">\n",
       "  <button class=\"colab-df-quickchart\" onclick=\"quickchart('df-b13f9686-e8d9-46e2-8442-847406190457')\"\n",
       "            title=\"Suggest charts\"\n",
       "            style=\"display:none;\">\n",
       "\n",
       "<svg xmlns=\"http://www.w3.org/2000/svg\" height=\"24px\"viewBox=\"0 0 24 24\"\n",
       "     width=\"24px\">\n",
       "    <g>\n",
       "        <path d=\"M19 3H5c-1.1 0-2 .9-2 2v14c0 1.1.9 2 2 2h14c1.1 0 2-.9 2-2V5c0-1.1-.9-2-2-2zM9 17H7v-7h2v7zm4 0h-2V7h2v10zm4 0h-2v-4h2v4z\"/>\n",
       "    </g>\n",
       "</svg>\n",
       "  </button>\n",
       "\n",
       "<style>\n",
       "  .colab-df-quickchart {\n",
       "      --bg-color: #E8F0FE;\n",
       "      --fill-color: #1967D2;\n",
       "      --hover-bg-color: #E2EBFA;\n",
       "      --hover-fill-color: #174EA6;\n",
       "      --disabled-fill-color: #AAA;\n",
       "      --disabled-bg-color: #DDD;\n",
       "  }\n",
       "\n",
       "  [theme=dark] .colab-df-quickchart {\n",
       "      --bg-color: #3B4455;\n",
       "      --fill-color: #D2E3FC;\n",
       "      --hover-bg-color: #434B5C;\n",
       "      --hover-fill-color: #FFFFFF;\n",
       "      --disabled-bg-color: #3B4455;\n",
       "      --disabled-fill-color: #666;\n",
       "  }\n",
       "\n",
       "  .colab-df-quickchart {\n",
       "    background-color: var(--bg-color);\n",
       "    border: none;\n",
       "    border-radius: 50%;\n",
       "    cursor: pointer;\n",
       "    display: none;\n",
       "    fill: var(--fill-color);\n",
       "    height: 32px;\n",
       "    padding: 0;\n",
       "    width: 32px;\n",
       "  }\n",
       "\n",
       "  .colab-df-quickchart:hover {\n",
       "    background-color: var(--hover-bg-color);\n",
       "    box-shadow: 0 1px 2px rgba(60, 64, 67, 0.3), 0 1px 3px 1px rgba(60, 64, 67, 0.15);\n",
       "    fill: var(--button-hover-fill-color);\n",
       "  }\n",
       "\n",
       "  .colab-df-quickchart-complete:disabled,\n",
       "  .colab-df-quickchart-complete:disabled:hover {\n",
       "    background-color: var(--disabled-bg-color);\n",
       "    fill: var(--disabled-fill-color);\n",
       "    box-shadow: none;\n",
       "  }\n",
       "\n",
       "  .colab-df-spinner {\n",
       "    border: 2px solid var(--fill-color);\n",
       "    border-color: transparent;\n",
       "    border-bottom-color: var(--fill-color);\n",
       "    animation:\n",
       "      spin 1s steps(1) infinite;\n",
       "  }\n",
       "\n",
       "  @keyframes spin {\n",
       "    0% {\n",
       "      border-color: transparent;\n",
       "      border-bottom-color: var(--fill-color);\n",
       "      border-left-color: var(--fill-color);\n",
       "    }\n",
       "    20% {\n",
       "      border-color: transparent;\n",
       "      border-left-color: var(--fill-color);\n",
       "      border-top-color: var(--fill-color);\n",
       "    }\n",
       "    30% {\n",
       "      border-color: transparent;\n",
       "      border-left-color: var(--fill-color);\n",
       "      border-top-color: var(--fill-color);\n",
       "      border-right-color: var(--fill-color);\n",
       "    }\n",
       "    40% {\n",
       "      border-color: transparent;\n",
       "      border-right-color: var(--fill-color);\n",
       "      border-top-color: var(--fill-color);\n",
       "    }\n",
       "    60% {\n",
       "      border-color: transparent;\n",
       "      border-right-color: var(--fill-color);\n",
       "    }\n",
       "    80% {\n",
       "      border-color: transparent;\n",
       "      border-right-color: var(--fill-color);\n",
       "      border-bottom-color: var(--fill-color);\n",
       "    }\n",
       "    90% {\n",
       "      border-color: transparent;\n",
       "      border-bottom-color: var(--fill-color);\n",
       "    }\n",
       "  }\n",
       "</style>\n",
       "\n",
       "  <script>\n",
       "    async function quickchart(key) {\n",
       "      const quickchartButtonEl =\n",
       "        document.querySelector('#' + key + ' button');\n",
       "      quickchartButtonEl.disabled = true;  // To prevent multiple clicks.\n",
       "      quickchartButtonEl.classList.add('colab-df-spinner');\n",
       "      try {\n",
       "        const charts = await google.colab.kernel.invokeFunction(\n",
       "            'suggestCharts', [key], {});\n",
       "      } catch (error) {\n",
       "        console.error('Error during call to suggestCharts:', error);\n",
       "      }\n",
       "      quickchartButtonEl.classList.remove('colab-df-spinner');\n",
       "      quickchartButtonEl.classList.add('colab-df-quickchart-complete');\n",
       "    }\n",
       "    (() => {\n",
       "      let quickchartButtonEl =\n",
       "        document.querySelector('#df-b13f9686-e8d9-46e2-8442-847406190457 button');\n",
       "      quickchartButtonEl.style.display =\n",
       "        google.colab.kernel.accessAllowed ? 'block' : 'none';\n",
       "    })();\n",
       "  </script>\n",
       "</div>\n",
       "\n",
       "  <div id=\"id_26fb745e-f4a5-478a-b99c-96d835207f35\">\n",
       "    <style>\n",
       "      .colab-df-generate {\n",
       "        background-color: #E8F0FE;\n",
       "        border: none;\n",
       "        border-radius: 50%;\n",
       "        cursor: pointer;\n",
       "        display: none;\n",
       "        fill: #1967D2;\n",
       "        height: 32px;\n",
       "        padding: 0 0 0 0;\n",
       "        width: 32px;\n",
       "      }\n",
       "\n",
       "      .colab-df-generate:hover {\n",
       "        background-color: #E2EBFA;\n",
       "        box-shadow: 0px 1px 2px rgba(60, 64, 67, 0.3), 0px 1px 3px 1px rgba(60, 64, 67, 0.15);\n",
       "        fill: #174EA6;\n",
       "      }\n",
       "\n",
       "      [theme=dark] .colab-df-generate {\n",
       "        background-color: #3B4455;\n",
       "        fill: #D2E3FC;\n",
       "      }\n",
       "\n",
       "      [theme=dark] .colab-df-generate:hover {\n",
       "        background-color: #434B5C;\n",
       "        box-shadow: 0px 1px 3px 1px rgba(0, 0, 0, 0.15);\n",
       "        filter: drop-shadow(0px 1px 2px rgba(0, 0, 0, 0.3));\n",
       "        fill: #FFFFFF;\n",
       "      }\n",
       "    </style>\n",
       "    <button class=\"colab-df-generate\" onclick=\"generateWithVariable('df')\"\n",
       "            title=\"Generate code using this dataframe.\"\n",
       "            style=\"display:none;\">\n",
       "\n",
       "  <svg xmlns=\"http://www.w3.org/2000/svg\" height=\"24px\"viewBox=\"0 0 24 24\"\n",
       "       width=\"24px\">\n",
       "    <path d=\"M7,19H8.4L18.45,9,17,7.55,7,17.6ZM5,21V16.75L18.45,3.32a2,2,0,0,1,2.83,0l1.4,1.43a1.91,1.91,0,0,1,.58,1.4,1.91,1.91,0,0,1-.58,1.4L9.25,21ZM18.45,9,17,7.55Zm-12,3A5.31,5.31,0,0,0,4.9,8.1,5.31,5.31,0,0,0,1,6.5,5.31,5.31,0,0,0,4.9,4.9,5.31,5.31,0,0,0,6.5,1,5.31,5.31,0,0,0,8.1,4.9,5.31,5.31,0,0,0,12,6.5,5.46,5.46,0,0,0,6.5,12Z\"/>\n",
       "  </svg>\n",
       "    </button>\n",
       "    <script>\n",
       "      (() => {\n",
       "      const buttonEl =\n",
       "        document.querySelector('#id_26fb745e-f4a5-478a-b99c-96d835207f35 button.colab-df-generate');\n",
       "      buttonEl.style.display =\n",
       "        google.colab.kernel.accessAllowed ? 'block' : 'none';\n",
       "\n",
       "      buttonEl.onclick = () => {\n",
       "        google.colab.notebook.generateWithVariable('df');\n",
       "      }\n",
       "      })();\n",
       "    </script>\n",
       "  </div>\n",
       "\n",
       "    </div>\n",
       "  </div>\n"
      ],
      "text/plain": [
       "                             feature  importance       std\n",
       "20                 State_NJ_SC_NY_MD    0.000000  0.000000\n",
       "23                 State_UT_WY_ND_SD    0.000000  0.000000\n",
       "22                    State_CO_IN_MA    0.000000  0.000000\n",
       "21              State_TX_CA_DE_KY_VA    0.000000  0.000000\n",
       "19                       State_IL_MI    0.000000  0.000000\n",
       "18                       State_GA_NV    0.000000  0.000000\n",
       "6                       BalanceGross    0.000006  0.000008\n",
       "17                    NewExist_Other    0.000139  0.000044\n",
       "31                          State_AK    0.000496  0.000091\n",
       "36                          State_DC    0.000500  0.000081\n",
       "61                          State_WV    0.000743  0.000105\n",
       "13                      LowDoc_Other    0.000873  0.000381\n",
       "58                          State_VT    0.001038  0.000134\n",
       "51                          State_NM    0.001108  0.000135\n",
       "38                          State_HI    0.001126  0.000146\n",
       "49                          State_NE    0.001259  0.000148\n",
       "33                          State_AR    0.001329  0.000174\n",
       "43                          State_ME    0.001411  0.000179\n",
       "56                          State_RI    0.001417  0.000187\n",
       "40                          State_ID    0.001437  0.000169\n",
       "46                          State_MS    0.001489  0.000175\n",
       "32                          State_AL    0.001541  0.000185\n",
       "47                          State_MT    0.001615  0.000253\n",
       "50                          State_NH    0.001696  0.000245\n",
       "54                          State_OR    0.001709  0.000199\n",
       "42                          State_LA    0.001729  0.000186\n",
       "39                          State_IA    0.001775  0.000186\n",
       "53                          State_OK    0.001841  0.000166\n",
       "41                          State_KS    0.001885  0.000191\n",
       "57                          State_TN    0.001892  0.000212\n",
       "63          IndustryCode_Real_Estate    0.001898  0.000267\n",
       "35                          State_CT    0.002149  0.000271\n",
       "34                          State_AZ    0.002433  0.000265\n",
       "48                          State_NC    0.002524  0.000259\n",
       "14                          LowDoc_Y    0.002550  0.002760\n",
       "12                          LowDoc_N    0.002675  0.001732\n",
       "59                          State_WA    0.002690  0.000270\n",
       "60                          State_WI    0.002858  0.000327\n",
       "45                          State_MO    0.003016  0.000292\n",
       "44                          State_MN    0.003017  0.000344\n",
       "24              Industry_Finan_Trans    0.003218  0.000429\n",
       "25           Industry_Edu_Info_Admin    0.003841  0.000453\n",
       "66                      UrbanRural_2    0.004104  0.001708\n",
       "29            Industry_Util_Manu_Pub    0.004134  0.000521\n",
       "30  Industry_Health_Mgmt_Mining_Agri    0.004190  0.000630\n",
       "52                          State_OH    0.004199  0.000476\n",
       "8                    Franchise_Dummy    0.004533  0.000538\n",
       "55                          State_PA    0.004705  0.000591\n",
       "62                IndustryCode_Other    0.004942  0.004047\n",
       "27                Industry_Food_Arts    0.005063  0.000792\n",
       "15                 NewExist_Existing    0.005143  0.001291\n",
       "16                      NewExist_New    0.005358  0.001293\n",
       "37                          State_FL    0.005982  0.000917\n",
       "28         Industry_Other_Whole_Prof    0.006273  0.000887\n",
       "26             Industry_Const_Retail    0.006467  0.001005\n",
       "10                   RevLineCr_Other    0.006498  0.001738\n",
       "9                        RevLineCr_N    0.006620  0.002149\n",
       "11                       RevLineCr_Y    0.007687  0.002567\n",
       "64                      UrbanRural_0    0.010654  0.012297\n",
       "65                      UrbanRural_1    0.011114  0.009610\n",
       "3                          CreateJob    0.024258  0.002543\n",
       "4                        RetainedJob    0.037980  0.011417\n",
       "2                              NoEmp    0.049137  0.003356\n",
       "7                             GrAppv    0.078085  0.010435\n",
       "5                  DisbursementGross    0.083154  0.007486\n",
       "0                         ApprovalFY    0.117684  0.016917\n",
       "1                               Term    0.439116  0.024415"
      ]
     },
     "metadata": {},
     "output_type": "display_data"
    }
   ],
   "source": [
    "df\n",
    "with pd.option_context('display.max_rows', None, 'display.max_columns', None):\n",
    "    display(df)"
   ]
  },
  {
   "cell_type": "code",
   "execution_count": null,
   "metadata": {
    "colab": {
     "base_uri": "https://localhost:8080/"
    },
    "id": "C0XsvXIaHpst",
    "outputId": "00ebc679-bbcf-4426-ec48-1a919432e91a"
   },
   "outputs": [
    {
     "name": "stdout",
     "output_type": "stream",
     "text": [
      "Cumulative Importance of Lowest 30 Features: 0.030053006342193433\n"
     ]
    }
   ],
   "source": [
    "df = df.sort_values('importance')\n",
    "# Get the lowest 30 features\n",
    "lowest_30_features = df.head(30)['feature']\n",
    "\n",
    "# Calculate cumulative importance of the lowest 30 features\n",
    "cumulative_importance = df.head(30)['importance'].sum()\n",
    "\n",
    "# Drop the lowest 30 features from train_X, valid_X, and df\n",
    "train_X.drop(columns=lowest_30_features, inplace=True)\n",
    "valid_X.drop(columns=lowest_30_features, inplace=True)\n",
    "df = df[~df['feature'].isin(lowest_30_features)]  # Drop from df as well\n",
    "\n",
    "# Print the cumulative importance\n",
    "print(f\"Cumulative Importance of Lowest 30 Features: {cumulative_importance}\")"
   ]
  },
  {
   "cell_type": "code",
   "execution_count": null,
   "metadata": {
    "colab": {
     "base_uri": "https://localhost:8080/",
     "height": 504
    },
    "id": "duKP0Qr9GayM",
    "outputId": "d98c6311-07f1-4a96-a220-c75a895f876f"
   },
   "outputs": [
    {
     "data": {
      "text/plain": [
       "<Figure size 1200x800 with 0 Axes>"
      ]
     },
     "metadata": {},
     "output_type": "display_data"
    },
    {
     "data": {
      "image/png": "[encoded data removed]",
      "text/plain": [
       "<Figure size 640x480 with 1 Axes>"
      ]
     },
     "metadata": {},
     "output_type": "display_data"
    }
   ],
   "source": [
    "plt.figure(figsize=(12, 8))\n",
    "ax = df.plot(kind='barh', xerr='std', x='feature', legend=False)\n",
    "ax.set_xlabel('Feature Importance', fontsize=12)\n",
    "ax.set_ylabel('Features', fontsize=12)\n",
    "ax.tick_params(axis='y', labelsize=10)\n",
    "plt.title('Feature Importance in Random Forest Model', fontsize=14)\n",
    "plt.tight_layout()\n",
    "plt.show()"
   ]
  },
  {
   "cell_type": "code",
   "execution_count": null,
   "metadata": {
    "colab": {
     "base_uri": "https://localhost:8080/",
     "height": 1000
    },
    "id": "BBbygvtTLqP4",
    "outputId": "17498d58-5cfe-4b16-b3b0-e395e7a0c66b"
   },
   "outputs": [
    {
     "data": {
      "text/html": [
       "<div>\n",
       "<style scoped>\n",
       "    .dataframe tbody tr th:only-of-type {\n",
       "        vertical-align: middle;\n",
       "    }\n",
       "\n",
       "    .dataframe tbody tr th {\n",
       "        vertical-align: top;\n",
       "    }\n",
       "\n",
       "    .dataframe thead th {\n",
       "        text-align: right;\n",
       "    }\n",
       "</style>\n",
       "<table border=\"1\" class=\"dataframe\">\n",
       "  <thead>\n",
       "    <tr style=\"text-align: right;\">\n",
       "      <th></th>\n",
       "      <th>feature</th>\n",
       "    </tr>\n",
       "  </thead>\n",
       "  <tbody>\n",
       "    <tr>\n",
       "      <th>20</th>\n",
       "      <td>State_NJ_SC_NY_MD</td>\n",
       "    </tr>\n",
       "    <tr>\n",
       "      <th>23</th>\n",
       "      <td>State_UT_WY_ND_SD</td>\n",
       "    </tr>\n",
       "    <tr>\n",
       "      <th>22</th>\n",
       "      <td>State_CO_IN_MA</td>\n",
       "    </tr>\n",
       "    <tr>\n",
       "      <th>21</th>\n",
       "      <td>State_TX_CA_DE_KY_VA</td>\n",
       "    </tr>\n",
       "    <tr>\n",
       "      <th>19</th>\n",
       "      <td>State_IL_MI</td>\n",
       "    </tr>\n",
       "    <tr>\n",
       "      <th>18</th>\n",
       "      <td>State_GA_NV</td>\n",
       "    </tr>\n",
       "    <tr>\n",
       "      <th>6</th>\n",
       "      <td>BalanceGross</td>\n",
       "    </tr>\n",
       "    <tr>\n",
       "      <th>17</th>\n",
       "      <td>NewExist_Other</td>\n",
       "    </tr>\n",
       "    <tr>\n",
       "      <th>31</th>\n",
       "      <td>State_AK</td>\n",
       "    </tr>\n",
       "    <tr>\n",
       "      <th>36</th>\n",
       "      <td>State_DC</td>\n",
       "    </tr>\n",
       "    <tr>\n",
       "      <th>61</th>\n",
       "      <td>State_WV</td>\n",
       "    </tr>\n",
       "    <tr>\n",
       "      <th>13</th>\n",
       "      <td>LowDoc_Other</td>\n",
       "    </tr>\n",
       "    <tr>\n",
       "      <th>58</th>\n",
       "      <td>State_VT</td>\n",
       "    </tr>\n",
       "    <tr>\n",
       "      <th>51</th>\n",
       "      <td>State_NM</td>\n",
       "    </tr>\n",
       "    <tr>\n",
       "      <th>38</th>\n",
       "      <td>State_HI</td>\n",
       "    </tr>\n",
       "    <tr>\n",
       "      <th>49</th>\n",
       "      <td>State_NE</td>\n",
       "    </tr>\n",
       "    <tr>\n",
       "      <th>33</th>\n",
       "      <td>State_AR</td>\n",
       "    </tr>\n",
       "    <tr>\n",
       "      <th>43</th>\n",
       "      <td>State_ME</td>\n",
       "    </tr>\n",
       "    <tr>\n",
       "      <th>56</th>\n",
       "      <td>State_RI</td>\n",
       "    </tr>\n",
       "    <tr>\n",
       "      <th>40</th>\n",
       "      <td>State_ID</td>\n",
       "    </tr>\n",
       "    <tr>\n",
       "      <th>46</th>\n",
       "      <td>State_MS</td>\n",
       "    </tr>\n",
       "    <tr>\n",
       "      <th>32</th>\n",
       "      <td>State_AL</td>\n",
       "    </tr>\n",
       "    <tr>\n",
       "      <th>47</th>\n",
       "      <td>State_MT</td>\n",
       "    </tr>\n",
       "    <tr>\n",
       "      <th>50</th>\n",
       "      <td>State_NH</td>\n",
       "    </tr>\n",
       "    <tr>\n",
       "      <th>54</th>\n",
       "      <td>State_OR</td>\n",
       "    </tr>\n",
       "    <tr>\n",
       "      <th>42</th>\n",
       "      <td>State_LA</td>\n",
       "    </tr>\n",
       "    <tr>\n",
       "      <th>39</th>\n",
       "      <td>State_IA</td>\n",
       "    </tr>\n",
       "    <tr>\n",
       "      <th>53</th>\n",
       "      <td>State_OK</td>\n",
       "    </tr>\n",
       "    <tr>\n",
       "      <th>41</th>\n",
       "      <td>State_KS</td>\n",
       "    </tr>\n",
       "    <tr>\n",
       "      <th>57</th>\n",
       "      <td>State_TN</td>\n",
       "    </tr>\n",
       "  </tbody>\n",
       "</table>\n",
       "</div><br><label><b>dtype:</b> object</label>"
      ],
      "text/plain": [
       "20       State_NJ_SC_NY_MD\n",
       "23       State_UT_WY_ND_SD\n",
       "22          State_CO_IN_MA\n",
       "21    State_TX_CA_DE_KY_VA\n",
       "19             State_IL_MI\n",
       "18             State_GA_NV\n",
       "6             BalanceGross\n",
       "17          NewExist_Other\n",
       "31                State_AK\n",
       "36                State_DC\n",
       "61                State_WV\n",
       "13            LowDoc_Other\n",
       "58                State_VT\n",
       "51                State_NM\n",
       "38                State_HI\n",
       "49                State_NE\n",
       "33                State_AR\n",
       "43                State_ME\n",
       "56                State_RI\n",
       "40                State_ID\n",
       "46                State_MS\n",
       "32                State_AL\n",
       "47                State_MT\n",
       "50                State_NH\n",
       "54                State_OR\n",
       "42                State_LA\n",
       "39                State_IA\n",
       "53                State_OK\n",
       "41                State_KS\n",
       "57                State_TN\n",
       "Name: feature, dtype: object"
      ]
     },
     "execution_count": 16,
     "metadata": {},
     "output_type": "execute_result"
    }
   ],
   "source": [
    "lowest_30_features"
   ]
  },
  {
   "cell_type": "markdown",
   "metadata": {
    "id": "Hf4H6IA8ZXew"
   },
   "source": [
    "**Pruning:**"
   ]
  },
  {
   "cell_type": "markdown",
   "metadata": {
    "id": "n4fId-SBZcmy"
   },
   "source": [
    "Our best model was bagging with the critertion Entropy. To potentially further improve the model we can prune it. Pruning is good for preventing overfitting and building a more reliable prediction model. This is accomplish through limiting the \"max_depth\". This helps balance complexity and accuracy.The evaluation of predictor importance above is relevant to the Random Forest and was completed for reducing dimensionality in future models if neccessary. This pruning reduces the dimnesionality of our best preforming model for f1 Score."
   ]
  },
  {
   "cell_type": "code",
   "execution_count": null,
   "metadata": {
    "colab": {
     "base_uri": "https://localhost:8080/"
    },
    "id": "InT8ThXBZ1Gz",
    "outputId": "68a6f0d9-0b30-4b9b-8052-e9ec2b8f2e64"
   },
   "outputs": [
    {
     "name": "stderr",
     "output_type": "stream",
     "text": [
      "/usr/local/lib/python3.10/dist-packages/sklearn/ensemble/_bagging.py:888: DataConversionWarning: A column-vector y was passed when a 1d array was expected. Please change the shape of y to (n_samples, ), for example using ravel().\n",
      "  y = column_or_1d(y, warn=True)\n",
      "/usr/local/lib/python3.10/dist-packages/sklearn/ensemble/_bagging.py:888: DataConversionWarning: A column-vector y was passed when a 1d array was expected. Please change the shape of y to (n_samples, ), for example using ravel().\n",
      "  y = column_or_1d(y, warn=True)\n",
      "/usr/local/lib/python3.10/dist-packages/sklearn/ensemble/_bagging.py:888: DataConversionWarning: A column-vector y was passed when a 1d array was expected. Please change the shape of y to (n_samples, ), for example using ravel().\n",
      "  y = column_or_1d(y, warn=True)\n",
      "/usr/local/lib/python3.10/dist-packages/sklearn/ensemble/_bagging.py:888: DataConversionWarning: A column-vector y was passed when a 1d array was expected. Please change the shape of y to (n_samples, ), for example using ravel().\n",
      "  y = column_or_1d(y, warn=True)\n",
      "/usr/local/lib/python3.10/dist-packages/sklearn/ensemble/_bagging.py:888: DataConversionWarning: A column-vector y was passed when a 1d array was expected. Please change the shape of y to (n_samples, ), for example using ravel().\n",
      "  y = column_or_1d(y, warn=True)\n"
     ]
    },
    {
     "name": "stdout",
     "output_type": "stream",
     "text": [
      "Cross-validation scores: [0.82059663 0.8252706  0.81980614 0.81701583 0.82476101]\n",
      "Average F1 score: 0.82149004090546\n"
     ]
    },
    {
     "name": "stderr",
     "output_type": "stream",
     "text": [
      "/usr/local/lib/python3.10/dist-packages/sklearn/ensemble/_bagging.py:888: DataConversionWarning: A column-vector y was passed when a 1d array was expected. Please change the shape of y to (n_samples, ), for example using ravel().\n",
      "  y = column_or_1d(y, warn=True)\n"
     ]
    },
    {
     "name": "stdout",
     "output_type": "stream",
     "text": [
      "Confusion Matrix (Accuracy 0.9403)\n",
      "\n",
      "       Prediction\n",
      "Actual      0      1\n",
      "     0 288748   7954\n",
      "     1  13521  49443\n"
     ]
    }
   ],
   "source": [
    "# Create a Bagging Classifier with pruned Decision Trees\n",
    "bagging_pruned = BaggingClassifier(DecisionTreeClassifier(criterion=\"entropy\", max_depth=10),\n",
    "                            n_estimators=100, random_state=1)\n",
    "\n",
    "# Perform cross-validation using F1 score\n",
    "scores = cross_val_score(bagging_pruned, train_X, train_y, cv=5, scoring='f1')\n",
    "\n",
    "# Print the cross-validation scores\n",
    "print(\"Cross-validation scores:\", scores)\n",
    "print(\"Average F1 score:\", scores.mean())\n",
    "\n",
    "# Train the model on the full training data for final predictions\n",
    "bagging_pruned.fit(train_X, train_y)\n",
    "\n",
    "# Make predictions on the validation set\n",
    "y_pred = bagging_pruned.predict(valid_X)\n",
    "\n",
    "# Print a classification summary for more detailed evaluation\n",
    "classificationSummary(valid_y, y_pred, class_names=classes)"
   ]
  },
  {
   "cell_type": "markdown",
   "metadata": {
    "id": "OpZKXqgSgyYK"
   },
   "source": [
    "After pruning the model with various values for max_depth, the recall value fell, even with cross validation. It is possible with large amounts of experimentation that someone could prune well, but with limited computational ability, it is too labor intensive. For this reason, our original bagging model is still our first choice for our accuracy and F1score. We will use this model to determine the ideal cutoff value."
   ]
  },
  {
   "cell_type": "markdown",
   "metadata": {
    "id": "pOLXOf3ITAUL"
   },
   "source": [
    "**Determining Cut Off Value:**"
   ]
  },
  {
   "cell_type": "markdown",
   "metadata": {
    "id": "HHYP_KRjWIqh"
   },
   "source": [
    "Now that we have determined our best decision tree model (bagging w/ entropy), we must calculate the best cutoff probability for predicting loan defaults. This inhernetly minimizes potential losses. We will calculate the probabilty of deafault (PD). We will balance the trade-off of apporving loans with high PD and rejecting good loans."
   ]
  },
  {
   "cell_type": "code",
   "execution_count": null,
   "metadata": {
    "colab": {
     "base_uri": "https://localhost:8080/"
    },
    "id": "CCJGwHdvSlpT",
    "outputId": "cbd14dd4-2cee-4b60-bbdb-e3e9fa456a3e"
   },
   "outputs": [
    {
     "name": "stdout",
     "output_type": "stream",
     "text": [
      "Optimal Cut-off (F1-score): 0.45\n",
      "Best F1 Score: 0.847598120097905\n"
     ]
    }
   ],
   "source": [
    "best_cutoff = 0\n",
    "best_f1_score = 0\n",
    "\n",
    "for cutoff in np.arange(0.01, 1, 0.01):\n",
    "    # Predictions using bagging\n",
    "    predicted_probs = bagging.predict_proba(valid_X)[:, 1]\n",
    "    predictions = (predicted_probs >= cutoff).astype(int)\n",
    "\n",
    "    f1 = f1_score(valid_y['Default_CHGOFF'], predictions)\n",
    "\n",
    "    if f1 > best_f1_score:\n",
    "        best_f1_score = f1\n",
    "        best_cutoff = cutoff\n",
    "\n",
    "print(f\"Optimal Cut-off (F1-score): {best_cutoff}\")\n",
    "print(f\"Best F1 Score: {best_f1_score}\")"
   ]
  },
  {
   "cell_type": "markdown",
   "metadata": {
    "id": "izR9FDPrLzj1"
   },
   "source": [
    "###Conclusions"
   ]
  },
  {
   "cell_type": "markdown",
   "metadata": {
    "id": "fgOUj8o2L4kR"
   },
   "source": [
    "From The random forest classifier, we were able to collect information regarding feature importance. We will utilize this information when building future models with high computational needs. Reducing this dimensionality will aid our ability to better visualize future results and overall a better understanding of the features with great impact. Notable examples are Term, Approval Fiscal Year, and Disbursement Gross. These dropped bottom features only held 0.0301 of feature importance cumulatively. For other modeling techniques, we will only drop these predictors when necessary."
   ]
  },
  {
   "cell_type": "markdown",
   "metadata": {
    "id": "qfgS3jfwOhgw"
   },
   "source": [
    "As we can see, Entropy overall improved both the accuracy and recall of our various ensemble methods. However, Bagging provided the highest accuracy and recall making it the obvious choice for future applications. By selecting the model with highest recall, we will minimize losses and maximize profit. However with our new understanding, we must exmperiment with other modeling straetgies."
   ]
  },
  {
   "cell_type": "markdown",
   "metadata": {
    "id": "02HY5TnZtB2x"
   },
   "source": [
    "The model suggests that to minimize losses and maximize profits, you should only grant loans to applicants where the model predicts a less than 55% chance of default. This would maximize profits and reduce risk. This cutoff point helps achieve a high f1 score balancing  between identifying potential defaults and avoiding unnecessary loan rejections."
   ]
  },
  {
   "cell_type": "markdown",
   "metadata": {
    "id": "z6gkkKV66j70"
   },
   "source": [
    "# FINAL CHOOSEN MODEL"
   ]
  },
  {
   "cell_type": "markdown",
   "metadata": {
    "id": "GdRDC95CK_LM"
   },
   "source": [
    "Review this portion after analyzing all other models"
   ]
  },
  {
   "cell_type": "markdown",
   "metadata": {
    "id": "QIndA1OrJ67S"
   },
   "source": [
    "Based on a comparison of all modeling techniques and accuracy measures, the bagging model of the decision tree classifier performed all other models. This model will provide the highest net profit on this basis. Choosing this as our final model selection we will complete the following objectives"
   ]
  },
  {
   "cell_type": "markdown",
   "metadata": {
    "id": "W2SwW6Fz6nyl"
   },
   "source": [
    "1) Use the estimated probabilities (propensities) from your chosen model as a basis for selecting the least risky loan application first, followed by more risky loan applications.\n",
    "\n",
    "---\n",
    "\n",
    " 2) Create a vector containing the net profit for each loan application in the validation set. Use this vector\n",
    "to create gains and lift charts for the validation set that incorporates the net profit.\n",
    "\n",
    "---\n",
    "\n",
    " 3) How far into the validation data should you go to get maximum net profit?\n",
    "\n",
    "\n",
    "---\n",
    "\n",
    "4)  If this model is used to score to future loan applicants, what “probability of success” cut-off should be used in granting the loan and extending credit?\n"
   ]
  },
  {
   "cell_type": "markdown",
   "metadata": {
    "id": "JWyfStl9KAZ5"
   },
   "source": [
    "1)"
   ]
  },
  {
   "cell_type": "code",
   "execution_count": null,
   "metadata": {
    "id": "CJrBFdSz6l9j"
   },
   "outputs": [],
   "source": [
    "valid_X['PD'] = bagging.predict_proba(valid_X)[:, 1]\n",
    "\n",
    "valid_X_sorted = valid_X.sort_values(by=['PD'], ascending=True)\n",
    "\n",
    "least_risky_loan = valid_X_sorted.iloc[0]\n"
   ]
  },
  {
   "cell_type": "markdown",
   "metadata": {
    "id": "c-_dEneQKBkZ"
   },
   "source": [
    "2)"
   ]
  },
  {
   "cell_type": "code",
   "execution_count": null,
   "metadata": {
    "id": "uEzPZrQnKB-W"
   },
   "outputs": [],
   "source": [
    "valid_X['Net Profit'] = 0\n",
    "valid_X.loc[(valid_y['Default_CHGOFF'] == 0) & (valid_X['PD'] < best_cutoff), 'Net Profit'] = 0.05 * valid_X.loc[(valid_y['Default_CHGOFF'] == 0) & (valid_X['PD'] < best_cutoff), 'DisbursementGross']  # Profit for correctly predicted PIF loans\n",
    "valid_X.loc[(valid_y['Default_CHGOFF'] == 1) & (valid_X['PD'] >= best_cutoff), 'Net Profit'] = 0  # No profit for correctly predicted default loans\n",
    "valid_X.loc[(valid_y['Default_CHGOFF'] == 0) & (valid_X['PD'] >= best_cutoff), 'Net Profit'] = 0  # No profit for incorrectly predicted default loans (false positive)\n",
    "valid_X.loc[(valid_y['Default_CHGOFF'] == 1) & (valid_X['PD'] < best_cutoff), 'Net Profit'] = -0.25 * valid_X.loc[(valid_y['Default_CHGOFF'] == 1) & (valid_X['PD'] < best_cutoff), 'DisbursementGross']  # Loss for incorrectly predicted PIF loans (false negative)\n",
    "net_profit_vector = valid_X['Net Profit'].values\n",
    "\n",
    "gainsChart(net_profit_vector, figsize=[5, 5])\n",
    "liftChart(net_profit_vector, figsize=[5, 5])\n",
    "\n",
    "plt.show()\n"
   ]
  },
  {
   "cell_type": "markdown",
   "metadata": {
    "id": "m4koh8bmKHZd"
   },
   "source": [
    "3)"
   ]
  },
  {
   "cell_type": "code",
   "execution_count": null,
   "metadata": {
    "id": "5kC98UnsKHwm"
   },
   "outputs": [],
   "source": [
    "valid_X_sorted['Cumulative Profit'] = valid_X_sorted['Net Profit'].cumsum()\n",
    "max_profit_index = valid_X_sorted['Cumulative Profit'].idxmax()\n",
    "\n",
    "depth_into_data = max_profit_index + 1\n",
    "\n",
    "print(f\"Maximum net profit is achieved by granting loans to the first {depth_into_data} applicants in the sorted validation data.\")\n"
   ]
  },
  {
   "cell_type": "markdown",
   "metadata": {
    "id": "_f8spcFiKjOT"
   },
   "source": [
    "4) As we showed above, the optimal cutoff for maximizing net profit for futre loan predicitions using our best model (bagging Decision tree Classifier)\n",
    "is **0.45**"
   ]
  },
  {
   "cell_type": "code",
   "execution_count": null,
   "metadata": {
    "id": "mqmkEdxGK1N1"
   },
   "outputs": [],
   "source": []
  }
 ],
 "metadata": {
  "colab": {
   "provenance": []
  },
  "kernelspec": {
   "display_name": "Python 3 (ipykernel)",
   "language": "python",
   "name": "python3"
  },
  "language_info": {
   "codemirror_mode": {
    "name": "ipython",
    "version": 3
   },
   "file_extension": ".py",
   "mimetype": "text/x-python",
   "name": "python",
   "nbconvert_exporter": "python",
   "pygments_lexer": "ipython3",
   "version": "3.11.5"
  }
 },
 "nbformat": 4,
 "nbformat_minor": 4
}

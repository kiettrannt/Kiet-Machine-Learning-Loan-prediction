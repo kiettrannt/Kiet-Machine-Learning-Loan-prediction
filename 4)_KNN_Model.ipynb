{
 "cells": [
  {
   "cell_type": "code",
   "execution_count": null,
   "metadata": {
    "colab": {
     "base_uri": "https://localhost:8080/"
    },
    "id": "9a76fX6My7iM",
    "outputId": "fc17a008-4d88-4880-c005-19b15f75bf8a"
   },
   "outputs": [
    {
     "name": "stdout",
     "output_type": "stream",
     "text": [
      "Requirement already satisfied: DMBA in /usr/local/lib/python3.10/dist-packages (0.2.4)\n",
      "Requirement already satisfied: mord in /usr/local/lib/python3.10/dist-packages (0.7)\n",
      "Requirement already satisfied: prince in /usr/local/lib/python3.10/dist-packages (0.14.0)\n",
      "Requirement already satisfied: graphviz in /usr/local/lib/python3.10/dist-packages (from DMBA) (0.20.3)\n",
      "Requirement already satisfied: matplotlib in /usr/local/lib/python3.10/dist-packages (from DMBA) (3.8.0)\n",
      "Requirement already satisfied: numpy in /usr/local/lib/python3.10/dist-packages (from DMBA) (1.26.4)\n",
      "Requirement already satisfied: pandas in /usr/local/lib/python3.10/dist-packages (from DMBA) (2.2.2)\n",
      "Requirement already satisfied: scikit-learn in /usr/local/lib/python3.10/dist-packages (from DMBA) (1.5.2)\n",
      "Requirement already satisfied: scipy in /usr/local/lib/python3.10/dist-packages (from DMBA) (1.13.1)\n",
      "Requirement already satisfied: altair<6.0.0,>=5.0.0 in /usr/local/lib/python3.10/dist-packages (from prince) (5.5.0)\n",
      "Requirement already satisfied: jinja2 in /usr/local/lib/python3.10/dist-packages (from altair<6.0.0,>=5.0.0->prince) (3.1.4)\n",
      "Requirement already satisfied: jsonschema>=3.0 in /usr/local/lib/python3.10/dist-packages (from altair<6.0.0,>=5.0.0->prince) (4.23.0)\n",
      "Requirement already satisfied: narwhals>=1.14.2 in /usr/local/lib/python3.10/dist-packages (from altair<6.0.0,>=5.0.0->prince) (1.15.0)\n",
      "Requirement already satisfied: packaging in /usr/local/lib/python3.10/dist-packages (from altair<6.0.0,>=5.0.0->prince) (24.2)\n",
      "Requirement already satisfied: typing-extensions>=4.10.0 in /usr/local/lib/python3.10/dist-packages (from altair<6.0.0,>=5.0.0->prince) (4.12.2)\n",
      "Requirement already satisfied: python-dateutil>=2.8.2 in /usr/local/lib/python3.10/dist-packages (from pandas->DMBA) (2.8.2)\n",
      "Requirement already satisfied: pytz>=2020.1 in /usr/local/lib/python3.10/dist-packages (from pandas->DMBA) (2024.2)\n",
      "Requirement already satisfied: tzdata>=2022.7 in /usr/local/lib/python3.10/dist-packages (from pandas->DMBA) (2024.2)\n",
      "Requirement already satisfied: joblib>=1.2.0 in /usr/local/lib/python3.10/dist-packages (from scikit-learn->DMBA) (1.4.2)\n",
      "Requirement already satisfied: threadpoolctl>=3.1.0 in /usr/local/lib/python3.10/dist-packages (from scikit-learn->DMBA) (3.5.0)\n",
      "Requirement already satisfied: contourpy>=1.0.1 in /usr/local/lib/python3.10/dist-packages (from matplotlib->DMBA) (1.3.1)\n",
      "Requirement already satisfied: cycler>=0.10 in /usr/local/lib/python3.10/dist-packages (from matplotlib->DMBA) (0.12.1)\n",
      "Requirement already satisfied: fonttools>=4.22.0 in /usr/local/lib/python3.10/dist-packages (from matplotlib->DMBA) (4.55.0)\n",
      "Requirement already satisfied: kiwisolver>=1.0.1 in /usr/local/lib/python3.10/dist-packages (from matplotlib->DMBA) (1.4.7)\n",
      "Requirement already satisfied: pillow>=6.2.0 in /usr/local/lib/python3.10/dist-packages (from matplotlib->DMBA) (11.0.0)\n",
      "Requirement already satisfied: pyparsing>=2.3.1 in /usr/local/lib/python3.10/dist-packages (from matplotlib->DMBA) (3.2.0)\n",
      "Requirement already satisfied: attrs>=22.2.0 in /usr/local/lib/python3.10/dist-packages (from jsonschema>=3.0->altair<6.0.0,>=5.0.0->prince) (24.2.0)\n",
      "Requirement already satisfied: jsonschema-specifications>=2023.03.6 in /usr/local/lib/python3.10/dist-packages (from jsonschema>=3.0->altair<6.0.0,>=5.0.0->prince) (2024.10.1)\n",
      "Requirement already satisfied: referencing>=0.28.4 in /usr/local/lib/python3.10/dist-packages (from jsonschema>=3.0->altair<6.0.0,>=5.0.0->prince) (0.35.1)\n",
      "Requirement already satisfied: rpds-py>=0.7.1 in /usr/local/lib/python3.10/dist-packages (from jsonschema>=3.0->altair<6.0.0,>=5.0.0->prince) (0.21.0)\n",
      "Requirement already satisfied: six>=1.5 in /usr/local/lib/python3.10/dist-packages (from python-dateutil>=2.8.2->pandas->DMBA) (1.16.0)\n",
      "Requirement already satisfied: MarkupSafe>=2.0 in /usr/local/lib/python3.10/dist-packages (from jinja2->altair<6.0.0,>=5.0.0->prince) (3.0.2)\n"
     ]
    }
   ],
   "source": [
    "!pip install DMBA mord prince"
   ]
  },
  {
   "cell_type": "code",
   "execution_count": null,
   "metadata": {
    "colab": {
     "base_uri": "https://localhost:8080/"
    },
    "id": "y8XbCM8Cy75j",
    "outputId": "9d6de7f8-601e-4e26-ff80-8a931570309f"
   },
   "outputs": [
    {
     "name": "stdout",
     "output_type": "stream",
     "text": [
      "Colab environment detected.\n",
      "3.10.12 (main, Nov  6 2024, 20:22:13) [GCC 11.4.0]\n",
      "The scikit-learn version is 1.5.2.\n"
     ]
    }
   ],
   "source": [
    "%matplotlib inline\n",
    "from pathlib import Path\n",
    "import numpy as np\n",
    "import pandas as pd\n",
    "from sklearn.impute import KNNImputer\n",
    "from sklearn.linear_model import LogisticRegression, LogisticRegressionCV\n",
    "from sklearn.model_selection import train_test_split\n",
    "import statsmodels.api as sm\n",
    "import statsmodels.formula.api as smf\n",
    "from mord import LogisticIT\n",
    "import matplotlib.pylab as plt\n",
    "import seaborn as sns\n",
    "from dmba import classificationSummary, gainsChart, liftChart\n",
    "from dmba.metric import AIC_score\n",
    "from sklearn.decomposition import PCA\n",
    "from sklearn.neighbors import KNeighborsClassifier\n",
    "from sklearn.metrics import accuracy_score, precision_score, recall_score, f1_score\n",
    "import math\n",
    "import numpy as np\n",
    "import statsmodels.api as sm\n",
    "import statsmodels.formula.api as smf\n",
    "import sys\n",
    "import sklearn\n",
    "from sklearn.metrics import confusion_matrix\n",
    "from sklearn.preprocessing import StandardScaler\n",
    "import prince\n",
    "from sklearn import preprocessing\n",
    "from sklearn.metrics import roc_curve, auc\n",
    "print(sys.version)\n",
    "print('The scikit-learn version is {}.'.format(sklearn.__version__))"
   ]
  },
  {
   "cell_type": "code",
   "execution_count": null,
   "metadata": {
    "colab": {
     "base_uri": "https://localhost:8080/"
    },
    "id": "saolhyGDuvrx",
    "outputId": "9e0cf3c5-3d1e-4275-c21f-fa10b1048b10"
   },
   "outputs": [
    {
     "name": "stdout",
     "output_type": "stream",
     "text": [
      "Drive already mounted at /content/drive; to attempt to forcibly remount, call drive.mount(\"/content/drive\", force_remount=True).\n"
     ]
    }
   ],
   "source": [
    "from google.colab import drive\n",
    "drive.mount('/content/drive')"
   ]
  },
  {
   "cell_type": "code",
   "execution_count": null,
   "metadata": {
    "id": "B4s4-kS-yuhE"
   },
   "outputs": [],
   "source": [
    "DATA = Path('/content/drive/My Drive/Colab Notebooks/Analytics Competition/')"
   ]
  },
  {
   "cell_type": "code",
   "execution_count": null,
   "metadata": {
    "colab": {
     "base_uri": "https://localhost:8080/",
     "height": 255
    },
    "id": "koZPS0W6y3ts",
    "outputId": "d3cc15a0-d1cf-4816-b645-8a5d5cd21bed"
   },
   "outputs": [
    {
     "data": {
      "application/vnd.google.colaboratory.intrinsic+json": {
       "type": "dataframe",
       "variable_name": "train_X"
      },
      "text/html": [
       "\n",
       "  <div id=\"df-63561d98-1f9d-4115-84bd-fb183e7e83fa\" class=\"colab-df-container\">\n",
       "    <div>\n",
       "<style scoped>\n",
       "    .dataframe tbody tr th:only-of-type {\n",
       "        vertical-align: middle;\n",
       "    }\n",
       "\n",
       "    .dataframe tbody tr th {\n",
       "        vertical-align: top;\n",
       "    }\n",
       "\n",
       "    .dataframe thead th {\n",
       "        text-align: right;\n",
       "    }\n",
       "</style>\n",
       "<table border=\"1\" class=\"dataframe\">\n",
       "  <thead>\n",
       "    <tr style=\"text-align: right;\">\n",
       "      <th></th>\n",
       "      <th>ApprovalFY</th>\n",
       "      <th>Term</th>\n",
       "      <th>NoEmp</th>\n",
       "      <th>CreateJob</th>\n",
       "      <th>RetainedJob</th>\n",
       "      <th>DisbursementGross</th>\n",
       "      <th>BalanceGross</th>\n",
       "      <th>GrAppv</th>\n",
       "      <th>Franchise_Dummy</th>\n",
       "      <th>RevLineCr_N</th>\n",
       "      <th>...</th>\n",
       "      <th>State_TN</th>\n",
       "      <th>State_VT</th>\n",
       "      <th>State_WA</th>\n",
       "      <th>State_WI</th>\n",
       "      <th>State_WV</th>\n",
       "      <th>IndustryCode_Other</th>\n",
       "      <th>IndustryCode_Real_Estate</th>\n",
       "      <th>UrbanRural_0</th>\n",
       "      <th>UrbanRural_1</th>\n",
       "      <th>UrbanRural_2</th>\n",
       "    </tr>\n",
       "  </thead>\n",
       "  <tbody>\n",
       "    <tr>\n",
       "      <th>0</th>\n",
       "      <td>1996</td>\n",
       "      <td>84</td>\n",
       "      <td>8</td>\n",
       "      <td>0</td>\n",
       "      <td>0</td>\n",
       "      <td>85000.0</td>\n",
       "      <td>0.0</td>\n",
       "      <td>85000.0</td>\n",
       "      <td>0</td>\n",
       "      <td>1</td>\n",
       "      <td>...</td>\n",
       "      <td>0</td>\n",
       "      <td>0</td>\n",
       "      <td>0</td>\n",
       "      <td>0</td>\n",
       "      <td>0</td>\n",
       "      <td>1</td>\n",
       "      <td>0</td>\n",
       "      <td>1</td>\n",
       "      <td>0</td>\n",
       "      <td>0</td>\n",
       "    </tr>\n",
       "    <tr>\n",
       "      <th>1</th>\n",
       "      <td>2002</td>\n",
       "      <td>84</td>\n",
       "      <td>7</td>\n",
       "      <td>1</td>\n",
       "      <td>7</td>\n",
       "      <td>50000.0</td>\n",
       "      <td>0.0</td>\n",
       "      <td>50000.0</td>\n",
       "      <td>0</td>\n",
       "      <td>0</td>\n",
       "      <td>...</td>\n",
       "      <td>0</td>\n",
       "      <td>0</td>\n",
       "      <td>0</td>\n",
       "      <td>0</td>\n",
       "      <td>0</td>\n",
       "      <td>0</td>\n",
       "      <td>0</td>\n",
       "      <td>0</td>\n",
       "      <td>1</td>\n",
       "      <td>0</td>\n",
       "    </tr>\n",
       "    <tr>\n",
       "      <th>2</th>\n",
       "      <td>2005</td>\n",
       "      <td>68</td>\n",
       "      <td>11</td>\n",
       "      <td>0</td>\n",
       "      <td>0</td>\n",
       "      <td>150000.0</td>\n",
       "      <td>0.0</td>\n",
       "      <td>150000.0</td>\n",
       "      <td>0</td>\n",
       "      <td>0</td>\n",
       "      <td>...</td>\n",
       "      <td>0</td>\n",
       "      <td>0</td>\n",
       "      <td>0</td>\n",
       "      <td>0</td>\n",
       "      <td>0</td>\n",
       "      <td>0</td>\n",
       "      <td>0</td>\n",
       "      <td>0</td>\n",
       "      <td>1</td>\n",
       "      <td>0</td>\n",
       "    </tr>\n",
       "    <tr>\n",
       "      <th>3</th>\n",
       "      <td>2005</td>\n",
       "      <td>69</td>\n",
       "      <td>15</td>\n",
       "      <td>0</td>\n",
       "      <td>15</td>\n",
       "      <td>11600.0</td>\n",
       "      <td>0.0</td>\n",
       "      <td>11600.0</td>\n",
       "      <td>0</td>\n",
       "      <td>0</td>\n",
       "      <td>...</td>\n",
       "      <td>0</td>\n",
       "      <td>0</td>\n",
       "      <td>0</td>\n",
       "      <td>1</td>\n",
       "      <td>0</td>\n",
       "      <td>0</td>\n",
       "      <td>0</td>\n",
       "      <td>0</td>\n",
       "      <td>1</td>\n",
       "      <td>0</td>\n",
       "    </tr>\n",
       "    <tr>\n",
       "      <th>4</th>\n",
       "      <td>1999</td>\n",
       "      <td>240</td>\n",
       "      <td>14</td>\n",
       "      <td>7</td>\n",
       "      <td>7</td>\n",
       "      <td>221000.0</td>\n",
       "      <td>0.0</td>\n",
       "      <td>221000.0</td>\n",
       "      <td>0</td>\n",
       "      <td>1</td>\n",
       "      <td>...</td>\n",
       "      <td>0</td>\n",
       "      <td>0</td>\n",
       "      <td>0</td>\n",
       "      <td>0</td>\n",
       "      <td>0</td>\n",
       "      <td>0</td>\n",
       "      <td>0</td>\n",
       "      <td>1</td>\n",
       "      <td>0</td>\n",
       "      <td>0</td>\n",
       "    </tr>\n",
       "  </tbody>\n",
       "</table>\n",
       "<p>5 rows × 67 columns</p>\n",
       "</div>\n",
       "    <div class=\"colab-df-buttons\">\n",
       "\n",
       "  <div class=\"colab-df-container\">\n",
       "    <button class=\"colab-df-convert\" onclick=\"convertToInteractive('df-63561d98-1f9d-4115-84bd-fb183e7e83fa')\"\n",
       "            title=\"Convert this dataframe to an interactive table.\"\n",
       "            style=\"display:none;\">\n",
       "\n",
       "  <svg xmlns=\"http://www.w3.org/2000/svg\" height=\"24px\" viewBox=\"0 -960 960 960\">\n",
       "    <path d=\"M120-120v-720h720v720H120Zm60-500h600v-160H180v160Zm220 220h160v-160H400v160Zm0 220h160v-160H400v160ZM180-400h160v-160H180v160Zm440 0h160v-160H620v160ZM180-180h160v-160H180v160Zm440 0h160v-160H620v160Z\"/>\n",
       "  </svg>\n",
       "    </button>\n",
       "\n",
       "  <style>\n",
       "    .colab-df-container {\n",
       "      display:flex;\n",
       "      gap: 12px;\n",
       "    }\n",
       "\n",
       "    .colab-df-convert {\n",
       "      background-color: #E8F0FE;\n",
       "      border: none;\n",
       "      border-radius: 50%;\n",
       "      cursor: pointer;\n",
       "      display: none;\n",
       "      fill: #1967D2;\n",
       "      height: 32px;\n",
       "      padding: 0 0 0 0;\n",
       "      width: 32px;\n",
       "    }\n",
       "\n",
       "    .colab-df-convert:hover {\n",
       "      background-color: #E2EBFA;\n",
       "      box-shadow: 0px 1px 2px rgba(60, 64, 67, 0.3), 0px 1px 3px 1px rgba(60, 64, 67, 0.15);\n",
       "      fill: #174EA6;\n",
       "    }\n",
       "\n",
       "    .colab-df-buttons div {\n",
       "      margin-bottom: 4px;\n",
       "    }\n",
       "\n",
       "    [theme=dark] .colab-df-convert {\n",
       "      background-color: #3B4455;\n",
       "      fill: #D2E3FC;\n",
       "    }\n",
       "\n",
       "    [theme=dark] .colab-df-convert:hover {\n",
       "      background-color: #434B5C;\n",
       "      box-shadow: 0px 1px 3px 1px rgba(0, 0, 0, 0.15);\n",
       "      filter: drop-shadow(0px 1px 2px rgba(0, 0, 0, 0.3));\n",
       "      fill: #FFFFFF;\n",
       "    }\n",
       "  </style>\n",
       "\n",
       "    <script>\n",
       "      const buttonEl =\n",
       "        document.querySelector('#df-63561d98-1f9d-4115-84bd-fb183e7e83fa button.colab-df-convert');\n",
       "      buttonEl.style.display =\n",
       "        google.colab.kernel.accessAllowed ? 'block' : 'none';\n",
       "\n",
       "      async function convertToInteractive(key) {\n",
       "        const element = document.querySelector('#df-63561d98-1f9d-4115-84bd-fb183e7e83fa');\n",
       "        const dataTable =\n",
       "          await google.colab.kernel.invokeFunction('convertToInteractive',\n",
       "                                                    [key], {});\n",
       "        if (!dataTable) return;\n",
       "\n",
       "        const docLinkHtml = 'Like what you see? Visit the ' +\n",
       "          '<a target=\"_blank\" href=https://colab.research.google.com/notebooks/data_table.ipynb>data table notebook</a>'\n",
       "          + ' to learn more about interactive tables.';\n",
       "        element.innerHTML = '';\n",
       "        dataTable['output_type'] = 'display_data';\n",
       "        await google.colab.output.renderOutput(dataTable, element);\n",
       "        const docLink = document.createElement('div');\n",
       "        docLink.innerHTML = docLinkHtml;\n",
       "        element.appendChild(docLink);\n",
       "      }\n",
       "    </script>\n",
       "  </div>\n",
       "\n",
       "\n",
       "<div id=\"df-ba1679c1-78c9-447d-a645-3c552118d7d2\">\n",
       "  <button class=\"colab-df-quickchart\" onclick=\"quickchart('df-ba1679c1-78c9-447d-a645-3c552118d7d2')\"\n",
       "            title=\"Suggest charts\"\n",
       "            style=\"display:none;\">\n",
       "\n",
       "<svg xmlns=\"http://www.w3.org/2000/svg\" height=\"24px\"viewBox=\"0 0 24 24\"\n",
       "     width=\"24px\">\n",
       "    <g>\n",
       "        <path d=\"M19 3H5c-1.1 0-2 .9-2 2v14c0 1.1.9 2 2 2h14c1.1 0 2-.9 2-2V5c0-1.1-.9-2-2-2zM9 17H7v-7h2v7zm4 0h-2V7h2v10zm4 0h-2v-4h2v4z\"/>\n",
       "    </g>\n",
       "</svg>\n",
       "  </button>\n",
       "\n",
       "<style>\n",
       "  .colab-df-quickchart {\n",
       "      --bg-color: #E8F0FE;\n",
       "      --fill-color: #1967D2;\n",
       "      --hover-bg-color: #E2EBFA;\n",
       "      --hover-fill-color: #174EA6;\n",
       "      --disabled-fill-color: #AAA;\n",
       "      --disabled-bg-color: #DDD;\n",
       "  }\n",
       "\n",
       "  [theme=dark] .colab-df-quickchart {\n",
       "      --bg-color: #3B4455;\n",
       "      --fill-color: #D2E3FC;\n",
       "      --hover-bg-color: #434B5C;\n",
       "      --hover-fill-color: #FFFFFF;\n",
       "      --disabled-bg-color: #3B4455;\n",
       "      --disabled-fill-color: #666;\n",
       "  }\n",
       "\n",
       "  .colab-df-quickchart {\n",
       "    background-color: var(--bg-color);\n",
       "    border: none;\n",
       "    border-radius: 50%;\n",
       "    cursor: pointer;\n",
       "    display: none;\n",
       "    fill: var(--fill-color);\n",
       "    height: 32px;\n",
       "    padding: 0;\n",
       "    width: 32px;\n",
       "  }\n",
       "\n",
       "  .colab-df-quickchart:hover {\n",
       "    background-color: var(--hover-bg-color);\n",
       "    box-shadow: 0 1px 2px rgba(60, 64, 67, 0.3), 0 1px 3px 1px rgba(60, 64, 67, 0.15);\n",
       "    fill: var(--button-hover-fill-color);\n",
       "  }\n",
       "\n",
       "  .colab-df-quickchart-complete:disabled,\n",
       "  .colab-df-quickchart-complete:disabled:hover {\n",
       "    background-color: var(--disabled-bg-color);\n",
       "    fill: var(--disabled-fill-color);\n",
       "    box-shadow: none;\n",
       "  }\n",
       "\n",
       "  .colab-df-spinner {\n",
       "    border: 2px solid var(--fill-color);\n",
       "    border-color: transparent;\n",
       "    border-bottom-color: var(--fill-color);\n",
       "    animation:\n",
       "      spin 1s steps(1) infinite;\n",
       "  }\n",
       "\n",
       "  @keyframes spin {\n",
       "    0% {\n",
       "      border-color: transparent;\n",
       "      border-bottom-color: var(--fill-color);\n",
       "      border-left-color: var(--fill-color);\n",
       "    }\n",
       "    20% {\n",
       "      border-color: transparent;\n",
       "      border-left-color: var(--fill-color);\n",
       "      border-top-color: var(--fill-color);\n",
       "    }\n",
       "    30% {\n",
       "      border-color: transparent;\n",
       "      border-left-color: var(--fill-color);\n",
       "      border-top-color: var(--fill-color);\n",
       "      border-right-color: var(--fill-color);\n",
       "    }\n",
       "    40% {\n",
       "      border-color: transparent;\n",
       "      border-right-color: var(--fill-color);\n",
       "      border-top-color: var(--fill-color);\n",
       "    }\n",
       "    60% {\n",
       "      border-color: transparent;\n",
       "      border-right-color: var(--fill-color);\n",
       "    }\n",
       "    80% {\n",
       "      border-color: transparent;\n",
       "      border-right-color: var(--fill-color);\n",
       "      border-bottom-color: var(--fill-color);\n",
       "    }\n",
       "    90% {\n",
       "      border-color: transparent;\n",
       "      border-bottom-color: var(--fill-color);\n",
       "    }\n",
       "  }\n",
       "</style>\n",
       "\n",
       "  <script>\n",
       "    async function quickchart(key) {\n",
       "      const quickchartButtonEl =\n",
       "        document.querySelector('#' + key + ' button');\n",
       "      quickchartButtonEl.disabled = true;  // To prevent multiple clicks.\n",
       "      quickchartButtonEl.classList.add('colab-df-spinner');\n",
       "      try {\n",
       "        const charts = await google.colab.kernel.invokeFunction(\n",
       "            'suggestCharts', [key], {});\n",
       "      } catch (error) {\n",
       "        console.error('Error during call to suggestCharts:', error);\n",
       "      }\n",
       "      quickchartButtonEl.classList.remove('colab-df-spinner');\n",
       "      quickchartButtonEl.classList.add('colab-df-quickchart-complete');\n",
       "    }\n",
       "    (() => {\n",
       "      let quickchartButtonEl =\n",
       "        document.querySelector('#df-ba1679c1-78c9-447d-a645-3c552118d7d2 button');\n",
       "      quickchartButtonEl.style.display =\n",
       "        google.colab.kernel.accessAllowed ? 'block' : 'none';\n",
       "    })();\n",
       "  </script>\n",
       "</div>\n",
       "\n",
       "    </div>\n",
       "  </div>\n"
      ],
      "text/plain": [
       "   ApprovalFY  Term  NoEmp  CreateJob  RetainedJob  DisbursementGross  \\\n",
       "0        1996    84      8          0            0            85000.0   \n",
       "1        2002    84      7          1            7            50000.0   \n",
       "2        2005    68     11          0            0           150000.0   \n",
       "3        2005    69     15          0           15            11600.0   \n",
       "4        1999   240     14          7            7           221000.0   \n",
       "\n",
       "   BalanceGross    GrAppv  Franchise_Dummy  RevLineCr_N  ...  State_TN  \\\n",
       "0           0.0   85000.0                0            1  ...         0   \n",
       "1           0.0   50000.0                0            0  ...         0   \n",
       "2           0.0  150000.0                0            0  ...         0   \n",
       "3           0.0   11600.0                0            0  ...         0   \n",
       "4           0.0  221000.0                0            1  ...         0   \n",
       "\n",
       "   State_VT  State_WA  State_WI  State_WV  IndustryCode_Other  \\\n",
       "0         0         0         0         0                   1   \n",
       "1         0         0         0         0                   0   \n",
       "2         0         0         0         0                   0   \n",
       "3         0         0         1         0                   0   \n",
       "4         0         0         0         0                   0   \n",
       "\n",
       "   IndustryCode_Real_Estate  UrbanRural_0  UrbanRural_1  UrbanRural_2  \n",
       "0                         0             1             0             0  \n",
       "1                         0             0             1             0  \n",
       "2                         0             0             1             0  \n",
       "3                         0             0             1             0  \n",
       "4                         0             1             0             0  \n",
       "\n",
       "[5 rows x 67 columns]"
      ]
     },
     "execution_count": 5,
     "metadata": {},
     "output_type": "execute_result"
    }
   ],
   "source": [
    "train_X = pd.read_csv(DATA / 'train_X.csv')\n",
    "valid_X = pd.read_csv(DATA / 'valid_X.csv')\n",
    "train_y = pd.read_csv(DATA / 'train_y.csv')\n",
    "valid_y = pd.read_csv(DATA / 'valid_y.csv')\n",
    "\n",
    "train_X.head()"
   ]
  },
  {
   "cell_type": "markdown",
   "metadata": {
    "id": "TlNO9eeU06nz"
   },
   "source": [
    "###KNN Modeling"
   ]
  },
  {
   "cell_type": "markdown",
   "metadata": {
    "id": "0FXIYxJ5m1HL"
   },
   "source": [
    "Our hardware was struggling with KNN modeling with this dataset due to its large size. To aid with this, we implemented Multiple Component Analysis (MCA). While originally considering Principle Component Analysis (PCA), PCA is tyipcally used for continous data onyl. However, MCA works well for our highly dimensional dataset with binary dummies. MCA aims to reduce the dimensionality of a dataset while keeping most of the information. New varaibles called \"components\" are created which are actually the original features as new combinations. This will help the efficency of our KNN modeling."
   ]
  },
  {
   "cell_type": "code",
   "execution_count": null,
   "metadata": {
    "id": "ZQS8xMRx1Bxa"
   },
   "outputs": [],
   "source": [
    "numerical_features = ['ApprovalFY', 'Term', 'NoEmp', 'CreateJob', 'RetainedJob', 'DisbursementGross',\n",
    "                      'BalanceGross', 'GrAppv']\n",
    "categorical_features = ['Franchise_Dummy', 'RevLineCr_N', 'RevLineCr_Other', 'RevLineCr_Y',\n",
    "                        'LowDoc_N', 'LowDoc_Other', 'LowDoc_Y', 'NewExist_Existing',\n",
    "                        'NewExist_New', 'NewExist_Other', 'State_GA_NV', 'State_IL_MI',\n",
    "                        'State_NJ_SC_NY_MD', 'State_TX_CA_DE_KY_VA', 'State_CO_IN_MA',\n",
    "                        'State_UT_WY_ND_SD', 'Industry_Finan_Trans', 'Industry_Edu_Info_Admin',\n",
    "                        'Industry_Const_Retail', 'Industry_Food_Arts', 'Industry_Other_Whole_Prof',\n",
    "                        'Industry_Util_Manu_Pub', 'Industry_Health_Mgmt_Mining_Agri', 'State_AK',\n",
    "                        'State_AL', 'State_AR', 'State_AZ', 'State_CT', 'State_DC', 'State_FL',\n",
    "                        'State_HI', 'State_IA', 'State_ID', 'State_KS', 'State_LA', 'State_ME',\n",
    "                        'State_MN', 'State_MO', 'State_MS', 'State_MT', 'State_NC', 'State_NE',\n",
    "                        'State_NH', 'State_NM', 'State_OH', 'State_OK', 'State_OR', 'State_PA',\n",
    "                        'State_RI', 'State_TN', 'State_VT', 'State_WA', 'State_WI', 'State_WV',\n",
    "                        'IndustryCode_Other', 'IndustryCode_Real_Estate', 'UrbanRural_0',\n",
    "                        'UrbanRural_1', 'UrbanRural_2']\n",
    "\n",
    "mca = prince.MCA(n_components=5, n_iter=3, copy=True, check_input=True, engine='sklearn', random_state=42)\n",
    "train_X_mca = mca.fit_transform(train_X[categorical_features])\n",
    "valid_X_mca = mca.transform(valid_X[categorical_features])\n",
    "\n",
    "scaler = StandardScaler()\n",
    "train_X_num_scaled = scaler.fit_transform(train_X[numerical_features])\n",
    "valid_X_num_scaled = scaler.transform(valid_X[numerical_features])\n",
    "\n",
    "train_X_combined = pd.concat([pd.DataFrame(train_X_mca),\n",
    "                             pd.DataFrame(train_X_num_scaled, columns=numerical_features, index=train_X.index)], axis=1)\n",
    "valid_X_combined = pd.concat([pd.DataFrame(valid_X_mca),\n",
    "                             pd.DataFrame(valid_X_num_scaled, columns=numerical_features, index=valid_X.index)], axis=1)"
   ]
  },
  {
   "cell_type": "code",
   "execution_count": null,
   "metadata": {
    "id": "qz-itVnerHCP"
   },
   "outputs": [],
   "source": [
    "train_X_combined.columns = train_X_combined.columns.astype(str)\n",
    "valid_X_combined.columns = valid_X_combined.columns.astype(str)"
   ]
  },
  {
   "cell_type": "markdown",
   "metadata": {
    "id": "RWcGZyW0tAMA"
   },
   "source": [
    "Determine Best K value for Recall:"
   ]
  },
  {
   "cell_type": "markdown",
   "metadata": {
    "id": "WtqiloPZbkrE"
   },
   "source": [
    "Despite letting this code run for several hours on multiple occasions, the computaional load is too high. Given the right resources we would run this code prior to determinnig the best K value. Due to this unablity, we will simply assume that 1 was the best-provided value."
   ]
  },
  {
   "cell_type": "code",
   "execution_count": null,
   "metadata": {
    "id": "5fp6-REUs_w8"
   },
   "outputs": [],
   "source": [
    "#results = []\n",
    "#for k in range(1, 15):\n",
    "   # knn = KNeighborsClassifier(n_neighbors=k).fit(train_X_combined, train_y.values.ravel())\n",
    "   # results.append({\n",
    "       # 'k': k,\n",
    "      #  'score': recall_score(valid_y, knn.predict(valid_X_combined))\n",
    "  #  })\n",
    "\n",
    "#results = pd.DataFrame(results)\n",
    "#print(results.sort_values(by='score', ascending=False))"
   ]
  },
  {
   "cell_type": "markdown",
   "metadata": {
    "id": "QshuurRVrFty"
   },
   "source": [
    "We will be using a Kneighbors Classifier as opposed to a Regressor. The classifier is used for discrete predictions while the regressor is used for continuous."
   ]
  },
  {
   "cell_type": "code",
   "execution_count": null,
   "metadata": {
    "colab": {
     "base_uri": "https://localhost:8080/"
    },
    "id": "j__Ql44FmYJ7",
    "outputId": "d7a9418d-0fbd-454a-8d4c-5112bbfceb2c"
   },
   "outputs": [
    {
     "name": "stdout",
     "output_type": "stream",
     "text": [
      "Accuracy: 0.8906235229351677\n",
      "Precision: 0.6985060581108105\n",
      "Recall: 0.660155009211613\n",
      "F1-Score: 0.6787892643972859\n"
     ]
    }
   ],
   "source": [
    "k = 1\n",
    "\n",
    "knn = KNeighborsClassifier(n_neighbors=k).fit(train_X_combined, train_y.values.ravel())\n",
    "predictions = knn.predict(valid_X_combined)\n",
    "\n",
    "accuracy = accuracy_score(valid_y, predictions)\n",
    "precision = precision_score(valid_y, predictions)\n",
    "recall = recall_score(valid_y, predictions)\n",
    "f1 = f1_score(valid_y, predictions)\n",
    "\n",
    "print(f\"Accuracy: {accuracy}\")\n",
    "print(f\"Precision: {precision}\")\n",
    "print(f\"Recall: {recall}\")\n",
    "print(f\"F1-Score: {f1}\")"
   ]
  },
  {
   "cell_type": "markdown",
   "metadata": {
    "id": "RmNbflNnsNZ8"
   },
   "source": [
    "**Roc Curve:**"
   ]
  },
  {
   "cell_type": "code",
   "execution_count": null,
   "metadata": {
    "colab": {
     "base_uri": "https://localhost:8080/",
     "height": 472
    },
    "id": "JDkmTCAl1F2S",
    "outputId": "0b80f26e-d0c0-4177-b71a-06523ae2cc5a"
   },
   "outputs": [
    {
     "data": {
      "image/png": "[encoded data removed]",
      "text/plain": [
       "<Figure size 640x480 with 1 Axes>"
      ]
     },
     "metadata": {},
     "output_type": "display_data"
    }
   ],
   "source": [
    "y_probs = knn.predict_proba(valid_X_combined)[:, 1]\n",
    "\n",
    "# Calculate ROC curve and AUC\n",
    "fpr, tpr, thresholds = roc_curve(valid_y, y_probs)\n",
    "roc_auc = auc(fpr, tpr)\n",
    "\n",
    "# Plot ROC curve\n",
    "plt.figure()\n",
    "plt.plot(fpr, tpr, color='darkorange', lw=2, label='ROC curve (area = %0.2f)' % roc_auc)\n",
    "plt.plot([0, 1], [0, 1], color='navy', lw=2, linestyle='--')\n",
    "plt.xlim([0.0, 1.0])\n",
    "plt.ylim([0.0, 1.05])\n",
    "plt.xlabel('False Positive Rate')\n",
    "plt.ylabel('True Positive Rate')\n",
    "plt.title('Receiver Operating Characteristic')\n",
    "plt.legend(loc=\"lower right\")\n",
    "plt.show()"
   ]
  },
  {
   "cell_type": "markdown",
   "metadata": {
    "id": "cJLNalyOmXBV"
   },
   "source": [
    "This ROC curve suggests that the model is reasonably good at classification, with an AUC of 0.80 indicating solid performance."
   ]
  },
  {
   "cell_type": "markdown",
   "metadata": {
    "id": "rzBS9PcumzOp"
   },
   "source": [
    "Cut Off Determination:"
   ]
  },
  {
   "cell_type": "code",
   "execution_count": null,
   "metadata": {
    "colab": {
     "base_uri": "https://localhost:8080/"
    },
    "id": "HK_9eMoeoDbt",
    "outputId": "ebeab81e-7de2-49ff-f1fe-ec943ed848d3"
   },
   "outputs": [
    {
     "name": "stdout",
     "output_type": "stream",
     "text": [
      "Best cutoff for KNN (F1-score): 0.01\n"
     ]
    }
   ],
   "source": [
    "best_cutoff_knn = 0\n",
    "best_f1_score = 0\n",
    "\n",
    "for cutoff in np.arange(0.01, 1, 0.01):\n",
    "    predictions = (y_probs >= cutoff).astype(int)\n",
    "\n",
    "    f1 = f1_score(valid_y['Default_CHGOFF'], predictions)\n",
    "\n",
    "    if f1 > best_f1_score:\n",
    "        best_f1_score = f1\n",
    "        best_cutoff_knn = cutoff\n",
    "\n",
    "print(f\"Best cutoff for KNN (F1-score): {best_cutoff_knn}\")"
   ]
  },
  {
   "cell_type": "markdown",
   "metadata": {
    "id": "Sg3G61jhmWve"
   },
   "source": [
    "Conclusions:"
   ]
  },
  {
   "cell_type": "markdown",
   "metadata": {
    "id": "1vbqil-5pSf_"
   },
   "source": [
    "Due to the high computational demands of KNN, it was very difficult to experiemnt and fine tune our model. As we can see from the cutoff value produced, this model is not at all applicable in a real world context. From the accuracy measures produced in the model we were able to obtain, we see this model does not preform as well as our other modeling techniques so far. As far as real world application, this would be very difficult to manage for high amounts of new loan data. So regardless of the model quality, KNNs inherent difficult nature makes it not be the ideal modeling method."
   ]
  },
  {
   "cell_type": "code",
   "execution_count": null,
   "metadata": {
    "id": "SukLjtRFm2ix"
   },
   "outputs": [],
   "source": []
  }
 ],
 "metadata": {
  "colab": {
   "provenance": []
  },
  "kernelspec": {
   "display_name": "Python 3 (ipykernel)",
   "language": "python",
   "name": "python3"
  },
  "language_info": {
   "codemirror_mode": {
    "name": "ipython",
    "version": 3
   },
   "file_extension": ".py",
   "mimetype": "text/x-python",
   "name": "python",
   "nbconvert_exporter": "python",
   "pygments_lexer": "ipython3",
   "version": "3.11.5"
  }
 },
 "nbformat": 4,
 "nbformat_minor": 4
}
